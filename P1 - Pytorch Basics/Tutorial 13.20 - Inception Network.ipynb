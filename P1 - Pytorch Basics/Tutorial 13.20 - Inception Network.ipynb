{
 "cells": [
  {
   "cell_type": "code",
   "execution_count": 1,
   "metadata": {},
   "outputs": [],
   "source": [
    "import torch\n",
    "import torch.nn as nn\n",
    "import torchvision\n",
    "import torchvision.transforms as transforms\n",
    "from torchsummary import summary\n",
    "import numpy as np\n",
    "import matplotlib.pyplot as plt\n",
    "import copy\n",
    "import time"
   ]
  },
  {
   "cell_type": "code",
   "execution_count": 2,
   "metadata": {},
   "outputs": [],
   "source": [
    "torch.manual_seed(10)\n",
    "device = torch.device('mps' if torch.backends.mps.is_available() else 'cpu')"
   ]
  },
  {
   "cell_type": "code",
   "execution_count": 3,
   "metadata": {},
   "outputs": [],
   "source": [
    "mean = 0.5\n",
    "std_dev = 0.25"
   ]
  },
  {
   "cell_type": "code",
   "execution_count": 4,
   "metadata": {},
   "outputs": [],
   "source": [
    "transform1 = transforms.Compose([\n",
    "    transforms.AutoAugment(),\n",
    "    transforms.ToTensor(),\n",
    "    transforms.Normalize(mean,std_dev)\n",
    "])\n",
    "transform2 = transforms.Compose([\n",
    "    transforms.ToTensor(),\n",
    "    transforms.Normalize(mean,std_dev)\n",
    "])"
   ]
  },
  {
   "cell_type": "code",
   "execution_count": 5,
   "metadata": {},
   "outputs": [],
   "source": [
    "train_data = torchvision.datasets.MNIST(\n",
    "    root='../datasets',\n",
    "    train = True,\n",
    "    transform=transform2 #download is False in default\n",
    ")\n",
    "\n",
    "test_data = torchvision.datasets.MNIST(\n",
    "    root='../datasets',\n",
    "    train = False,\n",
    "    transform=transform2\n",
    ")"
   ]
  },
  {
   "cell_type": "code",
   "execution_count": 6,
   "metadata": {},
   "outputs": [
    {
     "data": {
      "text/plain": [
       "60000"
      ]
     },
     "execution_count": 6,
     "metadata": {},
     "output_type": "execute_result"
    }
   ],
   "source": [
    "len(train_data)"
   ]
  },
  {
   "cell_type": "code",
   "execution_count": 7,
   "metadata": {},
   "outputs": [],
   "source": [
    "num_epochs = 30\n",
    "batch_size = 256\n",
    "learning_rate = 1e-3"
   ]
  },
  {
   "cell_type": "code",
   "execution_count": 8,
   "metadata": {},
   "outputs": [],
   "source": [
    "train_loader = torch.utils.data.DataLoader(\n",
    "    dataset = train_data,\n",
    "    batch_size = batch_size,\n",
    "    shuffle = True\n",
    ")\n",
    "test_loader = torch.utils.data.DataLoader(\n",
    "    dataset = test_data,\n",
    "    batch_size = batch_size,\n",
    "    shuffle = True\n",
    ")"
   ]
  },
  {
   "cell_type": "code",
   "execution_count": 9,
   "metadata": {},
   "outputs": [
    {
     "data": {
      "text/plain": [
       "235"
      ]
     },
     "execution_count": 9,
     "metadata": {},
     "output_type": "execute_result"
    }
   ],
   "source": [
    "len(train_loader)"
   ]
  },
  {
   "cell_type": "code",
   "execution_count": 10,
   "metadata": {},
   "outputs": [],
   "source": [
    "def imshow(img, label):\n",
    "    img = img * std_dev + mean  # unnormalize\n",
    "    plt.imshow(img.reshape(img.shape[1],img.shape[2],img.shape[0]))\n",
    "    plt.title(f'Label {label}')\n",
    "    plt.show()"
   ]
  },
  {
   "cell_type": "code",
   "execution_count": 11,
   "metadata": {},
   "outputs": [
    {
     "data": {
      "image/png": "[encoded data removed]",
      "text/plain": [
       "<Figure size 640x480 with 1 Axes>"
      ]
     },
     "metadata": {},
     "output_type": "display_data"
    }
   ],
   "source": [
    "dataiter = iter(train_loader)\n",
    "images, labels = dataiter.next()\n",
    "imshow(images[2],labels[2])"
   ]
  },
  {
   "cell_type": "code",
   "execution_count": 12,
   "metadata": {},
   "outputs": [
    {
     "data": {
      "text/plain": [
       "torch.Size([256, 1, 28, 28])"
      ]
     },
     "execution_count": 12,
     "metadata": {},
     "output_type": "execute_result"
    }
   ],
   "source": [
    "images.shape"
   ]
  },
  {
   "cell_type": "code",
   "execution_count": 19,
   "metadata": {},
   "outputs": [],
   "source": [
    "class MyInceptionNetwork(nn.Module):\n",
    "    def __init__(self) -> None:\n",
    "        super(MyInceptionNetwork, self).__init__()\n",
    "        self.conv11 = nn.Conv2d(1,16,3,1,'same')\n",
    "        self.conv12 = nn.Conv2d(1,20,5,1,'same')\n",
    "        self.conv13 = nn.Conv2d(1,12,7,1,'same')\n",
    "\n",
    "        # Adding a Batch norm at every point, brings a HUGE IMPROVEMENT in ACCURACY \n",
    "        self.norm11 = nn.BatchNorm2d(12+20+16)\n",
    "\n",
    "        self.conv1 = nn.Conv2d(12+20+16, 12+20+16, 1, 1) # 28, 28, 48\n",
    "\n",
    "        self.norm12 = nn.BatchNorm2d(12+20+16)\n",
    "\n",
    "        self.conv21 = nn.Conv2d(12+20+16, 64, 3, 2, 1)\n",
    "        self.conv22 = nn.Conv2d(12+20+16, 32, 5, 2, 2)\n",
    "        self.conv23 = nn.Conv2d(12+20+16, 16, 7, 2, 3)\n",
    "\n",
    "        self.norm21 = nn.BatchNorm2d(64+32+16)\n",
    "\n",
    "        self.conv2 = nn.Conv2d(64+32+16, 64+32+16, 1, 1) # 14, 14, 112\n",
    "\n",
    "        self.norm22 = nn.BatchNorm2d(64+32+16)\n",
    "\n",
    "        self.conv31 = nn.Conv2d(64+32+16, 100, 1, 1, 0)\n",
    "        self.conv32 = nn.Conv2d(64+32+16, 100, 3, 1, 1)\n",
    "        self.conv33 = nn.Conv2d(64+32+16, 50, 5, 1, 2)\n",
    "        self.conv34 = nn.Conv2d(64+32+16, 50, 7, 1, 3)\n",
    "        self.maxpool1 = nn.MaxPool2d(3,1,padding = 1) # Stride = 1\n",
    "        self.conv_maxpool = nn.Conv2d(64+32+16, 32, 1, 1, 0)\n",
    "\n",
    "        self.norm31 = nn.BatchNorm2d(332)\n",
    "        self.conv3 = nn.Conv2d(332, 332, 7, 2) # 4, 4, 332\n",
    "        self.norm32 = nn.BatchNorm2d(332)\n",
    "\n",
    "        self.maxpool_final = nn.MaxPool2d(2,2) # 2, 2, 332\n",
    "\n",
    "        self.linear1 = nn.Linear(332*4,500)\n",
    "        self.norm4 = nn.BatchNorm1d(500)\n",
    "        self.linear2 = nn.Linear(500,100)\n",
    "        self.norm5 = nn.BatchNorm1d(100)\n",
    "        self.linear3 = nn.Linear(100,10)\n",
    "\n",
    "    def forward(self, x):\n",
    "        x1 = torch.relu(self.conv11(x))\n",
    "        x2 = torch.relu(self.conv12(x))\n",
    "        x3 = torch.relu(self.conv13(x))\n",
    "        x = x1\n",
    "        x = torch.cat((x,x2),1)\n",
    "        x = torch.cat((x,x3),1)\n",
    "\n",
    "        x = self.norm12(torch.relu(self.conv1(self.norm11(x))))\n",
    "\n",
    "        x1 = torch.relu(self.conv21(x))\n",
    "        x2 = torch.relu(self.conv22(x))\n",
    "        x3 = torch.relu(self.conv23(x))\n",
    "        x = x1\n",
    "        x = torch.cat((x,x2),1)\n",
    "        x = torch.cat((x,x3),1)\n",
    "\n",
    "        x = self.norm22(torch.relu(self.conv2(self.norm21(x))))\n",
    "\n",
    "        x1 = torch.relu(self.conv31(x))\n",
    "        x2 = torch.relu(self.conv32(x))\n",
    "        x3 = torch.relu(self.conv33(x))\n",
    "        x4 = torch.relu(self.conv34(x))\n",
    "        x5 = torch.relu(self.conv_maxpool(self.maxpool1(x)))\n",
    "        x = x1\n",
    "        x = torch.cat((x,x2),1)\n",
    "        x = torch.cat((x,x3),1)\n",
    "        x = torch.cat((x,x4),1)\n",
    "        x = torch.cat((x,x5),1)\n",
    "\n",
    "        x = self.maxpool_final(self.norm32(torch.relu(self.conv3(self.norm31(x)))))\n",
    "\n",
    "        x = torch.flatten(x, 1)\n",
    "\n",
    "        x = self.norm4(torch.relu(self.linear1(x)))\n",
    "        x = self.norm5(torch.relu(self.linear2(x)))\n",
    "        x = torch.relu(self.linear3(x))\n",
    "\n",
    "        return(x)"
   ]
  },
  {
   "cell_type": "code",
   "execution_count": 20,
   "metadata": {},
   "outputs": [],
   "source": [
    "incnet = MyInceptionNetwork().to(device)"
   ]
  },
  {
   "cell_type": "code",
   "execution_count": 21,
   "metadata": {},
   "outputs": [],
   "source": [
    "criterion = nn.CrossEntropyLoss()\n",
    "optimizer = torch.optim.Adam(incnet.parameters(), lr = learning_rate)\n",
    "scheduler = torch.optim.lr_scheduler.StepLR(optimizer, step_size = 6, gamma = 0.5)"
   ]
  },
  {
   "cell_type": "code",
   "execution_count": 22,
   "metadata": {},
   "outputs": [
    {
     "name": "stdout",
     "output_type": "stream",
     "text": [
      "----------------------------------------------------------------\n",
      "        Layer (type)               Output Shape         Param #\n",
      "================================================================\n",
      "            Conv2d-1           [-1, 16, 28, 28]             160\n",
      "            Conv2d-2           [-1, 20, 28, 28]             520\n",
      "            Conv2d-3           [-1, 12, 28, 28]             600\n",
      "       BatchNorm2d-4           [-1, 48, 28, 28]              96\n",
      "            Conv2d-5           [-1, 48, 28, 28]           2,352\n",
      "       BatchNorm2d-6           [-1, 48, 28, 28]              96\n",
      "            Conv2d-7           [-1, 64, 14, 14]          27,712\n",
      "            Conv2d-8           [-1, 32, 14, 14]          38,432\n",
      "            Conv2d-9           [-1, 16, 14, 14]          37,648\n",
      "      BatchNorm2d-10          [-1, 112, 14, 14]             224\n",
      "           Conv2d-11          [-1, 112, 14, 14]          12,656\n",
      "      BatchNorm2d-12          [-1, 112, 14, 14]             224\n",
      "           Conv2d-13          [-1, 100, 14, 14]          11,300\n",
      "           Conv2d-14          [-1, 100, 14, 14]         100,900\n",
      "           Conv2d-15           [-1, 50, 14, 14]         140,050\n",
      "           Conv2d-16           [-1, 50, 14, 14]         274,450\n",
      "        MaxPool2d-17          [-1, 112, 14, 14]               0\n",
      "           Conv2d-18           [-1, 32, 14, 14]           3,616\n",
      "      BatchNorm2d-19          [-1, 332, 14, 14]             664\n",
      "           Conv2d-20            [-1, 332, 4, 4]       5,401,308\n",
      "      BatchNorm2d-21            [-1, 332, 4, 4]             664\n",
      "        MaxPool2d-22            [-1, 332, 2, 2]               0\n",
      "           Linear-23                  [-1, 500]         664,500\n",
      "      BatchNorm1d-24                  [-1, 500]           1,000\n",
      "           Linear-25                  [-1, 100]          50,100\n",
      "      BatchNorm1d-26                  [-1, 100]             200\n",
      "           Linear-27                   [-1, 10]           1,010\n",
      "================================================================\n",
      "Total params: 6,770,482\n",
      "Trainable params: 6,770,482\n",
      "Non-trainable params: 0\n",
      "----------------------------------------------------------------\n",
      "Input size (MB): 0.00\n",
      "Forward/backward pass size (MB): 3.08\n",
      "Params size (MB): 25.83\n",
      "Estimated Total Size (MB): 28.91\n",
      "----------------------------------------------------------------\n"
     ]
    }
   ],
   "source": [
    "summary(copy.deepcopy(incnet).to('cpu'), (1,28,28))"
   ]
  },
  {
   "cell_type": "code",
   "execution_count": 23,
   "metadata": {},
   "outputs": [
    {
     "name": "stdout",
     "output_type": "stream",
     "text": [
      "Epoch 1/50; Loss = 0.064370; LR = [0.001]\n",
      "SAVED MODEL WEIGHTS\n",
      "Dev Accuracy: 98.98%\n",
      "--------------------\n",
      "Epoch 2/50; Loss = 0.010853; LR = [0.001]\n",
      "SAVED MODEL WEIGHTS\n",
      "Dev Accuracy: 99.08%\n",
      "--------------------\n",
      "Epoch 3/50; Loss = 0.058730; LR = [0.001]\n",
      "Dev Accuracy: 97.41%\n",
      "--------------------\n",
      "Epoch 4/50; Loss = 0.001263; LR = [0.001]\n",
      "SAVED MODEL WEIGHTS\n",
      "Dev Accuracy: 99.30%\n",
      "--------------------\n",
      "Epoch 5/50; Loss = 0.003657; LR = [0.001]\n",
      "Dev Accuracy: 99.28%\n",
      "--------------------\n",
      "Epoch 6/50; Loss = 0.008851; LR = [0.001]\n",
      "Dev Accuracy: 99.13%\n",
      "--------------------\n",
      "Epoch 7/50; Loss = 0.010107; LR = [0.001]\n",
      "Dev Accuracy: 99.06%\n",
      "--------------------\n",
      "Epoch 8/50; Loss = 0.129500; LR = [0.001]\n",
      "Dev Accuracy: 99.28%\n",
      "--------------------\n",
      "Epoch 9/50; Loss = 0.001096; LR = [0.0005]\n",
      "Dev Accuracy: 99.19%\n",
      "--------------------\n",
      "Epoch 10/50; Loss = 0.000528; LR = [0.0005]\n",
      "SAVED MODEL WEIGHTS\n",
      "Dev Accuracy: 99.46%\n",
      "--------------------\n",
      "Epoch 11/50; Loss = 0.000085; LR = [0.0005]\n",
      "SAVED MODEL WEIGHTS\n",
      "Dev Accuracy: 99.55%\n",
      "--------------------\n",
      "Epoch 12/50; Loss = 0.000491; LR = [0.0005]\n",
      "SAVED MODEL WEIGHTS\n",
      "Dev Accuracy: 99.55%\n",
      "--------------------\n",
      "Epoch 13/50; Loss = 0.000060; LR = [0.0005]\n",
      "SAVED MODEL WEIGHTS\n",
      "Dev Accuracy: 99.56%\n",
      "--------------------\n",
      "Epoch 14/50; Loss = 0.000102; LR = [0.0005]\n",
      "Dev Accuracy: 99.54%\n",
      "--------------------\n",
      "Epoch 15/50; Loss = 0.000040; LR = [0.0005]\n",
      "Dev Accuracy: 99.55%\n",
      "--------------------\n",
      "Epoch 16/50; Loss = 0.000052; LR = [0.0005]\n",
      "Dev Accuracy: 99.53%\n",
      "--------------------\n",
      "Epoch 17/50; Loss = 0.000052; LR = [0.0005]\n",
      "SAVED MODEL WEIGHTS\n",
      "Dev Accuracy: 99.59%\n",
      "--------------------\n",
      "Epoch 18/50; Loss = 0.000094; LR = [0.00025]\n",
      "Dev Accuracy: 99.55%\n",
      "--------------------\n",
      "Epoch 19/50; Loss = 0.000034; LR = [0.00025]\n",
      "Dev Accuracy: 99.58%\n",
      "--------------------\n",
      "Epoch 20/50; Loss = 0.000026; LR = [0.00025]\n",
      "Dev Accuracy: 99.57%\n",
      "--------------------\n",
      "Epoch 21/50; Loss = 0.001128; LR = [0.00025]\n",
      "Dev Accuracy: 99.58%\n",
      "--------------------\n",
      "Epoch 22/50; Loss = 0.000010; LR = [0.00025]\n",
      "Dev Accuracy: 99.56%\n",
      "--------------------\n",
      "Epoch 23/50; Loss = 0.000009; LR = [0.00025]\n",
      "Dev Accuracy: 99.58%\n",
      "--------------------\n",
      "Epoch 24/50; Loss = 0.000030; LR = [0.00025]\n",
      "Dev Accuracy: 99.54%\n",
      "--------------------\n",
      "Epoch 25/50; Loss = 0.000015; LR = [0.00025]\n",
      "Dev Accuracy: 99.56%\n",
      "--------------------\n",
      "Epoch 26/50; Loss = 0.000028; LR = [0.00025]\n",
      "Dev Accuracy: 99.58%\n",
      "--------------------\n",
      "Epoch 27/50; Loss = 0.000023; LR = [0.000125]\n",
      "Dev Accuracy: 99.58%\n",
      "--------------------\n",
      "Epoch 28/50; Loss = 0.000033; LR = [0.000125]\n",
      "Dev Accuracy: 99.58%\n",
      "--------------------\n",
      "Epoch 29/50; Loss = 0.000009; LR = [0.000125]\n",
      "Dev Accuracy: 99.58%\n",
      "--------------------\n",
      "Epoch 30/50; Loss = 0.000008; LR = [0.000125]\n",
      "Dev Accuracy: 99.57%\n",
      "--------------------\n",
      "Epoch 31/50; Loss = 0.000011; LR = [0.000125]\n",
      "Dev Accuracy: 99.56%\n",
      "--------------------\n",
      "Epoch 32/50; Loss = 0.000033; LR = [0.000125]\n",
      "Dev Accuracy: 99.57%\n",
      "--------------------\n",
      "Epoch 33/50; Loss = 0.000023; LR = [0.000125]\n",
      "Dev Accuracy: 99.56%\n",
      "--------------------\n",
      "Epoch 34/50; Loss = 0.000027; LR = [0.000125]\n",
      "Dev Accuracy: 99.56%\n",
      "--------------------\n",
      "Epoch 35/50; Loss = 0.000028; LR = [0.000125]\n",
      "Dev Accuracy: 99.56%\n",
      "--------------------\n",
      "Epoch 36/50; Loss = 0.000010; LR = [6.25e-05]\n",
      "Dev Accuracy: 99.58%\n",
      "--------------------\n",
      "Epoch 37/50; Loss = 0.000013; LR = [6.25e-05]\n",
      "SAVED MODEL WEIGHTS\n",
      "Dev Accuracy: 99.59%\n",
      "--------------------\n",
      "Epoch 38/50; Loss = 0.000006; LR = [6.25e-05]\n",
      "Dev Accuracy: 99.58%\n",
      "--------------------\n",
      "Epoch 39/50; Loss = 0.000017; LR = [6.25e-05]\n",
      "Dev Accuracy: 99.58%\n",
      "--------------------\n",
      "Epoch 40/50; Loss = 0.000015; LR = [6.25e-05]\n",
      "Dev Accuracy: 99.55%\n",
      "--------------------\n",
      "Epoch 41/50; Loss = 0.000006; LR = [6.25e-05]\n",
      "Dev Accuracy: 99.56%\n",
      "--------------------\n",
      "Epoch 42/50; Loss = 0.000004; LR = [6.25e-05]\n",
      "Dev Accuracy: 99.56%\n",
      "--------------------\n",
      "Epoch 43/50; Loss = 0.000008; LR = [6.25e-05]\n",
      "Dev Accuracy: 99.54%\n",
      "--------------------\n",
      "Epoch 44/50; Loss = 0.000078; LR = [6.25e-05]\n",
      "Dev Accuracy: 99.56%\n",
      "--------------------\n",
      "Epoch 45/50; Loss = 0.000010; LR = [3.125e-05]\n",
      "Dev Accuracy: 99.55%\n",
      "--------------------\n",
      "Epoch 46/50; Loss = 0.000004; LR = [3.125e-05]\n",
      "SAVED MODEL WEIGHTS\n",
      "Dev Accuracy: 99.59%\n",
      "--------------------\n",
      "Epoch 47/50; Loss = 0.000009; LR = [3.125e-05]\n",
      "Dev Accuracy: 99.57%\n",
      "--------------------\n",
      "Epoch 48/50; Loss = 0.000006; LR = [3.125e-05]\n",
      "Dev Accuracy: 99.57%\n",
      "--------------------\n",
      "Epoch 49/50; Loss = 0.000006; LR = [3.125e-05]\n",
      "Dev Accuracy: 99.55%\n",
      "--------------------\n",
      "Epoch 50/50; Loss = 0.000005; LR = [3.125e-05]\n",
      "Dev Accuracy: 99.56%\n",
      "--------------------\n",
      "Finished Training!\n",
      "Best Test Accuracy = 99.59%\n",
      "Time Taken = 96.0m 34.00414705276489s\n"
     ]
    }
   ],
   "source": [
    "best_weights = copy.deepcopy(incnet.state_dict())\n",
    "max = 0\n",
    "val_acc = 0\n",
    "train_acc = 0\n",
    "tic = time.time()\n",
    "for epoch in range(num_epochs):\n",
    "    incnet.train()\n",
    "    for i, (images,labels) in enumerate(train_loader):\n",
    "        images = images.to(device)\n",
    "        labels = labels.to(device)\n",
    "\n",
    "        preds = incnet.forward(images)\n",
    "        loss = criterion(preds, labels)\n",
    "\n",
    "        optimizer.zero_grad()\n",
    "        loss.backward()\n",
    "        optimizer.step()\n",
    "    scheduler.step() # Decaying learning rate per 25 epochs by 0.2 times\n",
    "    print(f'Epoch {epoch+1}/{num_epochs}; Loss = {loss.item():.6f}; LR = {scheduler.get_last_lr()}')\n",
    "    with torch.no_grad():\n",
    "        n_samples = 0\n",
    "        n_correct = 0\n",
    "        incnet.eval()\n",
    "        for images, labels in test_loader:\n",
    "            images = images.to(device) # From 128, 1, 28, 28 ---> 128, 784\n",
    "            labels = labels.to(device)\n",
    "            pred_outputs1 = incnet(images)\n",
    "            _, actual_preds1 = torch.max(pred_outputs1, 1) # Returns value, index\n",
    "            n_samples += labels.shape[0]\n",
    "            n_correct += (actual_preds1 == labels).sum().item()\n",
    "        val_acc = n_correct/n_samples * 100\n",
    "\n",
    "        if (max <= (n_correct/n_samples * 100)):\n",
    "            print('SAVED MODEL WEIGHTS')\n",
    "            max = val_acc\n",
    "            best_weights = copy.deepcopy(incnet.state_dict())\n",
    "        \n",
    "        if((epoch+1) % 10 == 0):\n",
    "            n_samples = 0\n",
    "            n_correct = 0\n",
    "            \n",
    "            for images, labels in train_loader:\n",
    "                images = images.to(device) # From 128, 1, 28, 28 ---> 128, 784\n",
    "                labels = labels.to(device)\n",
    "                pred_outputs1 = incnet(images)\n",
    "                _, actual_preds1 = torch.max(pred_outputs1, 1) # Returns value, index\n",
    "                n_samples += labels.shape[0]\n",
    "                n_correct += (actual_preds1 == labels).sum().item()\n",
    "            train_acc = n_correct/n_samples * 100\n",
    "            print(f'Train Accuracy: {train_acc:.2f}%')\n",
    "    print(f'Dev Accuracy: {val_acc:.2f}%')\n",
    "    print(\"-\"*20)\n",
    "print('Finished Training!')\n",
    "print(f'Best Test Accuracy = {max}%')\n",
    "print(f'Time Taken = {(time.time()-tic)//60:.0f}m {(time.time()-tic)%60:.0f}s')"
   ]
  },
  {
   "cell_type": "code",
   "execution_count": 24,
   "metadata": {},
   "outputs": [],
   "source": [
    "incnet.load_state_dict(best_weights)\n",
    "torch.save(incnet, 'models/simple_incnet_mnist.pt')"
   ]
  },
  {
   "cell_type": "code",
   "execution_count": 25,
   "metadata": {},
   "outputs": [
    {
     "name": "stdout",
     "output_type": "stream",
     "text": [
      "Training Accuracy = 99.93%\n"
     ]
    }
   ],
   "source": [
    "incnet.eval()\n",
    "for images, labels in train_loader: # Train Accuracy\n",
    "    images = images.to(device) # From 128, 1, 28, 28 ---> 128, 784\n",
    "    labels = labels.to(device)\n",
    "    pred_outputs1 = incnet(images)\n",
    "    _, actual_preds1 = torch.max(pred_outputs1, 1) # Returns value, index\n",
    "    n_samples += labels.shape[0]\n",
    "    n_correct += (actual_preds1 == labels).sum().item()\n",
    "train_acc = n_correct/n_samples * 100\n",
    "print(f'Training Accuracy = {train_acc:.2f}%')\n"
   ]
  }
 ],
 "metadata": {
  "kernelspec": {
   "display_name": "Python 3.10.6",
   "language": "python",
   "name": "python3"
  },
  "language_info": {
   "codemirror_mode": {
    "name": "ipython",
    "version": 3
   },
   "file_extension": ".py",
   "mimetype": "text/x-python",
   "name": "python",
   "nbconvert_exporter": "python",
   "pygments_lexer": "ipython3",
   "version": "3.10.6"
  },
  "orig_nbformat": 4,
  "vscode": {
   "interpreter": {
    "hash": "193f6b5c64d175a70f8bc370a8e28557b54eddf9787b8dde324aa4d68183bc16"
   }
  }
 },
 "nbformat": 4,
 "nbformat_minor": 2
}
