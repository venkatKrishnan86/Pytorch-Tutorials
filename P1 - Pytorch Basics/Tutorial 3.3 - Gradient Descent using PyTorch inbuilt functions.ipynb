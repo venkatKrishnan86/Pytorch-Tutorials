{
 "cells": [
  {
   "cell_type": "markdown",
   "metadata": {},
   "source": [
    "# Designing strategy\n",
    "1) **Design model** - Input size, output size and forward pass\n",
    "2) Construct **loss** and **optimizer**\n",
    "3) Training loop - \n",
    " -  **Forward pass** : Prediction\n",
    " -  **Backward pass** : Gradients\n",
    " -  **Update parameters** : Weights and Biases"
   ]
  },
  {
   "cell_type": "code",
   "execution_count": 1,
   "metadata": {},
   "outputs": [],
   "source": [
    "import torch\n",
    "import torch.nn as nn"
   ]
  },
  {
   "cell_type": "code",
   "execution_count": 2,
   "metadata": {},
   "outputs": [],
   "source": [
    "X = torch.arange(1,10, dtype=torch.float32)\n",
    "y = X*2\n",
    "# y = w*x - To predict w as 2\n",
    "w = torch.tensor(0.0,requires_grad=True)"
   ]
  },
  {
   "cell_type": "code",
   "execution_count": 3,
   "metadata": {},
   "outputs": [],
   "source": [
    "def forward(x):\n",
    "    return(w*x)"
   ]
  },
  {
   "cell_type": "code",
   "execution_count": 4,
   "metadata": {},
   "outputs": [
    {
     "name": "stdout",
     "output_type": "stream",
     "text": [
      "Prediction before training: f(5): 0.000\n",
      "Actual f(5) = 10.0\n"
     ]
    }
   ],
   "source": [
    "print(f'Prediction before training: f(5): {forward(5):.3f}')\n",
    "print(f'Actual f(5) = {y[torch.where(X==5)].item()}')"
   ]
  },
  {
   "cell_type": "code",
   "execution_count": 5,
   "metadata": {},
   "outputs": [],
   "source": [
    "learning_rate =0.005\n",
    "n_iters = 100"
   ]
  },
  {
   "cell_type": "code",
   "execution_count": 6,
   "metadata": {},
   "outputs": [],
   "source": [
    "loss = nn.MSELoss() # Mean Square Error Loss\n",
    "optimizer = torch.optim.SGD([w], lr = learning_rate) #Optimizer takes the parameters in list form hence the square brackets"
   ]
  },
  {
   "cell_type": "code",
   "execution_count": 7,
   "metadata": {},
   "outputs": [
    {
     "name": "stdout",
     "output_type": "stream",
     "text": [
      "Epoch 0; Weight = 0.633; Loss = 126.66666412\n",
      "Epoch 5; Weight = 1.796; Loss = 2.81182694\n",
      "Epoch 10; Weight = 1.970; Loss = 0.06241850\n",
      "Epoch 15; Weight = 1.995; Loss = 0.00138561\n",
      "Epoch 20; Weight = 1.999; Loss = 0.00003075\n",
      "Epoch 25; Weight = 2.000; Loss = 0.00000068\n",
      "Epoch 30; Weight = 2.000; Loss = 0.00000002\n",
      "Epoch 35; Weight = 2.000; Loss = 0.00000000\n",
      "Epoch 40; Weight = 2.000; Loss = 0.00000000\n",
      "Epoch 45; Weight = 2.000; Loss = 0.00000000\n",
      "Epoch 50; Weight = 2.000; Loss = 0.00000000\n",
      "Epoch 55; Weight = 2.000; Loss = 0.00000000\n",
      "Epoch 60; Weight = 2.000; Loss = 0.00000000\n",
      "Epoch 65; Weight = 2.000; Loss = 0.00000000\n",
      "Epoch 70; Weight = 2.000; Loss = 0.00000000\n",
      "Epoch 75; Weight = 2.000; Loss = 0.00000000\n",
      "Epoch 80; Weight = 2.000; Loss = 0.00000000\n",
      "Epoch 85; Weight = 2.000; Loss = 0.00000000\n",
      "Epoch 90; Weight = 2.000; Loss = 0.00000000\n",
      "Epoch 95; Weight = 2.000; Loss = 0.00000000\n"
     ]
    }
   ],
   "source": [
    "for epoch in range(n_iters):\n",
    "    y_pred = forward(X)     # Predicted y\n",
    "    l = loss(y, y_pred)     # Compute loss\n",
    "    l.backward()            # Compute all local gradients\n",
    "    optimizer.step()        # Update weights\n",
    "    optimizer.zero_grad()   # Make all gradients zero\n",
    "    if epoch%5==0:\n",
    "        print(f'Epoch {epoch}; Weight = {w:0.3f}; Loss = {l:0.8f}')\n"
   ]
  },
  {
   "cell_type": "code",
   "execution_count": 8,
   "metadata": {},
   "outputs": [
    {
     "name": "stdout",
     "output_type": "stream",
     "text": [
      "Prediction after training: f(5): 10.000\n",
      "Actual f(5) = 10.0\n"
     ]
    }
   ],
   "source": [
    "print(f'Prediction after training: f(5): {forward(5):.3f}')\n",
    "print(f'Actual f(5) = {y[torch.where(X==5)].item()}')"
   ]
  },
  {
   "cell_type": "markdown",
   "metadata": {},
   "source": [
    "## Using `nn.Linear` model"
   ]
  },
  {
   "cell_type": "code",
   "execution_count": 46,
   "metadata": {},
   "outputs": [],
   "source": [
    "X = X.reshape(len(X),1)\n",
    "y = y.reshape(len(y),1)"
   ]
  },
  {
   "cell_type": "code",
   "execution_count": 47,
   "metadata": {},
   "outputs": [
    {
     "data": {
      "text/plain": [
       "tensor([[1.],\n",
       "        [2.],\n",
       "        [3.],\n",
       "        [4.],\n",
       "        [5.],\n",
       "        [6.],\n",
       "        [7.],\n",
       "        [8.],\n",
       "        [9.]])"
      ]
     },
     "execution_count": 47,
     "metadata": {},
     "output_type": "execute_result"
    }
   ],
   "source": [
    "X"
   ]
  },
  {
   "cell_type": "code",
   "execution_count": 48,
   "metadata": {},
   "outputs": [
    {
     "name": "stdout",
     "output_type": "stream",
     "text": [
      "1\n"
     ]
    }
   ],
   "source": [
    "n_samples, n_features = X.shape\n",
    "print(n_features)"
   ]
  },
  {
   "cell_type": "code",
   "execution_count": 49,
   "metadata": {},
   "outputs": [],
   "source": [
    "input_size = n_features\n",
    "output_size = input_size"
   ]
  },
  {
   "cell_type": "code",
   "execution_count": 50,
   "metadata": {},
   "outputs": [],
   "source": [
    "model = nn.Linear(input_size, output_size) # Creating a NN linear layer with one input and one output"
   ]
  },
  {
   "cell_type": "code",
   "execution_count": 51,
   "metadata": {},
   "outputs": [
    {
     "name": "stdout",
     "output_type": "stream",
     "text": [
      "Prediction before training: f(5): 3.436\n",
      "Actual f(5) = 10.0\n"
     ]
    }
   ],
   "source": [
    "print(f'Prediction before training: f(5): {model(torch.tensor([5.0], dtype=torch.float32)).item():.3f}') # Need to specify torch.tensor with 5 in list\n",
    "print(f'Actual f(5) = {y[torch.where(X==5)].item()}')"
   ]
  },
  {
   "cell_type": "code",
   "execution_count": 52,
   "metadata": {},
   "outputs": [],
   "source": [
    "learning_rate =0.01\n",
    "n_iters = 2500"
   ]
  },
  {
   "cell_type": "code",
   "execution_count": 53,
   "metadata": {},
   "outputs": [],
   "source": [
    "loss = nn.MSELoss() # Mean Square Error Loss\n",
    "optimizer = torch.optim.SGD(model.parameters(), lr = learning_rate) #Optimizer takes the parameters in list form hence the square brackets"
   ]
  },
  {
   "cell_type": "code",
   "execution_count": 54,
   "metadata": {},
   "outputs": [
    {
     "name": "stdout",
     "output_type": "stream",
     "text": [
      "Epoch 0; Weight = 1.633; Loss = 52.38338089\n",
      "Epoch 250; Weight = 2.026; Loss = 0.00563433\n",
      "Epoch 500; Weight = 2.009; Loss = 0.00071959\n",
      "Epoch 750; Weight = 2.003; Loss = 0.00009190\n",
      "Epoch 1000; Weight = 2.001; Loss = 0.00001174\n",
      "Epoch 1250; Weight = 2.000; Loss = 0.00000150\n",
      "Epoch 1500; Weight = 2.000; Loss = 0.00000019\n",
      "Epoch 1750; Weight = 2.000; Loss = 0.00000002\n",
      "Epoch 2000; Weight = 2.000; Loss = 0.00000000\n",
      "Epoch 2250; Weight = 2.000; Loss = 0.00000000\n"
     ]
    }
   ],
   "source": [
    "for epoch in range(n_iters):\n",
    "    y_pred = model(X)       # Predicted y\n",
    "    l = loss(y, y_pred)     # Compute loss\n",
    "    l.backward()            # Compute all local gradients\n",
    "    optimizer.step()        # Update weights\n",
    "    optimizer.zero_grad()   # Make all gradients zero\n",
    "    if epoch%250==0:\n",
    "        w , _ = model.parameters()\n",
    "        print(f'Epoch {epoch}; Weight = {torch.squeeze(w).item():0.3f}; Loss = {l:0.8f}')"
   ]
  },
  {
   "cell_type": "code",
   "execution_count": 55,
   "metadata": {},
   "outputs": [
    {
     "name": "stdout",
     "output_type": "stream",
     "text": [
      "Prediction after training: f(5): 10.000\n",
      "Actual f(5) = 10.0\n"
     ]
    }
   ],
   "source": [
    "print(f'Prediction after training: f(5): {model(torch.tensor([5.0], dtype=torch.float32)).item():.3f}')\n",
    "print(f'Actual f(5) = {y[torch.where(X==5)].item()}')"
   ]
  }
 ],
 "metadata": {
  "kernelspec": {
   "display_name": "Python 3.8.3 ('base')",
   "language": "python",
   "name": "python3"
  },
  "language_info": {
   "codemirror_mode": {
    "name": "ipython",
    "version": 3
   },
   "file_extension": ".py",
   "mimetype": "text/x-python",
   "name": "python",
   "nbconvert_exporter": "python",
   "pygments_lexer": "ipython3",
   "version": "3.8.3"
  },
  "orig_nbformat": 4,
  "vscode": {
   "interpreter": {
    "hash": "40d3a090f54c6569ab1632332b64b2c03c39dcf918b08424e98f38b5ae0af88f"
   }
  }
 },
 "nbformat": 4,
 "nbformat_minor": 2
}
