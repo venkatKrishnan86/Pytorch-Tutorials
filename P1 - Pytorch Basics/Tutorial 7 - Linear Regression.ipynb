{
 "cells": [
  {
   "cell_type": "code",
   "execution_count": 1,
   "metadata": {},
   "outputs": [],
   "source": [
    "import torch\n",
    "import torch.nn as nn\n",
    "from sklearn import datasets\n",
    "import numpy as np\n",
    "import matplotlib.pyplot as plt"
   ]
  },
  {
   "cell_type": "markdown",
   "metadata": {},
   "source": [
    "## Steps\n",
    "0) Collect data\n",
    "1) Model\n",
    "2) Loss\n",
    "3) Optimizer\n",
    "4) Training loop"
   ]
  },
  {
   "cell_type": "markdown",
   "metadata": {},
   "source": [
    "### 0. Collect data"
   ]
  },
  {
   "cell_type": "code",
   "execution_count": 2,
   "metadata": {},
   "outputs": [],
   "source": [
    "X_np, y_np = datasets.make_regression(n_samples=100, n_features=1, noise=25, random_state=2)\n",
    "\n",
    "# Convert to tensor\n",
    "X = torch.from_numpy(X_np.astype(np.float32))\n",
    "y = torch.from_numpy(y_np.astype(np.float32))\n",
    "\n",
    "# # Reshaping for outputs into rank 2 tensor\n",
    "y = y.reshape(y_np.shape[0],1)\n"
   ]
  },
  {
   "cell_type": "code",
   "execution_count": 3,
   "metadata": {},
   "outputs": [],
   "source": [
    "n_samples, n_features = X.shape"
   ]
  },
  {
   "cell_type": "markdown",
   "metadata": {},
   "source": [
    "### 1. Model"
   ]
  },
  {
   "cell_type": "code",
   "execution_count": 4,
   "metadata": {},
   "outputs": [],
   "source": [
    "class LinearRegression(nn.Module):\n",
    "    def __init__(self, n_features):\n",
    "        super(LinearRegression, self).__init__()\n",
    "        self.linear = nn.Linear(in_features = n_features, out_features = 1)\n",
    "        self.optim = None\n",
    "        self.loss_obj = None\n",
    "    \n",
    "    def forward(self, x):\n",
    "        return(self.linear(x))\n",
    "\n",
    "    def loss_func(self, loss_func = nn.MSELoss):\n",
    "        self.loss_obj = loss_func()             # Object of the loss function in torch.nn \n",
    "\n",
    "    def optimizer(self, optimizer, learning_rate):\n",
    "        self.optim = optimizer(self.linear.parameters(),lr = learning_rate)\n",
    "\n",
    "    \n",
    "    def train_model(self, X, y, epochs = 100, print_statements = False):\n",
    "        for epoch in range(epochs):\n",
    "            y_pred = self.forward(X)            # Forward prop\n",
    "            loss = self.loss_obj(y_pred,y)      # Compute loss\n",
    "            loss.backward()                     # Compute local gradients\n",
    "            self.optim.step()                   # Update parameters\n",
    "            self.optim.zero_grad()              # Zero the gradients\n",
    "            if(print_statements and epoch%(epochs//10)==0):\n",
    "                print(f'Epoch {epoch+1}; Loss = {loss:0.4f}')"
   ]
  },
  {
   "cell_type": "code",
   "execution_count": 5,
   "metadata": {},
   "outputs": [],
   "source": [
    "predict = LinearRegression(n_features)"
   ]
  },
  {
   "cell_type": "markdown",
   "metadata": {},
   "source": [
    "### 2,3. Loss and Optimizer"
   ]
  },
  {
   "cell_type": "code",
   "execution_count": 47,
   "metadata": {},
   "outputs": [],
   "source": [
    "predict.loss_func()\n",
    "predict.optimizer(torch.optim.SGD, learning_rate=0.01)"
   ]
  },
  {
   "cell_type": "markdown",
   "metadata": {},
   "source": [
    "### 4. Training loop"
   ]
  },
  {
   "cell_type": "code",
   "execution_count": 48,
   "metadata": {},
   "outputs": [],
   "source": [
    "predict.train_model(X,y)"
   ]
  },
  {
   "cell_type": "markdown",
   "metadata": {},
   "source": [
    "### 5. Check Predictions"
   ]
  },
  {
   "cell_type": "code",
   "execution_count": 52,
   "metadata": {},
   "outputs": [],
   "source": [
    "y_predicted = predict.forward(X).detach().numpy()"
   ]
  },
  {
   "cell_type": "code",
   "execution_count": 55,
   "metadata": {},
   "outputs": [
    {
     "data": {
      "text/plain": [
       "[<matplotlib.lines.Line2D at 0x7fb8cde893d0>]"
      ]
     },
     "execution_count": 55,
     "metadata": {},
     "output_type": "execute_result"
    },
    {
     "data": {
      "image/png": "[encoded data removed]",
      "text/plain": [
       "<Figure size 1440x720 with 1 Axes>"
      ]
     },
     "metadata": {
      "needs_background": "light"
     },
     "output_type": "display_data"
    }
   ],
   "source": [
    "plt.figure(figsize=(20,10))\n",
    "plt.grid()\n",
    "plt.plot(X_np,y_np,'r.')\n",
    "plt.plot(X_np,y_predicted)"
   ]
  },
  {
   "cell_type": "code",
   "execution_count": 56,
   "metadata": {},
   "outputs": [],
   "source": [
    "torch.save(predict,'models/linear_regressor.pt')"
   ]
  }
 ],
 "metadata": {
  "kernelspec": {
   "display_name": "Python 3.8.3 ('base')",
   "language": "python",
   "name": "python3"
  },
  "language_info": {
   "codemirror_mode": {
    "name": "ipython",
    "version": 3
   },
   "file_extension": ".py",
   "mimetype": "text/x-python",
   "name": "python",
   "nbconvert_exporter": "python",
   "pygments_lexer": "ipython3",
   "version": "3.10.6"
  },
  "orig_nbformat": 4,
  "vscode": {
   "interpreter": {
    "hash": "40d3a090f54c6569ab1632332b64b2c03c39dcf918b08424e98f38b5ae0af88f"
   }
  }
 },
 "nbformat": 4,
 "nbformat_minor": 2
}
