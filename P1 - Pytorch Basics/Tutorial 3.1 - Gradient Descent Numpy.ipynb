{
 "cells": [
  {
   "cell_type": "code",
   "execution_count": 1,
   "metadata": {},
   "outputs": [],
   "source": [
    "import numpy as np"
   ]
  },
  {
   "cell_type": "code",
   "execution_count": 2,
   "metadata": {},
   "outputs": [],
   "source": [
    "X = np.arange(1,10)\n",
    "y = X*2\n",
    "# y = w*x - To predict w as 2\n",
    "w = 0.0"
   ]
  },
  {
   "cell_type": "code",
   "execution_count": 3,
   "metadata": {},
   "outputs": [],
   "source": [
    "def forward(x):\n",
    "    return(w*x)"
   ]
  },
  {
   "cell_type": "code",
   "execution_count": 4,
   "metadata": {},
   "outputs": [],
   "source": [
    "def loss(y, y_pred):\n",
    "    return(((y - y_pred)**2).mean())"
   ]
  },
  {
   "cell_type": "markdown",
   "metadata": {},
   "source": [
    "$$\\text{Loss} = MSE = \\frac{1}{N}(y_{pred} - y)^2 = \\frac{1}{N}(wx-y)^2$$\n",
    "$$\\frac{d \\text{(Loss)}}{dw} = \\frac{2x}{N}(wx-y)$$"
   ]
  },
  {
   "cell_type": "code",
   "execution_count": 5,
   "metadata": {},
   "outputs": [],
   "source": [
    "def gradient(x, y, y_pred):\n",
    "    return(np.dot(x,(y_pred-y)).mean())"
   ]
  },
  {
   "cell_type": "code",
   "execution_count": 6,
   "metadata": {},
   "outputs": [
    {
     "name": "stdout",
     "output_type": "stream",
     "text": [
      "Prediction before training: f(5): 0.000\n",
      "Actual f(5) = 10\n"
     ]
    }
   ],
   "source": [
    "print(f'Prediction before training: f(5): {forward(5):.3f}')\n",
    "print(f'Actual f(5) = {y[np.where(X==5)].item()}')"
   ]
  },
  {
   "cell_type": "code",
   "execution_count": 7,
   "metadata": {},
   "outputs": [],
   "source": [
    "learning_rate =0.001\n",
    "n_iters = 50\n",
    "total_loss=[]"
   ]
  },
  {
   "cell_type": "code",
   "execution_count": 8,
   "metadata": {},
   "outputs": [
    {
     "name": "stdout",
     "output_type": "stream",
     "text": [
      "Epoch 1; Weight: 0.570; Loss: 126.6667\n",
      "Epoch 2; Weight: 0.978; Loss: 64.7552\n",
      "Epoch 3; Weight: 1.269; Loss: 33.1045\n",
      "Epoch 4; Weight: 1.477; Loss: 16.9238\n",
      "Epoch 5; Weight: 1.626; Loss: 8.6519\n",
      "Epoch 6; Weight: 1.733; Loss: 4.4231\n",
      "Epoch 7; Weight: 1.809; Loss: 2.2612\n",
      "Epoch 8; Weight: 1.863; Loss: 1.1560\n",
      "Epoch 9; Weight: 1.902; Loss: 0.5910\n",
      "Epoch 10; Weight: 1.930; Loss: 0.3021\n",
      "Epoch 11; Weight: 1.950; Loss: 0.1544\n",
      "Epoch 12; Weight: 1.964; Loss: 0.0790\n",
      "Epoch 13; Weight: 1.974; Loss: 0.0404\n",
      "Epoch 14; Weight: 1.982; Loss: 0.0206\n",
      "Epoch 15; Weight: 1.987; Loss: 0.0105\n",
      "Epoch 16; Weight: 1.991; Loss: 0.0054\n",
      "Epoch 17; Weight: 1.993; Loss: 0.0028\n",
      "Epoch 18; Weight: 1.995; Loss: 0.0014\n",
      "Epoch 19; Weight: 1.997; Loss: 0.0007\n",
      "Epoch 20; Weight: 1.998; Loss: 0.0004\n",
      "Epoch 21; Weight: 1.998; Loss: 0.0002\n",
      "Epoch 22; Weight: 1.999; Loss: 0.0001\n",
      "Epoch 23; Weight: 1.999; Loss: 0.0000\n",
      "Epoch 24; Weight: 1.999; Loss: 0.0000\n",
      "Epoch 25; Weight: 2.000; Loss: 0.0000\n",
      "Epoch 26; Weight: 2.000; Loss: 0.0000\n",
      "Epoch 27; Weight: 2.000; Loss: 0.0000\n",
      "Epoch 28; Weight: 2.000; Loss: 0.0000\n",
      "Epoch 29; Weight: 2.000; Loss: 0.0000\n",
      "Epoch 30; Weight: 2.000; Loss: 0.0000\n",
      "Epoch 31; Weight: 2.000; Loss: 0.0000\n",
      "Epoch 32; Weight: 2.000; Loss: 0.0000\n",
      "Epoch 33; Weight: 2.000; Loss: 0.0000\n",
      "Epoch 34; Weight: 2.000; Loss: 0.0000\n",
      "Epoch 35; Weight: 2.000; Loss: 0.0000\n",
      "Epoch 36; Weight: 2.000; Loss: 0.0000\n",
      "Epoch 37; Weight: 2.000; Loss: 0.0000\n",
      "Epoch 38; Weight: 2.000; Loss: 0.0000\n",
      "Epoch 39; Weight: 2.000; Loss: 0.0000\n",
      "Epoch 40; Weight: 2.000; Loss: 0.0000\n",
      "Epoch 41; Weight: 2.000; Loss: 0.0000\n",
      "Epoch 42; Weight: 2.000; Loss: 0.0000\n",
      "Epoch 43; Weight: 2.000; Loss: 0.0000\n",
      "Epoch 44; Weight: 2.000; Loss: 0.0000\n",
      "Epoch 45; Weight: 2.000; Loss: 0.0000\n",
      "Epoch 46; Weight: 2.000; Loss: 0.0000\n",
      "Epoch 47; Weight: 2.000; Loss: 0.0000\n",
      "Epoch 48; Weight: 2.000; Loss: 0.0000\n",
      "Epoch 49; Weight: 2.000; Loss: 0.0000\n",
      "Epoch 50; Weight: 2.000; Loss: 0.0000\n"
     ]
    }
   ],
   "source": [
    "for epoch in range(n_iters):\n",
    "    y_pred = forward(X)\n",
    "    loss_func = loss(y, y_pred)\n",
    "    total_loss.append(loss_func)\n",
    "    dw = gradient(X, y, y_pred)\n",
    "    w = w - learning_rate*dw\n",
    "    print(f'Epoch {epoch+1}; Weight: {w:.3f}; Loss: {loss_func:.4f}')"
   ]
  },
  {
   "cell_type": "code",
   "execution_count": 9,
   "metadata": {},
   "outputs": [
    {
     "name": "stdout",
     "output_type": "stream",
     "text": [
      "Prediction after training: f(5): 10.000\n",
      "Actual f(5) = 10\n"
     ]
    }
   ],
   "source": [
    "print(f'Prediction after training: f(5): {forward(5):.3f}')\n",
    "print(f'Actual f(5) = {y[np.where(X==5)].item()}')"
   ]
  },
  {
   "cell_type": "code",
   "execution_count": null,
   "metadata": {},
   "outputs": [],
   "source": []
  }
 ],
 "metadata": {
  "kernelspec": {
   "display_name": "Python 3.8.3 ('base')",
   "language": "python",
   "name": "python3"
  },
  "language_info": {
   "codemirror_mode": {
    "name": "ipython",
    "version": 3
   },
   "file_extension": ".py",
   "mimetype": "text/x-python",
   "name": "python",
   "nbconvert_exporter": "python",
   "pygments_lexer": "ipython3",
   "version": "3.8.3"
  },
  "orig_nbformat": 4,
  "vscode": {
   "interpreter": {
    "hash": "40d3a090f54c6569ab1632332b64b2c03c39dcf918b08424e98f38b5ae0af88f"
   }
  }
 },
 "nbformat": 4,
 "nbformat_minor": 2
}
