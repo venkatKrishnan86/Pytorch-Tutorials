{
 "cells": [
  {
   "cell_type": "code",
   "execution_count": 1,
   "metadata": {},
   "outputs": [],
   "source": [
    "import torch\n",
    "import torch.nn as nn\n",
    "import sys\n",
    "\n",
    "sys.path.append('../Natural Language Processing/')\n",
    "\n",
    "from NLP_utils import *\n",
    "import matplotlib.pyplot as plt\n",
    "import time\n",
    "from torchsummary import summary"
   ]
  },
  {
   "cell_type": "markdown",
   "metadata": {},
   "source": [
    "# LSTM\n",
    "## One LSTM Cell -\n",
    "$$\\tilde c^{<t>} = \\tanh(W_c[a^{<t-1>}, x^{<t>}]+b_c)$$\n",
    "$$\\Gamma_u = \\sigma(W_u[a^{<t-1>}, x^{<t>}]+b_u)$$\n",
    "$$\\Gamma_f = \\sigma(W_f[a^{<t-1>}, x^{<t>}]+b_f)$$\n",
    "$$\\Gamma_o = \\sigma(W_o[a^{<t-1>}, x^{<t>}]+b_o)$$\n",
    "$$c^{<t>} = \\Gamma_u * \\tilde c^{<t>} + \\Gamma_f * c^{<t-1>}$$\n",
    "$$a^{<t>} = \\Gamma_o * \\tanh(c^{<t>})$$\n",
    "\n",
    "WHERE -\n",
    "- $t$ = Time-step number\n",
    "- $h^{<t>}$ = Current Hidden State\n",
    "- $h^{<t-1>}$ = Previous Hidden State\n",
    "- $c^{<t>}$ = Current Cell State\n",
    "- $c^{<t-1>}$ = Previous Cell State\n",
    "\n",
    "- **$\\tilde c^{<t>}$: Candidate vector** of $t^{th}$ LSTM Block\n",
    "- $\\Gamma_u$: **Update Gate**\n",
    "    - Ranges from 0 to 1\n",
    "    - Decides how much of the candidate will be UPDATED to the **current cell state $c^{t}$**\n",
    "- $\\Gamma_f$: **Forget Gate**\n",
    "    - Ranges from 0 to 1\n",
    "    - Decides how much of the previous cell state will be FORGOTTEN from the **current cell state $c^{t}$**\n",
    "- $\\Gamma_o$: **Output Gate**\n",
    "    - Ranges from 0 to 1\n",
    "    - Decides how much of the current cell state will play a role in the calculation of the **current hidden state $a^{t}$**"
   ]
  },
  {
   "cell_type": "code",
   "execution_count": 2,
   "metadata": {},
   "outputs": [],
   "source": [
    "class LSTM(nn.Module):\n",
    "    # Can use nn.GRU, but will do from scratch\n",
    "    def __init__(self, input_size, hidden_size, output_size) -> None:\n",
    "        super(LSTM, self).__init__() # Calling the super class __init__ function\n",
    "\n",
    "        self.hidden_size = hidden_size\n",
    "        \n",
    "        self.candidate = nn.Linear(input_size+hidden_size, hidden_size)\n",
    "        self.gamma_u = nn.Linear(input_size+hidden_size, hidden_size)\n",
    "        self.gamma_f = nn.Linear(input_size+hidden_size, hidden_size)\n",
    "        self.gamma_o = nn.Linear(input_size+hidden_size, hidden_size)\n",
    "\n",
    "        self.hid2out = nn.Linear(hidden_size, output_size)\n",
    "        self.softmax = nn.LogSoftmax(dim = 1) # Input = (1,57) so will need to use the second dimension, hence dim = 1\n",
    "    \n",
    "    def forward(self, xt, a_prev, c_prev): # One cell forward pass\n",
    "        combined = torch.cat((xt, a_prev), 1) # Concat along dimension 1\n",
    "\n",
    "        candidate = torch.tanh(self.candidate(combined))\n",
    "        update_gate = torch.sigmoid(self.gamma_u(combined))\n",
    "        forget_gate = torch.sigmoid(self.gamma_f(combined))\n",
    "        output_gate = torch.sigmoid(self.gamma_o(combined))\n",
    "        \n",
    "        c_next = update_gate * candidate + forget_gate * c_prev\n",
    "        a_next = output_gate * torch.tanh(c_next)\n",
    "\n",
    "        yt = self.softmax(self.hid2out(a_next))\n",
    "        return(yt, a_next, c_next)\n",
    "    \n",
    "    def init_hidden(self):\n",
    "        return torch.zeros(1, self.hidden_size)\n",
    "    \n",
    "    def init_cell(self):\n",
    "        return torch.zeros(1, self.hidden_size)"
   ]
  },
  {
   "cell_type": "code",
   "execution_count": 3,
   "metadata": {},
   "outputs": [
    {
     "name": "stdout",
     "output_type": "stream",
     "text": [
      "18\n"
     ]
    }
   ],
   "source": [
    "category_lines, all_categories = load_data()\n",
    "\n",
    "# Number of categories -\n",
    "# (Number of different languages .txt files we have)\n",
    "n_categories = len(all_categories)\n",
    "print(n_categories)"
   ]
  },
  {
   "cell_type": "code",
   "execution_count": 4,
   "metadata": {},
   "outputs": [],
   "source": [
    "n_hidden = 256 # Hyperparameter we can set (Size of hidden state)"
   ]
  },
  {
   "cell_type": "code",
   "execution_count": 5,
   "metadata": {},
   "outputs": [],
   "source": [
    "lstm = LSTM(N_LETTERS, n_hidden, n_categories)"
   ]
  },
  {
   "cell_type": "code",
   "execution_count": 7,
   "metadata": {},
   "outputs": [],
   "source": [
    "# One step through the RNN cell\n",
    "input_tensor = letter_to_tensor('A')\n",
    "hidden_tensor = lstm.init_hidden() # Vector of zeros\n",
    "cell_tensor = lstm.init_cell() # Vector of zeros"
   ]
  },
  {
   "cell_type": "code",
   "execution_count": 9,
   "metadata": {},
   "outputs": [],
   "source": [
    "output, next_hidden, next_cell = lstm(input_tensor, hidden_tensor, cell_tensor)"
   ]
  },
  {
   "cell_type": "code",
   "execution_count": 10,
   "metadata": {},
   "outputs": [
    {
     "name": "stdout",
     "output_type": "stream",
     "text": [
      "tensor([[-2.8348, -2.8837, -2.9247, -2.8694, -2.8911, -2.8425, -2.8630, -2.8312,\n",
      "         -2.9159, -2.8532, -2.9099, -2.9333, -2.9478, -2.8958, -2.8538, -2.9292,\n",
      "         -2.8978, -2.9630]], grad_fn=<LogSoftmaxBackward0>)\n"
     ]
    }
   ],
   "source": [
    "print(output)"
   ]
  },
  {
   "cell_type": "code",
   "execution_count": 11,
   "metadata": {},
   "outputs": [
    {
     "name": "stdout",
     "output_type": "stream",
     "text": [
      "torch.Size([1, 18])\n",
      "torch.Size([1, 256])\n",
      "torch.Size([1, 256])\n"
     ]
    }
   ],
   "source": [
    "print(output.size()) # Number of categories\n",
    "print(next_hidden.size()) # Hidden size\n",
    "print(next_cell.size()) # Cell state size"
   ]
  },
  {
   "cell_type": "markdown",
   "metadata": {},
   "source": [
    "# Prediction Trial"
   ]
  },
  {
   "cell_type": "code",
   "execution_count": 15,
   "metadata": {},
   "outputs": [],
   "source": [
    "input_tensor1 = line_to_tensor('Albert')\n",
    "hidden_tensor1 = lstm.init_hidden()\n",
    "cell_tensor1 = lstm.init_cell()"
   ]
  },
  {
   "cell_type": "code",
   "execution_count": 16,
   "metadata": {},
   "outputs": [
    {
     "data": {
      "text/plain": [
       "torch.Size([6, 1, 57])"
      ]
     },
     "execution_count": 16,
     "metadata": {},
     "output_type": "execute_result"
    }
   ],
   "source": [
    "input_tensor1.shape # (Number of letters, 1, Number of total possible ASCII characters = 57)"
   ]
  },
  {
   "cell_type": "code",
   "execution_count": 17,
   "metadata": {},
   "outputs": [
    {
     "name": "stdout",
     "output_type": "stream",
     "text": [
      "torch.Size([1, 18])\n",
      "torch.Size([1, 256])\n",
      "torch.Size([1, 256])\n"
     ]
    }
   ],
   "source": [
    "output, next_hidden, next_cell = lstm(input_tensor1[0], hidden_tensor1, cell_tensor1)\n",
    "print(output.size())\n",
    "print(next_hidden.size())\n",
    "print(next_cell.size())\n",
    "# print(output)\n",
    "# print(next_hidden)\n",
    "# print(next_cell)"
   ]
  },
  {
   "cell_type": "code",
   "execution_count": 18,
   "metadata": {},
   "outputs": [
    {
     "data": {
      "text/plain": [
       "tensor(7)"
      ]
     },
     "execution_count": 18,
     "metadata": {},
     "output_type": "execute_result"
    }
   ],
   "source": [
    "torch.argmax(output)"
   ]
  },
  {
   "cell_type": "code",
   "execution_count": 19,
   "metadata": {},
   "outputs": [],
   "source": [
    "def category_from_output(output):\n",
    "    idx = torch.argmax(output).item()\n",
    "    return all_categories[idx] # Returns the respective language"
   ]
  },
  {
   "cell_type": "code",
   "execution_count": 20,
   "metadata": {},
   "outputs": [
    {
     "name": "stdout",
     "output_type": "stream",
     "text": [
      "French\n"
     ]
    }
   ],
   "source": [
    "print(category_from_output(output)) # Its untrained hence it prints any random language"
   ]
  },
  {
   "cell_type": "markdown",
   "metadata": {},
   "source": [
    "# Training"
   ]
  },
  {
   "cell_type": "code",
   "execution_count": 21,
   "metadata": {},
   "outputs": [],
   "source": [
    "criterion = nn.NLLLoss()\n",
    "learning_rate = 0.005\n",
    "optimizer = torch.optim.SGD(lstm.parameters(), lr = learning_rate)"
   ]
  },
  {
   "cell_type": "code",
   "execution_count": 22,
   "metadata": {},
   "outputs": [],
   "source": [
    "def train(line_tensor, category_tensor):\n",
    "    \"\"\"\n",
    "        line_tensor: Whole line as a tensor of one_hot encoded letters\n",
    "        category_tensor: index of the class label in one-hot encoded form of shape - [1, n_categories] (n_categories = 18 here)\n",
    "    \"\"\"\n",
    "    hidden = lstm.init_hidden()\n",
    "    cell = lstm.init_cell()\n",
    "\n",
    "    for i in range(line_tensor.shape[0]):\n",
    "        output, hidden, cell = lstm(line_tensor[i], hidden, cell)\n",
    "\n",
    "    loss = criterion(output, category_tensor)\n",
    "    optimizer.zero_grad()\n",
    "    with torch.autograd.set_detect_anomaly(True):\n",
    "        loss.backward()\n",
    "    optimizer.step()\n",
    "\n",
    "    return output, loss.item() # Loss as float value"
   ]
  },
  {
   "cell_type": "code",
   "execution_count": 23,
   "metadata": {},
   "outputs": [],
   "source": [
    "current_loss = 0\n",
    "all_losses = []\n",
    "\n",
    "# After 1000 steps - plot\n",
    "# After 5000 steps - print\n",
    "plot_steps, print_steps = 1000, 5000 \n",
    "n_iters = 100000"
   ]
  },
  {
   "cell_type": "code",
   "execution_count": 24,
   "metadata": {},
   "outputs": [
    {
     "name": "stdout",
     "output_type": "stream",
     "text": [
      "Epoch 5000; 5% complete; Loss = 2.9007; Abadi / German WRONG! (Arabic)\n",
      "Epoch 10000; 10% complete; Loss = 2.8613; Irie / German WRONG! (Japanese)\n",
      "Epoch 15000; 15% complete; Loss = 2.7774; Gallego / Spanish CORRECT!\n",
      "Epoch 20000; 20% complete; Loss = 2.6045; Metrofanis / Greek CORRECT!\n",
      "Epoch 25000; 25% complete; Loss = 2.7084; Vedenkov / Russian CORRECT!\n",
      "Epoch 30000; 30% complete; Loss = 2.2466; Van / Vietnamese CORRECT!\n",
      "Epoch 35000; 35% complete; Loss = 2.0757; Tseluiko / Polish WRONG! (Russian)\n",
      "Epoch 40000; 40% complete; Loss = 1.4270; Son / Korean CORRECT!\n",
      "Epoch 45000; 45% complete; Loss = 2.3406; Mendes / Dutch WRONG! (Portuguese)\n",
      "Epoch 50000; 50% complete; Loss = 1.7841; Johnston / Irish WRONG! (Scottish)\n",
      "Epoch 55000; 55% complete; Loss = 3.8258; Minobe / French WRONG! (Japanese)\n",
      "Epoch 60000; 60% complete; Loss = 0.9523; Habichev / Russian CORRECT!\n",
      "Epoch 65000; 65% complete; Loss = 2.0713; Sarraf / Portuguese WRONG! (Arabic)\n",
      "Epoch 70000; 70% complete; Loss = 0.8274; Kerper / German CORRECT!\n",
      "Epoch 75000; 75% complete; Loss = 2.4254; Klein / Irish WRONG! (Dutch)\n",
      "Epoch 80000; 80% complete; Loss = 0.0568; Rovigatti / Italian CORRECT!\n",
      "Epoch 85000; 85% complete; Loss = 3.2118; Bonnay / Irish WRONG! (French)\n",
      "Epoch 90000; 90% complete; Loss = 1.1348; Li / Chinese WRONG! (Korean)\n",
      "Epoch 95000; 95% complete; Loss = 1.0867; O'Dowd / Irish CORRECT!\n",
      "Epoch 100000; 100% complete; Loss = 1.2177; Wong / Korean WRONG! (Chinese)\n",
      "Finished Training in 10.0m 54.96617889404297s\n"
     ]
    }
   ],
   "source": [
    "tic = time.time()\n",
    "for i in range(n_iters):\n",
    "    category, line, category_tensor, line_tensor = random_training_example(category_lines = category_lines, all_categories = all_categories)\n",
    "    output, loss = train(line_tensor, category_tensor) # One iteration of training\n",
    "    current_loss+=loss\n",
    "\n",
    "    if (i+1) % plot_steps == 0:\n",
    "        all_losses.append(current_loss / plot_steps)\n",
    "        current_loss = 0\n",
    "    \n",
    "    if (i+1) % print_steps == 0:\n",
    "        prediction = category_from_output(output)\n",
    "        # category = true category label\n",
    "        # Basically we do a single prediction every 5000 steps (= print_steps)\n",
    "        correct = \"CORRECT!\" if prediction == category else f'WRONG! ({category})'\n",
    "        print(f'Epoch {i+1}; {(i+1)/n_iters * 100:.0f}% complete; Loss = {loss:.4f}; {line} / {prediction} {correct}')\n",
    "print(f'Finished Training in {(time.time()-tic)//60:.0f}m {(time.time()-tic)%60:.0f}s')"
   ]
  },
  {
   "cell_type": "code",
   "execution_count": 25,
   "metadata": {},
   "outputs": [
    {
     "data": {
      "image/png": "[encoded data removed]",
      "text/plain": [
       "<Figure size 2000x1000 with 1 Axes>"
      ]
     },
     "metadata": {},
     "output_type": "display_data"
    }
   ],
   "source": [
    "plt.figure(figsize = (20,10))\n",
    "plt.plot(all_losses)\n",
    "plt.show()"
   ]
  },
  {
   "cell_type": "code",
   "execution_count": 28,
   "metadata": {},
   "outputs": [],
   "source": [
    "def predict(input_line):\n",
    "    print(f'\\n> {input_line}')\n",
    "    with torch.no_grad():\n",
    "        line_tensor = line_to_tensor(input_line)\n",
    "        hidden = lstm.init_hidden()\n",
    "        cell = lstm.init_cell()\n",
    "\n",
    "        for i in range(line_tensor.shape[0] - 1):\n",
    "            _, hidden, cell = lstm(line_tensor[i], hidden, cell)\n",
    "\n",
    "        output, hidden, cell = lstm(line_tensor[i+1], hidden, cell)\n",
    "        prediction = category_from_output(output)\n",
    "        print('Prediction:', prediction)"
   ]
  },
  {
   "cell_type": "code",
   "execution_count": 29,
   "metadata": {},
   "outputs": [
    {
     "name": "stdout",
     "output_type": "stream",
     "text": [
      "\n",
      "> Bao\n",
      "Prediction: Vietnamese\n",
      "\n",
      "> O'connor\n",
      "Prediction: Scottish\n",
      "\n",
      "> Gerard\n",
      "Prediction: German\n",
      "\n",
      "> Mahmood\n",
      "Prediction: Arabic\n",
      "\n",
      "> Polish\n",
      "Prediction: English\n",
      "\n",
      "> Richman\n",
      "Prediction: Scottish\n",
      "\n",
      "> Abel\n",
      "Prediction: German\n",
      "\n",
      "> Abl\n",
      "Prediction: German\n"
     ]
    }
   ],
   "source": [
    "while True:\n",
    "    sentence = input(\"INPUT: \")\n",
    "    if sentence == 'quit':\n",
    "        break\n",
    "    predict(sentence)"
   ]
  },
  {
   "cell_type": "code",
   "execution_count": null,
   "metadata": {},
   "outputs": [],
   "source": []
  }
 ],
 "metadata": {
  "kernelspec": {
   "display_name": "Python 3.10.6",
   "language": "python",
   "name": "python3"
  },
  "language_info": {
   "codemirror_mode": {
    "name": "ipython",
    "version": 3
   },
   "file_extension": ".py",
   "mimetype": "text/x-python",
   "name": "python",
   "nbconvert_exporter": "python",
   "pygments_lexer": "ipython3",
   "version": "3.10.6"
  },
  "orig_nbformat": 4,
  "vscode": {
   "interpreter": {
    "hash": "193f6b5c64d175a70f8bc370a8e28557b54eddf9787b8dde324aa4d68183bc16"
   }
  }
 },
 "nbformat": 4,
 "nbformat_minor": 2
}
