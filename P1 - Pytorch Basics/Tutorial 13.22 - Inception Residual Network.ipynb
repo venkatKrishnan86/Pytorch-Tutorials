{
 "cells": [
  {
   "cell_type": "code",
   "execution_count": 1,
   "metadata": {},
   "outputs": [],
   "source": [
    "import torch\n",
    "import torch.nn as nn\n",
    "import torchvision\n",
    "import torchvision.transforms as transforms\n",
    "from torchsummary import summary\n",
    "import numpy as np\n",
    "import matplotlib.pyplot as plt\n",
    "import copy\n",
    "import time"
   ]
  },
  {
   "cell_type": "code",
   "execution_count": 2,
   "metadata": {},
   "outputs": [],
   "source": [
    "torch.manual_seed(10)\n",
    "device = torch.device('mps' if torch.backends.mps.is_available() else 'cpu')"
   ]
  },
  {
   "cell_type": "code",
   "execution_count": 3,
   "metadata": {},
   "outputs": [],
   "source": [
    "mean = 0.5\n",
    "std_dev = 0.25"
   ]
  },
  {
   "cell_type": "code",
   "execution_count": 4,
   "metadata": {},
   "outputs": [],
   "source": [
    "transform1 = transforms.Compose([\n",
    "    transforms.AutoAugment(),\n",
    "    transforms.ToTensor(),\n",
    "    transforms.Normalize(mean,std_dev)\n",
    "])\n",
    "transform2 = transforms.Compose([\n",
    "    transforms.ToTensor(),\n",
    "    transforms.Normalize(mean,std_dev)\n",
    "])"
   ]
  },
  {
   "cell_type": "code",
   "execution_count": 5,
   "metadata": {},
   "outputs": [],
   "source": [
    "train_data = torchvision.datasets.MNIST(\n",
    "    root='../datasets',\n",
    "    train = True,\n",
    "    transform=transform2 #download is False in default\n",
    ")\n",
    "\n",
    "test_data = torchvision.datasets.MNIST(\n",
    "    root='../datasets',\n",
    "    train = False,\n",
    "    transform=transform2\n",
    ")"
   ]
  },
  {
   "cell_type": "code",
   "execution_count": 6,
   "metadata": {},
   "outputs": [
    {
     "data": {
      "text/plain": [
       "60000"
      ]
     },
     "execution_count": 6,
     "metadata": {},
     "output_type": "execute_result"
    }
   ],
   "source": [
    "len(train_data)"
   ]
  },
  {
   "cell_type": "code",
   "execution_count": 7,
   "metadata": {},
   "outputs": [],
   "source": [
    "num_epochs = 30\n",
    "batch_size = 512\n",
    "learning_rate = 1e-3"
   ]
  },
  {
   "cell_type": "code",
   "execution_count": 8,
   "metadata": {},
   "outputs": [],
   "source": [
    "train_loader = torch.utils.data.DataLoader(\n",
    "    dataset = train_data,\n",
    "    batch_size = batch_size,\n",
    "    shuffle = True\n",
    ")\n",
    "test_loader = torch.utils.data.DataLoader(\n",
    "    dataset = test_data,\n",
    "    batch_size = batch_size,\n",
    "    shuffle = True\n",
    ")"
   ]
  },
  {
   "cell_type": "code",
   "execution_count": 9,
   "metadata": {},
   "outputs": [
    {
     "data": {
      "text/plain": [
       "118"
      ]
     },
     "execution_count": 9,
     "metadata": {},
     "output_type": "execute_result"
    }
   ],
   "source": [
    "len(train_loader)"
   ]
  },
  {
   "cell_type": "code",
   "execution_count": 10,
   "metadata": {},
   "outputs": [],
   "source": [
    "def imshow(img, label):\n",
    "    img = img * std_dev + mean  # unnormalize\n",
    "    plt.imshow(img.reshape(img.shape[1],img.shape[2],img.shape[0]))\n",
    "    plt.title(f'Label {label}')\n",
    "    plt.show()"
   ]
  },
  {
   "cell_type": "code",
   "execution_count": 12,
   "metadata": {},
   "outputs": [
    {
     "data": {
      "image/png": "[encoded data removed]",
      "text/plain": [
       "<Figure size 640x480 with 1 Axes>"
      ]
     },
     "metadata": {},
     "output_type": "display_data"
    }
   ],
   "source": [
    "dataiter = next(iter(train_loader))\n",
    "images, labels = dataiter\n",
    "imshow(images[2],labels[2])"
   ]
  },
  {
   "cell_type": "code",
   "execution_count": 13,
   "metadata": {},
   "outputs": [
    {
     "data": {
      "text/plain": [
       "torch.Size([512, 1, 28, 28])"
      ]
     },
     "execution_count": 13,
     "metadata": {},
     "output_type": "execute_result"
    }
   ],
   "source": [
    "images.shape"
   ]
  },
  {
   "cell_type": "code",
   "execution_count": 14,
   "metadata": {},
   "outputs": [],
   "source": [
    "class MyInceptionNetwork(nn.Module):\n",
    "    def __init__(self) -> None:\n",
    "        super(MyInceptionNetwork, self).__init__()\n",
    "        self.conv11 = nn.Conv2d(1,16,3,1,'same')\n",
    "        self.conv12 = nn.Conv2d(1,20,5,1,'same')\n",
    "        self.conv13 = nn.Conv2d(1,12,7,1,'same')\n",
    "\n",
    "        # Adding a Batch norm at every point, brings a HUGE IMPROVEMENT in ACCURACY \n",
    "        self.norm11 = nn.BatchNorm2d(12+20+16)\n",
    "        self.conv1 = nn.Conv2d(12+20+16, 12+20+16, 1, 1) # 28, 28, 48\n",
    "        self.norm12 = nn.BatchNorm2d(12+20+16)\n",
    "\n",
    "        self.conv21 = nn.Conv2d(12+20+16, 64, 3, 2, 1)\n",
    "        self.conv22 = nn.Conv2d(12+20+16, 32, 5, 2, 2)\n",
    "        self.conv23 = nn.Conv2d(12+20+16, 16, 7, 2, 3)\n",
    "\n",
    "        self.conv1to2 = nn.Conv2d(1, 64+32+16, 5, 2, 2)\n",
    "        self.norm1to2 = nn.BatchNorm2d(64+32+16)\n",
    "\n",
    "        self.norm21 = nn.BatchNorm2d(64+32+16)\n",
    "        self.conv2 = nn.Conv2d(64+32+16, 64+32+16, 1, 1) # 14, 14, 112\n",
    "        self.norm22 = nn.BatchNorm2d(64+32+16)\n",
    "\n",
    "        self.conv31 = nn.Conv2d(64+32+16, 100, 1, 1, 0)\n",
    "        self.conv32 = nn.Conv2d(64+32+16, 100, 3, 1, 1)\n",
    "        self.conv33 = nn.Conv2d(64+32+16, 50, 5, 1, 2)\n",
    "        self.conv34 = nn.Conv2d(64+32+16, 50, 7, 1, 3)\n",
    "        self.maxpool1 = nn.MaxPool2d(3,1,padding = 1) # Stride = 1\n",
    "        self.conv_maxpool = nn.Conv2d(64+32+16, 32, 1, 1, 0)\n",
    "\n",
    "        self.conv1to3 = nn.Conv2d(1, 332, 5, 2, 2)\n",
    "        self.norm1to3 = nn.BatchNorm2d(332)\n",
    "\n",
    "        self.norm31 = nn.BatchNorm2d(332)\n",
    "        self.conv3 = nn.Conv2d(332, 332, 7, 2) # 4, 4, 332\n",
    "        self.norm32 = nn.BatchNorm2d(332)\n",
    "\n",
    "        self.conv1to4 = nn.Conv2d(1, 332, 9, 5, 0)\n",
    "        self.norm1to4 = nn.BatchNorm2d(332)\n",
    "\n",
    "        self.maxpool_final = nn.MaxPool2d(2,2) # 2, 2, 332\n",
    "\n",
    "        self.linear1 = nn.Linear(332*4,500)\n",
    "        self.norm4 = nn.BatchNorm1d(500)\n",
    "        self.linear2 = nn.Linear(500,100)\n",
    "        self.norm5 = nn.BatchNorm1d(100)\n",
    "        self.linear3 = nn.Linear(100,10)\n",
    "\n",
    "    def forward(self, x):\n",
    "        x_temp = x\n",
    "\n",
    "        x1 = torch.relu(self.conv11(x))\n",
    "        x2 = torch.relu(self.conv12(x))\n",
    "        x3 = torch.relu(self.conv13(x))\n",
    "        x = x1\n",
    "        x = torch.cat((x,x2),1)\n",
    "        x = torch.cat((x,x3),1)\n",
    "\n",
    "        x = self.norm12(torch.relu(self.conv1(self.norm11(x))))\n",
    "\n",
    "        x1 = torch.relu(self.conv21(x))\n",
    "        x2 = torch.relu(self.conv22(x))\n",
    "        x3 = torch.relu(self.conv23(x))\n",
    "        x = x1\n",
    "        x = torch.cat((x,x2),1)\n",
    "        x = torch.cat((x,x3),1)\n",
    "\n",
    "        x = self.norm22(torch.relu(self.conv2(self.norm21(x) + self.norm1to2(torch.relu(self.conv1to2(x_temp))))))\n",
    "\n",
    "        x1 = torch.relu(self.conv31(x))\n",
    "        x2 = torch.relu(self.conv32(x))\n",
    "        x3 = torch.relu(self.conv33(x))\n",
    "        x4 = torch.relu(self.conv34(x))\n",
    "        x5 = torch.relu(self.conv_maxpool(self.maxpool1(x)))\n",
    "        x = x1\n",
    "        x = torch.cat((x,x2),1)\n",
    "        x = torch.cat((x,x3),1)\n",
    "        x = torch.cat((x,x4),1)\n",
    "        x = torch.cat((x,x5),1)\n",
    "\n",
    "        x = self.maxpool_final(self.norm32(torch.relu(self.conv3(self.norm31(x) + self.norm1to3(torch.relu(self.conv1to3(x_temp)))))) + self.norm1to4(torch.relu(self.conv1to4(x_temp))))\n",
    "\n",
    "        x = torch.flatten(x, 1)\n",
    "\n",
    "        x = self.norm4(torch.relu(self.linear1(x)))\n",
    "        x = self.norm5(torch.relu(self.linear2(x)))\n",
    "        x = torch.relu(self.linear3(x))\n",
    "\n",
    "        return(x)"
   ]
  },
  {
   "cell_type": "code",
   "execution_count": 15,
   "metadata": {},
   "outputs": [],
   "source": [
    "incresnet = MyInceptionNetwork().to(device)"
   ]
  },
  {
   "cell_type": "code",
   "execution_count": 16,
   "metadata": {},
   "outputs": [],
   "source": [
    "criterion = nn.CrossEntropyLoss()\n",
    "optimizer = torch.optim.Adam(incresnet.parameters(), lr = learning_rate)\n",
    "scheduler = torch.optim.lr_scheduler.StepLR(optimizer, step_size = 6, gamma = 0.5)"
   ]
  },
  {
   "cell_type": "code",
   "execution_count": 17,
   "metadata": {},
   "outputs": [
    {
     "name": "stdout",
     "output_type": "stream",
     "text": [
      "----------------------------------------------------------------\n",
      "        Layer (type)               Output Shape         Param #\n",
      "================================================================\n",
      "            Conv2d-1           [-1, 16, 28, 28]             160\n",
      "            Conv2d-2           [-1, 20, 28, 28]             520\n",
      "            Conv2d-3           [-1, 12, 28, 28]             600\n",
      "       BatchNorm2d-4           [-1, 48, 28, 28]              96\n",
      "            Conv2d-5           [-1, 48, 28, 28]           2,352\n",
      "       BatchNorm2d-6           [-1, 48, 28, 28]              96\n",
      "            Conv2d-7           [-1, 64, 14, 14]          27,712\n",
      "            Conv2d-8           [-1, 32, 14, 14]          38,432\n",
      "            Conv2d-9           [-1, 16, 14, 14]          37,648\n",
      "      BatchNorm2d-10          [-1, 112, 14, 14]             224\n",
      "           Conv2d-11          [-1, 112, 14, 14]           2,912\n",
      "      BatchNorm2d-12          [-1, 112, 14, 14]             224\n",
      "           Conv2d-13          [-1, 112, 14, 14]          12,656\n",
      "      BatchNorm2d-14          [-1, 112, 14, 14]             224\n",
      "           Conv2d-15          [-1, 100, 14, 14]          11,300\n",
      "           Conv2d-16          [-1, 100, 14, 14]         100,900\n",
      "           Conv2d-17           [-1, 50, 14, 14]         140,050\n",
      "           Conv2d-18           [-1, 50, 14, 14]         274,450\n",
      "        MaxPool2d-19          [-1, 112, 14, 14]               0\n",
      "           Conv2d-20           [-1, 32, 14, 14]           3,616\n",
      "      BatchNorm2d-21          [-1, 332, 14, 14]             664\n",
      "           Conv2d-22          [-1, 332, 14, 14]           8,632\n",
      "      BatchNorm2d-23          [-1, 332, 14, 14]             664\n",
      "           Conv2d-24            [-1, 332, 4, 4]       5,401,308\n",
      "      BatchNorm2d-25            [-1, 332, 4, 4]             664\n",
      "           Conv2d-26            [-1, 332, 4, 4]          27,224\n",
      "      BatchNorm2d-27            [-1, 332, 4, 4]             664\n",
      "        MaxPool2d-28            [-1, 332, 2, 2]               0\n",
      "           Linear-29                  [-1, 500]         664,500\n",
      "      BatchNorm1d-30                  [-1, 500]           1,000\n",
      "           Linear-31                  [-1, 100]          50,100\n",
      "      BatchNorm1d-32                  [-1, 100]             200\n",
      "           Linear-33                   [-1, 10]           1,010\n",
      "================================================================\n",
      "Total params: 6,810,802\n",
      "Trainable params: 6,810,802\n",
      "Non-trainable params: 0\n",
      "----------------------------------------------------------------\n",
      "Input size (MB): 0.00\n",
      "Forward/backward pass size (MB): 4.49\n",
      "Params size (MB): 25.98\n",
      "Estimated Total Size (MB): 30.47\n",
      "----------------------------------------------------------------\n"
     ]
    }
   ],
   "source": [
    "summary(copy.deepcopy(incresnet).to('cpu'), (1,28,28))"
   ]
  },
  {
   "cell_type": "code",
   "execution_count": 18,
   "metadata": {},
   "outputs": [
    {
     "name": "stdout",
     "output_type": "stream",
     "text": [
      "Epoch 1/30; Loss = 0.031976; LR = [0.001]\n",
      "SAVED MODEL WEIGHTS\n",
      "Dev Accuracy: 98.32%\n",
      "--------------------\n",
      "Epoch 2/30; Loss = 0.030722; LR = [0.001]\n",
      "SAVED MODEL WEIGHTS\n",
      "Dev Accuracy: 98.69%\n",
      "--------------------\n",
      "Epoch 3/30; Loss = 0.004341; LR = [0.001]\n",
      "SAVED MODEL WEIGHTS\n",
      "Dev Accuracy: 99.11%\n",
      "--------------------\n",
      "Epoch 4/30; Loss = 0.001211; LR = [0.001]\n",
      "SAVED MODEL WEIGHTS\n",
      "Dev Accuracy: 99.32%\n",
      "--------------------\n",
      "Epoch 5/30; Loss = 0.054655; LR = [0.001]\n",
      "Dev Accuracy: 99.09%\n",
      "--------------------\n",
      "Epoch 6/30; Loss = 0.001523; LR = [0.0005]\n",
      "Dev Accuracy: 98.86%\n",
      "--------------------\n",
      "Epoch 7/30; Loss = 0.000384; LR = [0.0005]\n",
      "SAVED MODEL WEIGHTS\n",
      "Dev Accuracy: 99.35%\n",
      "--------------------\n",
      "Epoch 8/30; Loss = 0.000256; LR = [0.0005]\n",
      "SAVED MODEL WEIGHTS\n",
      "Dev Accuracy: 99.39%\n",
      "--------------------\n",
      "Epoch 9/30; Loss = 0.000406; LR = [0.0005]\n",
      "SAVED MODEL WEIGHTS\n",
      "Dev Accuracy: 99.42%\n",
      "--------------------\n",
      "Epoch 10/30; Loss = 0.000311; LR = [0.0005]\n",
      "SAVED MODEL WEIGHTS\n",
      "Train Accuracy: 100.00%\n",
      "Dev Accuracy: 99.44%\n",
      "--------------------\n",
      "Epoch 11/30; Loss = 0.000265; LR = [0.0005]\n",
      "Dev Accuracy: 99.43%\n",
      "--------------------\n",
      "Epoch 12/30; Loss = 0.000412; LR = [0.00025]\n",
      "SAVED MODEL WEIGHTS\n",
      "Dev Accuracy: 99.47%\n",
      "--------------------\n",
      "Epoch 13/30; Loss = 0.000212; LR = [0.00025]\n",
      "Dev Accuracy: 99.44%\n",
      "--------------------\n",
      "Epoch 14/30; Loss = 0.000199; LR = [0.00025]\n",
      "Dev Accuracy: 99.46%\n",
      "--------------------\n",
      "Epoch 15/30; Loss = 0.000139; LR = [0.00025]\n",
      "Dev Accuracy: 99.45%\n",
      "--------------------\n",
      "Epoch 16/30; Loss = 0.000111; LR = [0.00025]\n",
      "Dev Accuracy: 99.44%\n",
      "--------------------\n"
     ]
    },
    {
     "ename": "KeyboardInterrupt",
     "evalue": "",
     "output_type": "error",
     "traceback": [
      "\u001b[0;31m---------------------------------------------------------------------------\u001b[0m",
      "\u001b[0;31mKeyboardInterrupt\u001b[0m                         Traceback (most recent call last)",
      "\u001b[0;32m/var/folders/19/ltb_35_s78j73zmsywmqs_wc0000gn/T/ipykernel_91342/3694008922.py\u001b[0m in \u001b[0;36m<module>\u001b[0;34m\u001b[0m\n\u001b[1;32m      7\u001b[0m     \u001b[0mincresnet\u001b[0m\u001b[0;34m.\u001b[0m\u001b[0mtrain\u001b[0m\u001b[0;34m(\u001b[0m\u001b[0;34m)\u001b[0m\u001b[0;34m\u001b[0m\u001b[0;34m\u001b[0m\u001b[0m\n\u001b[1;32m      8\u001b[0m     \u001b[0;32mfor\u001b[0m \u001b[0mi\u001b[0m\u001b[0;34m,\u001b[0m \u001b[0;34m(\u001b[0m\u001b[0mimages\u001b[0m\u001b[0;34m,\u001b[0m\u001b[0mlabels\u001b[0m\u001b[0;34m)\u001b[0m \u001b[0;32min\u001b[0m \u001b[0menumerate\u001b[0m\u001b[0;34m(\u001b[0m\u001b[0mtrain_loader\u001b[0m\u001b[0;34m)\u001b[0m\u001b[0;34m:\u001b[0m\u001b[0;34m\u001b[0m\u001b[0;34m\u001b[0m\u001b[0m\n\u001b[0;32m----> 9\u001b[0;31m         \u001b[0mimages\u001b[0m \u001b[0;34m=\u001b[0m \u001b[0mimages\u001b[0m\u001b[0;34m.\u001b[0m\u001b[0mto\u001b[0m\u001b[0;34m(\u001b[0m\u001b[0mdevice\u001b[0m\u001b[0;34m)\u001b[0m\u001b[0;34m\u001b[0m\u001b[0;34m\u001b[0m\u001b[0m\n\u001b[0m\u001b[1;32m     10\u001b[0m         \u001b[0mlabels\u001b[0m \u001b[0;34m=\u001b[0m \u001b[0mlabels\u001b[0m\u001b[0;34m.\u001b[0m\u001b[0mto\u001b[0m\u001b[0;34m(\u001b[0m\u001b[0mdevice\u001b[0m\u001b[0;34m)\u001b[0m\u001b[0;34m\u001b[0m\u001b[0;34m\u001b[0m\u001b[0m\n\u001b[1;32m     11\u001b[0m \u001b[0;34m\u001b[0m\u001b[0m\n",
      "\u001b[0;31mKeyboardInterrupt\u001b[0m: "
     ]
    }
   ],
   "source": [
    "best_weights = copy.deepcopy(incresnet.state_dict())\n",
    "max = 0\n",
    "val_acc = 0\n",
    "train_acc = 0\n",
    "tic = time.time()\n",
    "for epoch in range(num_epochs):\n",
    "    incresnet.train()\n",
    "    for i, (images,labels) in enumerate(train_loader):\n",
    "        images = images.to(device)\n",
    "        labels = labels.to(device)\n",
    "\n",
    "        preds = incresnet.forward(images)\n",
    "        loss = criterion(preds, labels)\n",
    "\n",
    "        optimizer.zero_grad()\n",
    "        loss.backward()\n",
    "        optimizer.step()\n",
    "    scheduler.step() # Decaying learning rate per 25 epochs by 0.2 times\n",
    "    print(f'Epoch {epoch+1}/{num_epochs}; Loss = {loss.item():.6f}; LR = {scheduler.get_last_lr()}')\n",
    "    with torch.no_grad():\n",
    "        n_samples = 0\n",
    "        n_correct = 0\n",
    "        incresnet.eval()\n",
    "        for images, labels in test_loader:\n",
    "            images = images.to(device) # From 128, 1, 28, 28 ---> 128, 784\n",
    "            labels = labels.to(device)\n",
    "            pred_outputs1 = incresnet(images)\n",
    "            _, actual_preds1 = torch.max(pred_outputs1, 1) # Returns value, index\n",
    "            n_samples += labels.shape[0]\n",
    "            n_correct += (actual_preds1 == labels).sum().item()\n",
    "        val_acc = n_correct/n_samples * 100\n",
    "\n",
    "        if (max <= (n_correct/n_samples * 100)):\n",
    "            print('SAVED MODEL WEIGHTS')\n",
    "            max = val_acc\n",
    "            best_weights = copy.deepcopy(incresnet.state_dict())\n",
    "        \n",
    "        if((epoch+1) % 10 == 0):\n",
    "            n_samples = 0\n",
    "            n_correct = 0\n",
    "            \n",
    "            for images, labels in train_loader:\n",
    "                images = images.to(device) # From 128, 1, 28, 28 ---> 128, 784\n",
    "                labels = labels.to(device)\n",
    "                pred_outputs1 = incresnet(images)\n",
    "                _, actual_preds1 = torch.max(pred_outputs1, 1) # Returns value, index\n",
    "                n_samples += labels.shape[0]\n",
    "                n_correct += (actual_preds1 == labels).sum().item()\n",
    "            train_acc = n_correct/n_samples * 100\n",
    "            print(f'Train Accuracy: {train_acc:.2f}%')\n",
    "    print(f'Dev Accuracy: {val_acc:.2f}%')\n",
    "    print(\"-\"*20)\n",
    "print('Finished Training!')\n",
    "print(f'Best Test Accuracy = {max}%')\n",
    "print(f'Time Taken = {(time.time()-tic)//60}m {(time.time()-tic)%60}s')"
   ]
  },
  {
   "cell_type": "markdown",
   "metadata": {},
   "source": [
    "No improvement at all, performance in pure inception network is better"
   ]
  },
  {
   "cell_type": "code",
   "execution_count": 18,
   "metadata": {},
   "outputs": [],
   "source": [
    "incresnet.load_state_dict(best_weights)\n",
    "torch.save(incresnet, 'models/simple_incresnet_mnist.pt')"
   ]
  },
  {
   "cell_type": "code",
   "execution_count": 19,
   "metadata": {},
   "outputs": [
    {
     "name": "stdout",
     "output_type": "stream",
     "text": [
      "Training Accuracy = 100.00%\n"
     ]
    }
   ],
   "source": [
    "incresnet.eval()\n",
    "for images, labels in train_loader: # Train Accuracy\n",
    "    images = images.to(device) # From 128, 1, 28, 28 ---> 128, 784\n",
    "    labels = labels.to(device)\n",
    "    pred_outputs1 = incresnet(images)\n",
    "    _, actual_preds1 = torch.max(pred_outputs1, 1) # Returns value, index\n",
    "    n_samples += labels.shape[0]\n",
    "    n_correct += (actual_preds1 == labels).sum().item()\n",
    "train_acc = n_correct/n_samples * 100\n",
    "print(f'Training Accuracy = {train_acc:.2f}%')\n"
   ]
  }
 ],
 "metadata": {
  "kernelspec": {
   "display_name": "Python 3.10.6",
   "language": "python",
   "name": "python3"
  },
  "language_info": {
   "codemirror_mode": {
    "name": "ipython",
    "version": 3
   },
   "file_extension": ".py",
   "mimetype": "text/x-python",
   "name": "python",
   "nbconvert_exporter": "python",
   "pygments_lexer": "ipython3",
   "version": "3.10.6"
  },
  "orig_nbformat": 4,
  "vscode": {
   "interpreter": {
    "hash": "193f6b5c64d175a70f8bc370a8e28557b54eddf9787b8dde324aa4d68183bc16"
   }
  }
 },
 "nbformat": 4,
 "nbformat_minor": 2
}
