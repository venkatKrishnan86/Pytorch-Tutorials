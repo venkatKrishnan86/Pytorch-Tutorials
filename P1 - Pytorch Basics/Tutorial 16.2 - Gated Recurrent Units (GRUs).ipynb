{
 "cells": [
  {
   "cell_type": "code",
   "execution_count": 1,
   "metadata": {},
   "outputs": [],
   "source": [
    "import torch\n",
    "import torch.nn as nn\n",
    "import sys\n",
    "\n",
    "sys.path.append('../Natural Language Processing/')\n",
    "\n",
    "from NLP_utils import *\n",
    "import matplotlib.pyplot as plt\n",
    "import time"
   ]
  },
  {
   "cell_type": "markdown",
   "metadata": {},
   "source": [
    "# GRU"
   ]
  },
  {
   "cell_type": "code",
   "execution_count": 2,
   "metadata": {},
   "outputs": [],
   "source": [
    "class GRU(nn.Module):\n",
    "    # Can use nn.GRU, but will do from scratch\n",
    "    def __init__(self, input_size, hidden_size, output_size) -> None:\n",
    "        super(GRU, self).__init__() # Calling the super class __init__ function\n",
    "\n",
    "        self.hidden_size = hidden_size\n",
    "        \n",
    "        self.candidate = nn.Linear(input_size+hidden_size, hidden_size)\n",
    "        self.gamma_u = nn.Linear(input_size+hidden_size, hidden_size)\n",
    "        self.gamma_r = nn.Linear(input_size+hidden_size, hidden_size)\n",
    "\n",
    "        self.hid2out = nn.Linear(hidden_size, output_size)\n",
    "        self.softmax = nn.LogSoftmax(dim = 1) # Input = (1,57) so will need to use the second dimension, hence dim = 1\n",
    "    \n",
    "    def forward(self, xt, c_prev): # One cell forward pass\n",
    "        combined = torch.cat((xt, c_prev), 1) # Concat along dimension 1\n",
    "        relevance_gate = torch.sigmoid(self.gamma_r(combined))\n",
    "\n",
    "        combined_cand = torch.cat((xt, relevance_gate * c_prev), 1)\n",
    "\n",
    "        candidate = torch.tanh(self.candidate(combined_cand))\n",
    "        update_gate = torch.sigmoid(self.gamma_u(combined))\n",
    "        \n",
    "        c_next = update_gate * candidate + (1 - update_gate) * c_prev\n",
    "\n",
    "        yt = self.softmax(self.hid2out(c_next))\n",
    "        return(yt, c_next)\n",
    "    \n",
    "    def init_hidden(self):\n",
    "        return torch.zeros(1, self.hidden_size)"
   ]
  },
  {
   "cell_type": "code",
   "execution_count": 3,
   "metadata": {},
   "outputs": [
    {
     "name": "stdout",
     "output_type": "stream",
     "text": [
      "18\n"
     ]
    }
   ],
   "source": [
    "category_lines, all_categories = load_data()\n",
    "\n",
    "# Number of categories -\n",
    "# (Number of different languages .txt files we have)\n",
    "n_categories = len(all_categories)\n",
    "print(n_categories)"
   ]
  },
  {
   "cell_type": "code",
   "execution_count": 4,
   "metadata": {},
   "outputs": [],
   "source": [
    "n_hidden = 256 # Hyperparameter we can set (Size of hidden state)"
   ]
  },
  {
   "cell_type": "code",
   "execution_count": 5,
   "metadata": {},
   "outputs": [],
   "source": [
    "gru = GRU(N_LETTERS, n_hidden, n_categories)"
   ]
  },
  {
   "cell_type": "code",
   "execution_count": 6,
   "metadata": {},
   "outputs": [],
   "source": [
    "# One step through the RNN cell\n",
    "input_tensor = letter_to_tensor('A')\n",
    "hidden_tensor = gru.init_hidden() # Vector of zeros"
   ]
  },
  {
   "cell_type": "code",
   "execution_count": 7,
   "metadata": {},
   "outputs": [],
   "source": [
    "output, next_hidden = gru(input_tensor, hidden_tensor)"
   ]
  },
  {
   "cell_type": "code",
   "execution_count": 8,
   "metadata": {},
   "outputs": [
    {
     "name": "stdout",
     "output_type": "stream",
     "text": [
      "tensor([[-2.9404, -2.9497, -2.9090, -2.8439, -2.9241, -2.8575, -2.8362, -2.8487,\n",
      "         -2.9238, -2.8805, -2.8661, -2.9263, -2.8877, -2.9583, -2.8593, -2.8629,\n",
      "         -2.8429, -2.9233]], grad_fn=<LogSoftmaxBackward0>)\n"
     ]
    }
   ],
   "source": [
    "print(output)"
   ]
  },
  {
   "cell_type": "code",
   "execution_count": 9,
   "metadata": {},
   "outputs": [
    {
     "name": "stdout",
     "output_type": "stream",
     "text": [
      "torch.Size([1, 18])\n",
      "torch.Size([1, 256])\n"
     ]
    }
   ],
   "source": [
    "print(output.size()) # Number of categories\n",
    "print(next_hidden.size()) # Hidden size"
   ]
  },
  {
   "cell_type": "markdown",
   "metadata": {},
   "source": [
    "# Prediction Trial"
   ]
  },
  {
   "cell_type": "code",
   "execution_count": 10,
   "metadata": {},
   "outputs": [],
   "source": [
    "input_tensor1 = line_to_tensor('Albert')\n",
    "hidden_tensor1 = gru.init_hidden()"
   ]
  },
  {
   "cell_type": "code",
   "execution_count": 11,
   "metadata": {},
   "outputs": [
    {
     "data": {
      "text/plain": [
       "torch.Size([6, 1, 57])"
      ]
     },
     "execution_count": 11,
     "metadata": {},
     "output_type": "execute_result"
    }
   ],
   "source": [
    "input_tensor1.shape # (Number of letters, 1, Number of total possible ASCII characters = 57)"
   ]
  },
  {
   "cell_type": "code",
   "execution_count": 12,
   "metadata": {},
   "outputs": [
    {
     "name": "stdout",
     "output_type": "stream",
     "text": [
      "torch.Size([1, 18])\n",
      "torch.Size([1, 256])\n"
     ]
    }
   ],
   "source": [
    "output, next_hidden = gru(input_tensor1[0], hidden_tensor1)\n",
    "print(output.size())\n",
    "print(next_hidden.size())\n",
    "# print(output)\n",
    "# print(next_hidden)"
   ]
  },
  {
   "cell_type": "code",
   "execution_count": 13,
   "metadata": {},
   "outputs": [
    {
     "data": {
      "text/plain": [
       "tensor(6)"
      ]
     },
     "execution_count": 13,
     "metadata": {},
     "output_type": "execute_result"
    }
   ],
   "source": [
    "torch.argmax(output)"
   ]
  },
  {
   "cell_type": "code",
   "execution_count": 14,
   "metadata": {},
   "outputs": [],
   "source": [
    "def category_from_output(output):\n",
    "    idx = torch.argmax(output).item()\n",
    "    return all_categories[idx] # Returns the respective language"
   ]
  },
  {
   "cell_type": "code",
   "execution_count": 15,
   "metadata": {},
   "outputs": [
    {
     "name": "stdout",
     "output_type": "stream",
     "text": [
      "Russian\n"
     ]
    }
   ],
   "source": [
    "print(category_from_output(output)) # Its untrained hence it prints any random language"
   ]
  },
  {
   "cell_type": "markdown",
   "metadata": {},
   "source": [
    "# Training"
   ]
  },
  {
   "cell_type": "code",
   "execution_count": 16,
   "metadata": {},
   "outputs": [],
   "source": [
    "criterion = nn.NLLLoss()\n",
    "learning_rate = 0.005\n",
    "optimizer = torch.optim.SGD(gru.parameters(), lr = learning_rate)"
   ]
  },
  {
   "cell_type": "code",
   "execution_count": 17,
   "metadata": {},
   "outputs": [],
   "source": [
    "def train(line_tensor, category_tensor):\n",
    "    \"\"\"\n",
    "        line_tensor: Whole line as a tensor of one_hot encoded letters\n",
    "        category_tensor: index of the class label in one-hot encoded form of shape - [1, n_categories] (n_categories = 18 here)\n",
    "    \"\"\"\n",
    "    hidden = gru.init_hidden()\n",
    "\n",
    "    for i in range(line_tensor.shape[0]):\n",
    "        output, hidden = gru(line_tensor[i], hidden)\n",
    "\n",
    "    loss = criterion(output, category_tensor)\n",
    "    optimizer.zero_grad()\n",
    "    with torch.autograd.set_detect_anomaly(True):\n",
    "        loss.backward()\n",
    "    optimizer.step()\n",
    "\n",
    "    return output, loss.item() # Loss as float value"
   ]
  },
  {
   "cell_type": "code",
   "execution_count": 18,
   "metadata": {},
   "outputs": [],
   "source": [
    "current_loss = 0\n",
    "all_losses = []\n",
    "\n",
    "# After 1000 steps - plot\n",
    "# After 5000 steps - print\n",
    "plot_steps, print_steps = 1000, 5000 \n",
    "n_iters = 100000"
   ]
  },
  {
   "cell_type": "code",
   "execution_count": 19,
   "metadata": {},
   "outputs": [
    {
     "name": "stdout",
     "output_type": "stream",
     "text": [
      "Epoch 5000; 5% complete; Loss = 2.7649; Faltejsek / Portuguese WRONG! (Czech)\n",
      "Epoch 10000; 10% complete; Loss = 2.6759; Wolter / French WRONG! (German)\n",
      "Epoch 15000; 15% complete; Loss = 2.3585; Berezovikov / Greek WRONG! (Russian)\n",
      "Epoch 20000; 20% complete; Loss = 3.1086; Bonfils / Greek WRONG! (French)\n",
      "Epoch 25000; 25% complete; Loss = 2.6304; O'Connell / German WRONG! (Irish)\n",
      "Epoch 30000; 30% complete; Loss = 1.3713; Zou / Korean WRONG! (Chinese)\n",
      "Epoch 35000; 35% complete; Loss = 1.1924; Kieu / Vietnamese CORRECT!\n",
      "Epoch 40000; 40% complete; Loss = 0.8757; Tadhgan / Irish CORRECT!\n",
      "Epoch 45000; 45% complete; Loss = 0.7501; Cardozo / Portuguese CORRECT!\n",
      "Epoch 50000; 50% complete; Loss = 1.9404; Soukup / Polish WRONG! (Czech)\n",
      "Epoch 55000; 55% complete; Loss = 1.6586; Banos / Portuguese WRONG! (Greek)\n",
      "Epoch 60000; 60% complete; Loss = 1.8129; Tovey / English CORRECT!\n",
      "Epoch 65000; 65% complete; Loss = 0.7510; Chu / Vietnamese CORRECT!\n",
      "Epoch 70000; 70% complete; Loss = 1.6966; Albuquerque / French WRONG! (Spanish)\n",
      "Epoch 75000; 75% complete; Loss = 1.5687; Zhen / Vietnamese WRONG! (Chinese)\n",
      "Epoch 80000; 80% complete; Loss = 1.3474; Zhou / Vietnamese WRONG! (Chinese)\n",
      "Epoch 85000; 85% complete; Loss = 2.9364; Bove / French WRONG! (Italian)\n",
      "Epoch 90000; 90% complete; Loss = 2.7251; Muir / Arabic WRONG! (Scottish)\n",
      "Epoch 95000; 95% complete; Loss = 0.0430; Kunikida / Japanese CORRECT!\n",
      "Epoch 100000; 100% complete; Loss = 2.4386; Mullins / English WRONG! (French)\n",
      "Finished Training in 7.0m 34.11328673362732s\n"
     ]
    }
   ],
   "source": [
    "tic = time.time()\n",
    "for i in range(n_iters):\n",
    "    category, line, category_tensor, line_tensor = random_training_example(category_lines = category_lines, all_categories = all_categories)\n",
    "    output, loss = train(line_tensor, category_tensor) # One iteration of training\n",
    "    current_loss+=loss\n",
    "\n",
    "    if (i+1) % plot_steps == 0:\n",
    "        all_losses.append(current_loss / plot_steps)\n",
    "        current_loss = 0\n",
    "    \n",
    "    if (i+1) % print_steps == 0:\n",
    "        prediction = category_from_output(output)\n",
    "        # category = true category label\n",
    "        # Basically we do a single prediction every 5000 steps (= print_steps)\n",
    "        correct = \"CORRECT!\" if prediction == category else f'WRONG! ({category})'\n",
    "        print(f'Epoch {i+1}; {(i+1)/n_iters * 100:.0f}% complete; Loss = {loss:.4f}; {line} / {prediction} {correct}')\n",
    "print(f'Finished Training in {(time.time()-tic)//60:.0f}m {(time.time()-tic)%60:.0f}s')"
   ]
  },
  {
   "cell_type": "code",
   "execution_count": 20,
   "metadata": {},
   "outputs": [
    {
     "data": {
      "image/png": "[encoded data removed]",
      "text/plain": [
       "<Figure size 2000x1000 with 1 Axes>"
      ]
     },
     "metadata": {},
     "output_type": "display_data"
    }
   ],
   "source": [
    "plt.figure(figsize = (20,10))\n",
    "plt.plot(all_losses)\n",
    "plt.show()"
   ]
  },
  {
   "cell_type": "code",
   "execution_count": 23,
   "metadata": {},
   "outputs": [],
   "source": [
    "def predict(input_line):\n",
    "    print(f'\\n> {input_line}')\n",
    "    with torch.no_grad():\n",
    "        line_tensor = line_to_tensor(input_line)\n",
    "        hidden = gru.init_hidden()\n",
    "\n",
    "        for i in range(line_tensor.shape[0] - 1):\n",
    "            _, hidden = gru(line_tensor[i], hidden)\n",
    "\n",
    "        output, hidden = gru(line_tensor[i+1], hidden)\n",
    "        prediction = category_from_output(output)\n",
    "        print('Prediction:', prediction)"
   ]
  },
  {
   "cell_type": "code",
   "execution_count": 24,
   "metadata": {},
   "outputs": [
    {
     "name": "stdout",
     "output_type": "stream",
     "text": [
      "\n",
      "> Bao\n",
      "Prediction: Chinese\n",
      "\n",
      "> Gerard\n",
      "Prediction: French\n",
      "\n",
      "> Richman\n",
      "Prediction: Irish\n",
      "\n",
      "> Mahmood\n",
      "Prediction: Arabic\n",
      "\n",
      "> Abl\n",
      "Prediction: German\n",
      "\n",
      "> Abel\n",
      "Prediction: German\n"
     ]
    }
   ],
   "source": [
    "while True:\n",
    "    sentence = input(\"INPUT: \")\n",
    "    if sentence == 'quit':\n",
    "        break\n",
    "    predict(sentence)"
   ]
  },
  {
   "cell_type": "code",
   "execution_count": null,
   "metadata": {},
   "outputs": [],
   "source": []
  }
 ],
 "metadata": {
  "kernelspec": {
   "display_name": "Python 3.10.6",
   "language": "python",
   "name": "python3"
  },
  "language_info": {
   "codemirror_mode": {
    "name": "ipython",
    "version": 3
   },
   "file_extension": ".py",
   "mimetype": "text/x-python",
   "name": "python",
   "nbconvert_exporter": "python",
   "pygments_lexer": "ipython3",
   "version": "3.10.6"
  },
  "orig_nbformat": 4,
  "vscode": {
   "interpreter": {
    "hash": "193f6b5c64d175a70f8bc370a8e28557b54eddf9787b8dde324aa4d68183bc16"
   }
  }
 },
 "nbformat": 4,
 "nbformat_minor": 2
}
