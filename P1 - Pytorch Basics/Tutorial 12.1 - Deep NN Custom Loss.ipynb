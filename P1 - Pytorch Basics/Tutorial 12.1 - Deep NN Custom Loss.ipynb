{
 "cells": [
  {
   "cell_type": "markdown",
   "metadata": {},
   "source": [
    "# Deep Neural Network"
   ]
  },
  {
   "cell_type": "code",
   "execution_count": 1,
   "metadata": {},
   "outputs": [],
   "source": [
    "import torch\n",
    "import torch.nn as nn\n",
    "import torchvision\n",
    "import torchvision.transforms as transforms\n",
    "import numpy as np\n",
    "import matplotlib.pyplot as plt\n",
    "from torchsummary import summary\n",
    "import copy\n",
    "import torch.nn.functional as F"
   ]
  },
  {
   "cell_type": "code",
   "execution_count": 2,
   "metadata": {},
   "outputs": [],
   "source": [
    "# device = torch.device('mps' if torch.backends.mps.is_available() else 'cpu') # For Apple M1 Chip\n",
    "device = torch.device('cuda:0' if torch.cuda.is_available() else 'cpu') # For cuda"
   ]
  },
  {
   "cell_type": "code",
   "execution_count": 3,
   "metadata": {},
   "outputs": [
    {
     "data": {
      "text/plain": [
       "device(type='cpu')"
      ]
     },
     "execution_count": 3,
     "metadata": {},
     "output_type": "execute_result"
    }
   ],
   "source": [
    "device"
   ]
  },
  {
   "cell_type": "markdown",
   "metadata": {},
   "source": [
    "## Hyperparameters"
   ]
  },
  {
   "cell_type": "code",
   "execution_count": 4,
   "metadata": {},
   "outputs": [],
   "source": [
    "input_size = 28*28\n",
    "hidden_size = 100\n",
    "num_classes = 10 # 0 to 9 digits\n",
    "num_epochs = 50\n",
    "batch_size = 128 # Preferred to be a power of 2\n",
    "learning_rate = 0.001"
   ]
  },
  {
   "cell_type": "markdown",
   "metadata": {},
   "source": [
    "MNIST"
   ]
  },
  {
   "cell_type": "code",
   "execution_count": 5,
   "metadata": {},
   "outputs": [],
   "source": [
    "train_dataset = torchvision.datasets.MNIST(\n",
    "    root = '../datasets', \n",
    "    train = True, \n",
    "    transform = transforms.ToTensor(), \n",
    "    download = True\n",
    ")\n",
    "\n",
    "test_dataset = torchvision.datasets.MNIST(\n",
    "    root = '../datasets', \n",
    "    train = False, \n",
    "    transform = transforms.ToTensor(), \n",
    "    download = True\n",
    ")"
   ]
  },
  {
   "cell_type": "code",
   "execution_count": 6,
   "metadata": {},
   "outputs": [
    {
     "data": {
      "text/plain": [
       "Dataset MNIST\n",
       "    Number of datapoints: 60000\n",
       "    Root location: datasets\n",
       "    Split: Train\n",
       "    StandardTransform\n",
       "Transform: ToTensor()"
      ]
     },
     "execution_count": 6,
     "metadata": {},
     "output_type": "execute_result"
    }
   ],
   "source": [
    "train_dataset"
   ]
  },
  {
   "cell_type": "code",
   "execution_count": 7,
   "metadata": {},
   "outputs": [],
   "source": [
    "train_loader = torch.utils.data.DataLoader(\n",
    "    dataset = train_dataset,\n",
    "    batch_size = batch_size,\n",
    "    shuffle = True\n",
    ")\n",
    "test_loader = torch.utils.data.DataLoader(\n",
    "    dataset = test_dataset,\n",
    "    batch_size = batch_size,\n",
    "    shuffle = False\n",
    ")"
   ]
  },
  {
   "cell_type": "code",
   "execution_count": 8,
   "metadata": {},
   "outputs": [
    {
     "name": "stdout",
     "output_type": "stream",
     "text": [
      "tensor([[[[0., 0., 0.,  ..., 0., 0., 0.],\n",
      "          [0., 0., 0.,  ..., 0., 0., 0.],\n",
      "          [0., 0., 0.,  ..., 0., 0., 0.],\n",
      "          ...,\n",
      "          [0., 0., 0.,  ..., 0., 0., 0.],\n",
      "          [0., 0., 0.,  ..., 0., 0., 0.],\n",
      "          [0., 0., 0.,  ..., 0., 0., 0.]]],\n",
      "\n",
      "\n",
      "        [[[0., 0., 0.,  ..., 0., 0., 0.],\n",
      "          [0., 0., 0.,  ..., 0., 0., 0.],\n",
      "          [0., 0., 0.,  ..., 0., 0., 0.],\n",
      "          ...,\n",
      "          [0., 0., 0.,  ..., 0., 0., 0.],\n",
      "          [0., 0., 0.,  ..., 0., 0., 0.],\n",
      "          [0., 0., 0.,  ..., 0., 0., 0.]]],\n",
      "\n",
      "\n",
      "        [[[0., 0., 0.,  ..., 0., 0., 0.],\n",
      "          [0., 0., 0.,  ..., 0., 0., 0.],\n",
      "          [0., 0., 0.,  ..., 0., 0., 0.],\n",
      "          ...,\n",
      "          [0., 0., 0.,  ..., 0., 0., 0.],\n",
      "          [0., 0., 0.,  ..., 0., 0., 0.],\n",
      "          [0., 0., 0.,  ..., 0., 0., 0.]]],\n",
      "\n",
      "\n",
      "        ...,\n",
      "\n",
      "\n",
      "        [[[0., 0., 0.,  ..., 0., 0., 0.],\n",
      "          [0., 0., 0.,  ..., 0., 0., 0.],\n",
      "          [0., 0., 0.,  ..., 0., 0., 0.],\n",
      "          ...,\n",
      "          [0., 0., 0.,  ..., 0., 0., 0.],\n",
      "          [0., 0., 0.,  ..., 0., 0., 0.],\n",
      "          [0., 0., 0.,  ..., 0., 0., 0.]]],\n",
      "\n",
      "\n",
      "        [[[0., 0., 0.,  ..., 0., 0., 0.],\n",
      "          [0., 0., 0.,  ..., 0., 0., 0.],\n",
      "          [0., 0., 0.,  ..., 0., 0., 0.],\n",
      "          ...,\n",
      "          [0., 0., 0.,  ..., 0., 0., 0.],\n",
      "          [0., 0., 0.,  ..., 0., 0., 0.],\n",
      "          [0., 0., 0.,  ..., 0., 0., 0.]]],\n",
      "\n",
      "\n",
      "        [[[0., 0., 0.,  ..., 0., 0., 0.],\n",
      "          [0., 0., 0.,  ..., 0., 0., 0.],\n",
      "          [0., 0., 0.,  ..., 0., 0., 0.],\n",
      "          ...,\n",
      "          [0., 0., 0.,  ..., 0., 0., 0.],\n",
      "          [0., 0., 0.,  ..., 0., 0., 0.],\n",
      "          [0., 0., 0.,  ..., 0., 0., 0.]]]]) tensor([8, 3, 2, 9, 6, 3, 9, 7, 3, 1, 9, 4, 1, 8, 6, 5, 9, 0, 0, 3, 0, 3, 6, 2,\n",
      "        8, 7, 6, 3, 7, 0, 7, 6, 2, 9, 4, 1, 6, 0, 5, 8, 7, 1, 6, 0, 2, 3, 0, 9,\n",
      "        9, 8, 2, 1, 3, 7, 7, 3, 4, 6, 9, 3, 4, 1, 2, 6, 2, 1, 4, 2, 3, 4, 0, 8,\n",
      "        9, 2, 1, 8, 8, 1, 4, 7, 4, 0, 0, 1, 9, 6, 0, 9, 5, 9, 7, 3, 9, 1, 3, 7,\n",
      "        7, 3, 8, 4, 5, 4, 5, 5, 0, 6, 2, 1, 4, 6, 5, 4, 0, 9, 0, 5, 7, 7, 4, 6,\n",
      "        2, 9, 7, 1, 0, 3, 3, 8])\n",
      "Input and Labels shape: torch.Size([128, 1, 28, 28]) torch.Size([128])\n",
      "Unique Labels: tensor([0, 1, 2, 3, 4, 5, 6, 7, 8, 9])\n"
     ]
    }
   ],
   "source": [
    "examples = iter(train_loader)\n",
    "inputs, labels = examples.next()\n",
    "print(inputs, labels)\n",
    "print('Input and Labels shape:', inputs.shape, labels.shape) # 28, 28 is the image size, 1 is for one colour channel (Not RGB but grayscale)\n",
    "print('Unique Labels:', labels.unique())                     # 128 is the label & batch size as each label is assigned a different value from 0 to 9"
   ]
  },
  {
   "cell_type": "code",
   "execution_count": 9,
   "metadata": {},
   "outputs": [
    {
     "data": {
      "image/png": "[encoded data removed]",
      "text/plain": [
       "<Figure size 640x480 with 6 Axes>"
      ]
     },
     "metadata": {},
     "output_type": "display_data"
    }
   ],
   "source": [
    "# For displaying the dataset MNIST\n",
    "for i in range(6):\n",
    "    plt.subplot(2,3,i+1)\n",
    "    plt.imshow(inputs[i][0]) # 6 from batch-size of 128"
   ]
  },
  {
   "cell_type": "markdown",
   "metadata": {},
   "source": [
    "## Neural Network Model"
   ]
  },
  {
   "cell_type": "code",
   "execution_count": 10,
   "metadata": {},
   "outputs": [],
   "source": [
    "class NeuralNet(nn.Module):\n",
    "    def __init__(self, input_size, hidden_size, num_classes):\n",
    "        super(NeuralNet, self).__init__()\n",
    "        self.l1 = nn.Linear(input_size, hidden_size)\n",
    "        self.relu = nn.ReLU()\n",
    "        self.l2 = nn.Linear(hidden_size, num_classes)\n",
    "        # No softmax function here as it is already applied in the CrossEntropyLoss class in torch.nn\n",
    "\n",
    "    def forward(self, x):\n",
    "        out = self.l1(x)\n",
    "        out = self.relu(out)\n",
    "        out = self.l2(out)\n",
    "        return(out)"
   ]
  },
  {
   "cell_type": "code",
   "execution_count": 11,
   "metadata": {},
   "outputs": [],
   "source": [
    "class NeuralNet2(nn.Module):\n",
    "    def __init__(self, input_size = 2, hidden = [], num_classes=1, activations = [], seed=0):\n",
    "        super().__init__()\n",
    "        torch.manual_seed(seed)\n",
    "        self.flatten = nn.Flatten()\n",
    "        self.linear_stack = []\n",
    "        if(len(hidden) != len(activations)-1):\n",
    "            raise IndexError(\"Lengths passed for hidden and activations are not right\")\n",
    "        if(len(hidden) == 0):\n",
    "            self.linear_stack.append(nn.Linear(input_size,num_classes))\n",
    "            if(activations[0] == 'sigmoid'):\n",
    "                self.linear_stack.append(nn.Sigmoid())\n",
    "            elif(activations[0] == 'relu'):\n",
    "                self.linear_stack.append(nn.ReLU())\n",
    "            elif(activations[0] == 'tanh'):\n",
    "                self.linear_stack.append(nn.Tanh())\n",
    "            elif(activations[0] == 'softplus'):\n",
    "                self.linear_stack.append(nn.Softplus())\n",
    "        else:\n",
    "            self.linear_stack.append(nn.Linear(input_size,hidden[0]))\n",
    "            if(activations[0] == 'sigmoid'):\n",
    "                self.linear_stack.append(nn.Sigmoid())\n",
    "            elif(activations[0] == 'relu'):\n",
    "                self.linear_stack.append(nn.ReLU())\n",
    "            elif(activations[0] == 'tanh'):\n",
    "                self.linear_stack.append(nn.Tanh())\n",
    "            elif(activations[0] == 'softplus'):\n",
    "                self.linear_stack.append(nn.Softplus())\n",
    "\n",
    "            for i in range(len(hidden)-1):\n",
    "                self.linear_stack.append(nn.Linear(hidden[i],hidden[i+1]))\n",
    "                if(activations[i+1] == 'sigmoid'):\n",
    "                    self.linear_stack.append(nn.Sigmoid())\n",
    "                elif(activations[i+1] == 'relu'):\n",
    "                    self.linear_stack.append(nn.ReLU())\n",
    "                elif(activations[i+1] == 'tanh'):\n",
    "                    self.linear_stack.append(nn.Tanh())\n",
    "                elif(activations[i+1] == 'softplus'):\n",
    "                    self.linear_stack.append(nn.Softplus())\n",
    "            \n",
    "            self.linear_stack.append(nn.Linear(hidden[-1],num_classes))\n",
    "            if(activations[-1] == 'sigmoid'):\n",
    "                self.linear_stack.append(nn.Sigmoid())\n",
    "            elif(activations[-1] == 'relu'):\n",
    "                self.linear_stack.append(nn.ReLU())\n",
    "            elif(activations[-1] == 'tanh'):\n",
    "                self.linear_stack.append(nn.Tanh())\n",
    "            elif(activations[-1] == 'softplus'):\n",
    "                self.linear_stack.append(nn.Softplus())\n",
    "        self.neural_net = nn.Sequential(*self.linear_stack)\n",
    "    \n",
    "    def forward(self, x):\n",
    "        x = self.flatten(x)\n",
    "        logits = self.neural_net(x)\n",
    "        return logits "
   ]
  },
  {
   "cell_type": "code",
   "execution_count": 12,
   "metadata": {},
   "outputs": [],
   "source": [
    "model1 = NeuralNet(input_size, hidden_size, num_classes).to(device)\n",
    "model2 = NeuralNet2(input_size = input_size, hidden = [100, 80, 50], num_classes = num_classes, activations = ['relu', 'tanh', 'tanh', None]).to(device)"
   ]
  },
  {
   "cell_type": "code",
   "execution_count": 13,
   "metadata": {},
   "outputs": [],
   "source": [
    "def MSELoss(y_hat, y_true):\n",
    "    return torch.sum((y_hat - F.one_hot(y_true))**2)/len(y_hat)"
   ]
  },
  {
   "cell_type": "code",
   "execution_count": 14,
   "metadata": {},
   "outputs": [],
   "source": [
    "# criterion = nn.CrossEntropyLoss()\n",
    "optimizer1 = torch.optim.Adam(model1.parameters(), lr=1e-5)\n",
    "optimizer2 = torch.optim.Adam(model2.parameters(), lr=1e-5)"
   ]
  },
  {
   "cell_type": "markdown",
   "metadata": {},
   "source": [
    "### Training model 1"
   ]
  },
  {
   "cell_type": "code",
   "execution_count": 15,
   "metadata": {},
   "outputs": [
    {
     "data": {
      "text/plain": [
       "<torch._C.Generator at 0x1071906f0>"
      ]
     },
     "execution_count": 15,
     "metadata": {},
     "output_type": "execute_result"
    }
   ],
   "source": [
    "torch.manual_seed(10)"
   ]
  },
  {
   "cell_type": "code",
   "execution_count": 16,
   "metadata": {},
   "outputs": [
    {
     "name": "stdout",
     "output_type": "stream",
     "text": [
      "----------------------------------------------------------------\n",
      "        Layer (type)               Output Shape         Param #\n",
      "================================================================\n",
      "            Linear-1                  [-1, 100]          78,500\n",
      "              ReLU-2                  [-1, 100]               0\n",
      "            Linear-3                   [-1, 10]           1,010\n",
      "================================================================\n",
      "Total params: 79,510\n",
      "Trainable params: 79,510\n",
      "Non-trainable params: 0\n",
      "----------------------------------------------------------------\n",
      "Input size (MB): 0.00\n",
      "Forward/backward pass size (MB): 0.00\n",
      "Params size (MB): 0.30\n",
      "Estimated Total Size (MB): 0.31\n",
      "----------------------------------------------------------------\n"
     ]
    }
   ],
   "source": [
    "summary(copy.deepcopy(model1).to('cpu'), (28*28,))"
   ]
  },
  {
   "cell_type": "code",
   "execution_count": 17,
   "metadata": {},
   "outputs": [
    {
     "name": "stdout",
     "output_type": "stream",
     "text": [
      "----------------------------------------------------------------\n",
      "        Layer (type)               Output Shape         Param #\n",
      "================================================================\n",
      "           Flatten-1                  [-1, 784]               0\n",
      "            Linear-2                  [-1, 100]          78,500\n",
      "              ReLU-3                  [-1, 100]               0\n",
      "            Linear-4                   [-1, 80]           8,080\n",
      "              Tanh-5                   [-1, 80]               0\n",
      "            Linear-6                   [-1, 50]           4,050\n",
      "              Tanh-7                   [-1, 50]               0\n",
      "            Linear-8                   [-1, 10]             510\n",
      "================================================================\n",
      "Total params: 91,140\n",
      "Trainable params: 91,140\n",
      "Non-trainable params: 0\n",
      "----------------------------------------------------------------\n",
      "Input size (MB): 0.00\n",
      "Forward/backward pass size (MB): 0.01\n",
      "Params size (MB): 0.35\n",
      "Estimated Total Size (MB): 0.36\n",
      "----------------------------------------------------------------\n"
     ]
    }
   ],
   "source": [
    "summary(copy.deepcopy(model2).to('cpu'), (28*28,))"
   ]
  },
  {
   "cell_type": "code",
   "execution_count": 18,
   "metadata": {},
   "outputs": [
    {
     "name": "stdout",
     "output_type": "stream",
     "text": [
      "Epoch 1/50; Step 100/469; Loss = 0.9408\n",
      "Epoch 1/50; Step 200/469; Loss = 0.8401\n",
      "Epoch 1/50; Step 300/469; Loss = 0.7690\n",
      "Epoch 1/50; Step 400/469; Loss = 0.7398\n",
      "Epoch 2/50; Step 100/469; Loss = 0.6358\n",
      "Epoch 2/50; Step 200/469; Loss = 0.5775\n",
      "Epoch 2/50; Step 300/469; Loss = 0.5654\n",
      "Epoch 2/50; Step 400/469; Loss = 0.5306\n",
      "Epoch 3/50; Step 100/469; Loss = 0.5140\n",
      "Epoch 3/50; Step 200/469; Loss = 0.4907\n",
      "Epoch 3/50; Step 300/469; Loss = 0.4560\n",
      "Epoch 3/50; Step 400/469; Loss = 0.4660\n",
      "Epoch 4/50; Step 100/469; Loss = 0.4611\n",
      "Epoch 4/50; Step 200/469; Loss = 0.3912\n",
      "Epoch 4/50; Step 300/469; Loss = 0.4397\n",
      "Epoch 4/50; Step 400/469; Loss = 0.4267\n",
      "Epoch 5/50; Step 100/469; Loss = 0.3849\n",
      "Epoch 5/50; Step 200/469; Loss = 0.3643\n",
      "Epoch 5/50; Step 300/469; Loss = 0.3899\n",
      "Epoch 5/50; Step 400/469; Loss = 0.3603\n",
      "Epoch 6/50; Step 100/469; Loss = 0.4126\n",
      "Epoch 6/50; Step 200/469; Loss = 0.4041\n",
      "Epoch 6/50; Step 300/469; Loss = 0.3869\n",
      "Epoch 6/50; Step 400/469; Loss = 0.3948\n",
      "Epoch 7/50; Step 100/469; Loss = 0.3485\n",
      "Epoch 7/50; Step 200/469; Loss = 0.3527\n",
      "Epoch 7/50; Step 300/469; Loss = 0.3437\n",
      "Epoch 7/50; Step 400/469; Loss = 0.3458\n",
      "Epoch 8/50; Step 100/469; Loss = 0.3554\n",
      "Epoch 8/50; Step 200/469; Loss = 0.3550\n",
      "Epoch 8/50; Step 300/469; Loss = 0.3109\n",
      "Epoch 8/50; Step 400/469; Loss = 0.3434\n",
      "Epoch 9/50; Step 100/469; Loss = 0.3207\n",
      "Epoch 9/50; Step 200/469; Loss = 0.3178\n",
      "Epoch 9/50; Step 300/469; Loss = 0.3463\n",
      "Epoch 9/50; Step 400/469; Loss = 0.2762\n",
      "Epoch 10/50; Step 100/469; Loss = 0.3307\n",
      "Epoch 10/50; Step 200/469; Loss = 0.2907\n",
      "Epoch 10/50; Step 300/469; Loss = 0.2846\n",
      "Epoch 10/50; Step 400/469; Loss = 0.3118\n",
      "Epoch 11/50; Step 100/469; Loss = 0.2510\n",
      "Epoch 11/50; Step 200/469; Loss = 0.2988\n",
      "Epoch 11/50; Step 300/469; Loss = 0.2964\n",
      "Epoch 11/50; Step 400/469; Loss = 0.3224\n",
      "Epoch 12/50; Step 100/469; Loss = 0.2773\n",
      "Epoch 12/50; Step 200/469; Loss = 0.2560\n",
      "Epoch 12/50; Step 300/469; Loss = 0.2819\n",
      "Epoch 12/50; Step 400/469; Loss = 0.2494\n",
      "Epoch 13/50; Step 100/469; Loss = 0.2719\n",
      "Epoch 13/50; Step 200/469; Loss = 0.2856\n",
      "Epoch 13/50; Step 300/469; Loss = 0.2865\n",
      "Epoch 13/50; Step 400/469; Loss = 0.2791\n",
      "Epoch 14/50; Step 100/469; Loss = 0.2601\n",
      "Epoch 14/50; Step 200/469; Loss = 0.2549\n",
      "Epoch 14/50; Step 300/469; Loss = 0.2378\n",
      "Epoch 14/50; Step 400/469; Loss = 0.2451\n",
      "Epoch 15/50; Step 100/469; Loss = 0.2577\n",
      "Epoch 15/50; Step 200/469; Loss = 0.2432\n",
      "Epoch 15/50; Step 300/469; Loss = 0.2711\n",
      "Epoch 15/50; Step 400/469; Loss = 0.2854\n",
      "Epoch 16/50; Step 100/469; Loss = 0.2499\n",
      "Epoch 16/50; Step 200/469; Loss = 0.2349\n",
      "Epoch 16/50; Step 300/469; Loss = 0.2441\n",
      "Epoch 16/50; Step 400/469; Loss = 0.2130\n",
      "Epoch 17/50; Step 100/469; Loss = 0.2200\n",
      "Epoch 17/50; Step 200/469; Loss = 0.2080\n",
      "Epoch 17/50; Step 300/469; Loss = 0.1859\n",
      "Epoch 17/50; Step 400/469; Loss = 0.2272\n",
      "Epoch 18/50; Step 100/469; Loss = 0.2663\n",
      "Epoch 18/50; Step 200/469; Loss = 0.2477\n",
      "Epoch 18/50; Step 300/469; Loss = 0.2379\n",
      "Epoch 18/50; Step 400/469; Loss = 0.2644\n",
      "Epoch 19/50; Step 100/469; Loss = 0.2201\n",
      "Epoch 19/50; Step 200/469; Loss = 0.2158\n",
      "Epoch 19/50; Step 300/469; Loss = 0.2495\n",
      "Epoch 19/50; Step 400/469; Loss = 0.2129\n",
      "Epoch 20/50; Step 100/469; Loss = 0.2598\n",
      "Epoch 20/50; Step 200/469; Loss = 0.2569\n",
      "Epoch 20/50; Step 300/469; Loss = 0.2175\n",
      "Epoch 20/50; Step 400/469; Loss = 0.1859\n",
      "Epoch 21/50; Step 100/469; Loss = 0.2353\n",
      "Epoch 21/50; Step 200/469; Loss = 0.1964\n",
      "Epoch 21/50; Step 300/469; Loss = 0.2540\n",
      "Epoch 21/50; Step 400/469; Loss = 0.2245\n",
      "Epoch 22/50; Step 100/469; Loss = 0.1732\n",
      "Epoch 22/50; Step 200/469; Loss = 0.2168\n",
      "Epoch 22/50; Step 300/469; Loss = 0.2081\n",
      "Epoch 22/50; Step 400/469; Loss = 0.2256\n",
      "Epoch 23/50; Step 100/469; Loss = 0.2063\n",
      "Epoch 23/50; Step 200/469; Loss = 0.2146\n",
      "Epoch 23/50; Step 300/469; Loss = 0.2206\n",
      "Epoch 23/50; Step 400/469; Loss = 0.1692\n",
      "Epoch 24/50; Step 100/469; Loss = 0.2439\n",
      "Epoch 24/50; Step 200/469; Loss = 0.2539\n",
      "Epoch 24/50; Step 300/469; Loss = 0.1999\n",
      "Epoch 24/50; Step 400/469; Loss = 0.1734\n",
      "Epoch 25/50; Step 100/469; Loss = 0.2149\n",
      "Epoch 25/50; Step 200/469; Loss = 0.2394\n",
      "Epoch 25/50; Step 300/469; Loss = 0.2236\n",
      "Epoch 25/50; Step 400/469; Loss = 0.1904\n",
      "Epoch 26/50; Step 100/469; Loss = 0.1960\n",
      "Epoch 26/50; Step 200/469; Loss = 0.1798\n",
      "Epoch 26/50; Step 300/469; Loss = 0.1890\n",
      "Epoch 26/50; Step 400/469; Loss = 0.1766\n",
      "Epoch 27/50; Step 100/469; Loss = 0.1646\n",
      "Epoch 27/50; Step 200/469; Loss = 0.2175\n",
      "Epoch 27/50; Step 300/469; Loss = 0.2061\n",
      "Epoch 27/50; Step 400/469; Loss = 0.1831\n",
      "Epoch 28/50; Step 100/469; Loss = 0.2187\n",
      "Epoch 28/50; Step 200/469; Loss = 0.1555\n",
      "Epoch 28/50; Step 300/469; Loss = 0.2013\n",
      "Epoch 28/50; Step 400/469; Loss = 0.2130\n",
      "Epoch 29/50; Step 100/469; Loss = 0.1730\n",
      "Epoch 29/50; Step 200/469; Loss = 0.2027\n",
      "Epoch 29/50; Step 300/469; Loss = 0.1860\n",
      "Epoch 29/50; Step 400/469; Loss = 0.1999\n",
      "Epoch 30/50; Step 100/469; Loss = 0.1786\n",
      "Epoch 30/50; Step 200/469; Loss = 0.2289\n",
      "Epoch 30/50; Step 300/469; Loss = 0.1636\n",
      "Epoch 30/50; Step 400/469; Loss = 0.2259\n",
      "Epoch 31/50; Step 100/469; Loss = 0.1970\n",
      "Epoch 31/50; Step 200/469; Loss = 0.1918\n",
      "Epoch 31/50; Step 300/469; Loss = 0.1755\n",
      "Epoch 31/50; Step 400/469; Loss = 0.1792\n",
      "Epoch 32/50; Step 100/469; Loss = 0.1444\n",
      "Epoch 32/50; Step 200/469; Loss = 0.1804\n",
      "Epoch 32/50; Step 300/469; Loss = 0.1731\n",
      "Epoch 32/50; Step 400/469; Loss = 0.1818\n",
      "Epoch 33/50; Step 100/469; Loss = 0.1897\n",
      "Epoch 33/50; Step 200/469; Loss = 0.2049\n",
      "Epoch 33/50; Step 300/469; Loss = 0.1820\n",
      "Epoch 33/50; Step 400/469; Loss = 0.1844\n",
      "Epoch 34/50; Step 100/469; Loss = 0.1625\n",
      "Epoch 34/50; Step 200/469; Loss = 0.2057\n",
      "Epoch 34/50; Step 300/469; Loss = 0.1764\n",
      "Epoch 34/50; Step 400/469; Loss = 0.1974\n",
      "Epoch 35/50; Step 100/469; Loss = 0.1786\n",
      "Epoch 35/50; Step 200/469; Loss = 0.1533\n",
      "Epoch 35/50; Step 300/469; Loss = 0.1991\n",
      "Epoch 35/50; Step 400/469; Loss = 0.1990\n",
      "Epoch 36/50; Step 100/469; Loss = 0.1349\n",
      "Epoch 36/50; Step 200/469; Loss = 0.1554\n",
      "Epoch 36/50; Step 300/469; Loss = 0.1954\n",
      "Epoch 36/50; Step 400/469; Loss = 0.1694\n",
      "Epoch 37/50; Step 100/469; Loss = 0.2048\n",
      "Epoch 37/50; Step 200/469; Loss = 0.1808\n",
      "Epoch 37/50; Step 300/469; Loss = 0.1830\n",
      "Epoch 37/50; Step 400/469; Loss = 0.1853\n",
      "Epoch 38/50; Step 100/469; Loss = 0.1924\n",
      "Epoch 38/50; Step 200/469; Loss = 0.1359\n",
      "Epoch 38/50; Step 300/469; Loss = 0.1364\n",
      "Epoch 38/50; Step 400/469; Loss = 0.1540\n",
      "Epoch 39/50; Step 100/469; Loss = 0.1436\n",
      "Epoch 39/50; Step 200/469; Loss = 0.1692\n",
      "Epoch 39/50; Step 300/469; Loss = 0.1666\n",
      "Epoch 39/50; Step 400/469; Loss = 0.1624\n",
      "Epoch 40/50; Step 100/469; Loss = 0.1745\n",
      "Epoch 40/50; Step 200/469; Loss = 0.1685\n",
      "Epoch 40/50; Step 300/469; Loss = 0.1921\n",
      "Epoch 40/50; Step 400/469; Loss = 0.1529\n",
      "Epoch 41/50; Step 100/469; Loss = 0.1618\n",
      "Epoch 41/50; Step 200/469; Loss = 0.1397\n",
      "Epoch 41/50; Step 300/469; Loss = 0.1451\n",
      "Epoch 41/50; Step 400/469; Loss = 0.1461\n",
      "Epoch 42/50; Step 100/469; Loss = 0.1332\n",
      "Epoch 42/50; Step 200/469; Loss = 0.1469\n",
      "Epoch 42/50; Step 300/469; Loss = 0.1374\n",
      "Epoch 42/50; Step 400/469; Loss = 0.1391\n",
      "Epoch 43/50; Step 100/469; Loss = 0.1643\n",
      "Epoch 43/50; Step 200/469; Loss = 0.1526\n",
      "Epoch 43/50; Step 300/469; Loss = 0.1445\n",
      "Epoch 43/50; Step 400/469; Loss = 0.1689\n",
      "Epoch 44/50; Step 100/469; Loss = 0.1491\n",
      "Epoch 44/50; Step 200/469; Loss = 0.1416\n",
      "Epoch 44/50; Step 300/469; Loss = 0.1649\n",
      "Epoch 44/50; Step 400/469; Loss = 0.1277\n",
      "Epoch 45/50; Step 100/469; Loss = 0.1890\n",
      "Epoch 45/50; Step 200/469; Loss = 0.1605\n",
      "Epoch 45/50; Step 300/469; Loss = 0.1500\n",
      "Epoch 45/50; Step 400/469; Loss = 0.1785\n",
      "Epoch 46/50; Step 100/469; Loss = 0.1732\n",
      "Epoch 46/50; Step 200/469; Loss = 0.1728\n",
      "Epoch 46/50; Step 300/469; Loss = 0.1652\n",
      "Epoch 46/50; Step 400/469; Loss = 0.1369\n",
      "Epoch 47/50; Step 100/469; Loss = 0.1453\n",
      "Epoch 47/50; Step 200/469; Loss = 0.1780\n",
      "Epoch 47/50; Step 300/469; Loss = 0.1628\n",
      "Epoch 47/50; Step 400/469; Loss = 0.1421\n",
      "Epoch 48/50; Step 100/469; Loss = 0.1537\n",
      "Epoch 48/50; Step 200/469; Loss = 0.1839\n",
      "Epoch 48/50; Step 300/469; Loss = 0.1648\n",
      "Epoch 48/50; Step 400/469; Loss = 0.1856\n",
      "Epoch 49/50; Step 100/469; Loss = 0.1339\n",
      "Epoch 49/50; Step 200/469; Loss = 0.1838\n",
      "Epoch 49/50; Step 300/469; Loss = 0.1799\n",
      "Epoch 49/50; Step 400/469; Loss = 0.1527\n",
      "Epoch 50/50; Step 100/469; Loss = 0.1627\n",
      "Epoch 50/50; Step 200/469; Loss = 0.1543\n",
      "Epoch 50/50; Step 300/469; Loss = 0.1428\n",
      "Epoch 50/50; Step 400/469; Loss = 0.1478\n",
      "Finished Training in 1m 35s\n"
     ]
    }
   ],
   "source": [
    "import time\n",
    "tic = time.time()\n",
    "n_steps = len(train_loader) # Total size//batch_size\n",
    "for epoch in range(num_epochs):\n",
    "    for i, (images, labels) in enumerate(train_loader):\n",
    "        images = images.reshape(-1, input_size).to(device) # From 128, 1, 28, 28 ---> 128, 784\n",
    "        labels = labels.to(device)\n",
    "\n",
    "        # forward pass\n",
    "        pred_outputs = model1(images)\n",
    "        # loss = criterion(pred_outputs, labels)\n",
    "        loss = MSELoss(pred_outputs, labels)\n",
    "\n",
    "        # back prop\n",
    "        optimizer1.zero_grad()\n",
    "        loss.backward()\n",
    "        optimizer1.step()\n",
    "\n",
    "        if((i+1)%100 ==0):\n",
    "            print(f'Epoch {epoch+1}/{num_epochs}; Step {i+1}/{n_steps}; Loss = {loss.item():.4f}')\n",
    "print(f'Finished Training in {(time.time()-tic)//60:.0f}m {(time.time()-tic)%60:.0f}s')"
   ]
  },
  {
   "cell_type": "markdown",
   "metadata": {},
   "source": [
    "### Training model 2"
   ]
  },
  {
   "cell_type": "code",
   "execution_count": 21,
   "metadata": {},
   "outputs": [
    {
     "name": "stdout",
     "output_type": "stream",
     "text": [
      "Epoch 1/50; Step 100/469; Loss = 1.0539\n",
      "Epoch 1/50; Step 200/469; Loss = 0.9547\n",
      "Epoch 1/50; Step 300/469; Loss = 0.8538\n",
      "Epoch 1/50; Step 400/469; Loss = 0.8140\n",
      "Epoch 2/50; Step 100/469; Loss = 0.7468\n",
      "Epoch 2/50; Step 200/469; Loss = 0.7249\n",
      "Epoch 2/50; Step 300/469; Loss = 0.6716\n",
      "Epoch 2/50; Step 400/469; Loss = 0.6573\n",
      "Epoch 3/50; Step 100/469; Loss = 0.6001\n",
      "Epoch 3/50; Step 200/469; Loss = 0.5620\n",
      "Epoch 3/50; Step 300/469; Loss = 0.5803\n",
      "Epoch 3/50; Step 400/469; Loss = 0.5735\n",
      "Epoch 4/50; Step 100/469; Loss = 0.4995\n",
      "Epoch 4/50; Step 200/469; Loss = 0.4983\n",
      "Epoch 4/50; Step 300/469; Loss = 0.4750\n",
      "Epoch 4/50; Step 400/469; Loss = 0.5085\n",
      "Epoch 5/50; Step 100/469; Loss = 0.4782\n",
      "Epoch 5/50; Step 200/469; Loss = 0.4454\n",
      "Epoch 5/50; Step 300/469; Loss = 0.4014\n",
      "Epoch 5/50; Step 400/469; Loss = 0.3964\n",
      "Epoch 6/50; Step 100/469; Loss = 0.4103\n",
      "Epoch 6/50; Step 200/469; Loss = 0.3737\n",
      "Epoch 6/50; Step 300/469; Loss = 0.3552\n",
      "Epoch 6/50; Step 400/469; Loss = 0.3637\n",
      "Epoch 7/50; Step 100/469; Loss = 0.3458\n",
      "Epoch 7/50; Step 200/469; Loss = 0.3846\n",
      "Epoch 7/50; Step 300/469; Loss = 0.3727\n",
      "Epoch 7/50; Step 400/469; Loss = 0.3494\n",
      "Epoch 8/50; Step 100/469; Loss = 0.3314\n",
      "Epoch 8/50; Step 200/469; Loss = 0.2761\n",
      "Epoch 8/50; Step 300/469; Loss = 0.2734\n",
      "Epoch 8/50; Step 400/469; Loss = 0.3273\n",
      "Epoch 9/50; Step 100/469; Loss = 0.3131\n",
      "Epoch 9/50; Step 200/469; Loss = 0.3185\n",
      "Epoch 9/50; Step 300/469; Loss = 0.3363\n",
      "Epoch 9/50; Step 400/469; Loss = 0.2715\n",
      "Epoch 10/50; Step 100/469; Loss = 0.3231\n",
      "Epoch 10/50; Step 200/469; Loss = 0.2625\n",
      "Epoch 10/50; Step 300/469; Loss = 0.2855\n",
      "Epoch 10/50; Step 400/469; Loss = 0.3139\n",
      "Epoch 11/50; Step 100/469; Loss = 0.2468\n",
      "Epoch 11/50; Step 200/469; Loss = 0.2557\n",
      "Epoch 11/50; Step 300/469; Loss = 0.1964\n",
      "Epoch 11/50; Step 400/469; Loss = 0.2579\n",
      "Epoch 12/50; Step 100/469; Loss = 0.2493\n",
      "Epoch 12/50; Step 200/469; Loss = 0.2747\n",
      "Epoch 12/50; Step 300/469; Loss = 0.2767\n",
      "Epoch 12/50; Step 400/469; Loss = 0.2186\n",
      "Epoch 13/50; Step 100/469; Loss = 0.2192\n",
      "Epoch 13/50; Step 200/469; Loss = 0.2296\n",
      "Epoch 13/50; Step 300/469; Loss = 0.2459\n",
      "Epoch 13/50; Step 400/469; Loss = 0.2624\n",
      "Epoch 14/50; Step 100/469; Loss = 0.1961\n",
      "Epoch 14/50; Step 200/469; Loss = 0.2256\n",
      "Epoch 14/50; Step 300/469; Loss = 0.2617\n",
      "Epoch 14/50; Step 400/469; Loss = 0.2222\n",
      "Epoch 15/50; Step 100/469; Loss = 0.2321\n",
      "Epoch 15/50; Step 200/469; Loss = 0.2123\n",
      "Epoch 15/50; Step 300/469; Loss = 0.2266\n",
      "Epoch 15/50; Step 400/469; Loss = 0.2528\n",
      "Epoch 16/50; Step 100/469; Loss = 0.2380\n",
      "Epoch 16/50; Step 200/469; Loss = 0.1855\n",
      "Epoch 16/50; Step 300/469; Loss = 0.1867\n",
      "Epoch 16/50; Step 400/469; Loss = 0.1898\n",
      "Epoch 17/50; Step 100/469; Loss = 0.2112\n",
      "Epoch 17/50; Step 200/469; Loss = 0.2178\n",
      "Epoch 17/50; Step 300/469; Loss = 0.2131\n",
      "Epoch 17/50; Step 400/469; Loss = 0.2729\n",
      "Epoch 18/50; Step 100/469; Loss = 0.1834\n",
      "Epoch 18/50; Step 200/469; Loss = 0.2019\n",
      "Epoch 18/50; Step 300/469; Loss = 0.2091\n",
      "Epoch 18/50; Step 400/469; Loss = 0.2004\n",
      "Epoch 19/50; Step 100/469; Loss = 0.2615\n",
      "Epoch 19/50; Step 200/469; Loss = 0.2087\n",
      "Epoch 19/50; Step 300/469; Loss = 0.1582\n",
      "Epoch 19/50; Step 400/469; Loss = 0.2205\n",
      "Epoch 20/50; Step 100/469; Loss = 0.2223\n",
      "Epoch 20/50; Step 200/469; Loss = 0.1706\n",
      "Epoch 20/50; Step 300/469; Loss = 0.1805\n",
      "Epoch 20/50; Step 400/469; Loss = 0.1598\n",
      "Epoch 21/50; Step 100/469; Loss = 0.1995\n",
      "Epoch 21/50; Step 200/469; Loss = 0.1489\n",
      "Epoch 21/50; Step 300/469; Loss = 0.1929\n",
      "Epoch 21/50; Step 400/469; Loss = 0.1777\n",
      "Epoch 22/50; Step 100/469; Loss = 0.1966\n",
      "Epoch 22/50; Step 200/469; Loss = 0.1837\n",
      "Epoch 22/50; Step 300/469; Loss = 0.1791\n",
      "Epoch 22/50; Step 400/469; Loss = 0.1877\n",
      "Epoch 23/50; Step 100/469; Loss = 0.2027\n",
      "Epoch 23/50; Step 200/469; Loss = 0.1444\n",
      "Epoch 23/50; Step 300/469; Loss = 0.2136\n",
      "Epoch 23/50; Step 400/469; Loss = 0.2014\n",
      "Epoch 24/50; Step 100/469; Loss = 0.1427\n",
      "Epoch 24/50; Step 200/469; Loss = 0.1618\n",
      "Epoch 24/50; Step 300/469; Loss = 0.1533\n",
      "Epoch 24/50; Step 400/469; Loss = 0.1901\n",
      "Epoch 25/50; Step 100/469; Loss = 0.1594\n",
      "Epoch 25/50; Step 200/469; Loss = 0.1460\n",
      "Epoch 25/50; Step 300/469; Loss = 0.2053\n",
      "Epoch 25/50; Step 400/469; Loss = 0.2232\n",
      "Epoch 26/50; Step 100/469; Loss = 0.1572\n",
      "Epoch 26/50; Step 200/469; Loss = 0.1815\n",
      "Epoch 26/50; Step 300/469; Loss = 0.1609\n",
      "Epoch 26/50; Step 400/469; Loss = 0.1636\n",
      "Epoch 27/50; Step 100/469; Loss = 0.1836\n",
      "Epoch 27/50; Step 200/469; Loss = 0.1455\n",
      "Epoch 27/50; Step 300/469; Loss = 0.1254\n",
      "Epoch 27/50; Step 400/469; Loss = 0.1514\n",
      "Epoch 28/50; Step 100/469; Loss = 0.1851\n",
      "Epoch 28/50; Step 200/469; Loss = 0.1591\n",
      "Epoch 28/50; Step 300/469; Loss = 0.1683\n",
      "Epoch 28/50; Step 400/469; Loss = 0.1408\n",
      "Epoch 29/50; Step 100/469; Loss = 0.1285\n",
      "Epoch 29/50; Step 200/469; Loss = 0.1315\n",
      "Epoch 29/50; Step 300/469; Loss = 0.1673\n",
      "Epoch 29/50; Step 400/469; Loss = 0.1475\n",
      "Epoch 30/50; Step 100/469; Loss = 0.1393\n",
      "Epoch 30/50; Step 200/469; Loss = 0.1882\n",
      "Epoch 30/50; Step 300/469; Loss = 0.1775\n",
      "Epoch 30/50; Step 400/469; Loss = 0.1279\n",
      "Epoch 31/50; Step 100/469; Loss = 0.2070\n",
      "Epoch 31/50; Step 200/469; Loss = 0.1533\n",
      "Epoch 31/50; Step 300/469; Loss = 0.1350\n",
      "Epoch 31/50; Step 400/469; Loss = 0.1498\n",
      "Epoch 32/50; Step 100/469; Loss = 0.1261\n",
      "Epoch 32/50; Step 200/469; Loss = 0.1579\n",
      "Epoch 32/50; Step 300/469; Loss = 0.1716\n",
      "Epoch 32/50; Step 400/469; Loss = 0.1823\n",
      "Epoch 33/50; Step 100/469; Loss = 0.1795\n",
      "Epoch 33/50; Step 200/469; Loss = 0.1484\n",
      "Epoch 33/50; Step 300/469; Loss = 0.1368\n",
      "Epoch 33/50; Step 400/469; Loss = 0.1349\n",
      "Epoch 34/50; Step 100/469; Loss = 0.1256\n",
      "Epoch 34/50; Step 200/469; Loss = 0.1120\n",
      "Epoch 34/50; Step 300/469; Loss = 0.1574\n",
      "Epoch 34/50; Step 400/469; Loss = 0.1372\n",
      "Epoch 35/50; Step 100/469; Loss = 0.1672\n",
      "Epoch 35/50; Step 200/469; Loss = 0.1220\n",
      "Epoch 35/50; Step 300/469; Loss = 0.1594\n",
      "Epoch 35/50; Step 400/469; Loss = 0.1425\n",
      "Epoch 36/50; Step 100/469; Loss = 0.1247\n",
      "Epoch 36/50; Step 200/469; Loss = 0.1459\n",
      "Epoch 36/50; Step 300/469; Loss = 0.1193\n",
      "Epoch 36/50; Step 400/469; Loss = 0.1320\n",
      "Epoch 37/50; Step 100/469; Loss = 0.1395\n",
      "Epoch 37/50; Step 200/469; Loss = 0.1398\n",
      "Epoch 37/50; Step 300/469; Loss = 0.1165\n",
      "Epoch 37/50; Step 400/469; Loss = 0.1582\n",
      "Epoch 38/50; Step 100/469; Loss = 0.1258\n",
      "Epoch 38/50; Step 200/469; Loss = 0.1622\n",
      "Epoch 38/50; Step 300/469; Loss = 0.1467\n",
      "Epoch 38/50; Step 400/469; Loss = 0.1538\n",
      "Epoch 39/50; Step 100/469; Loss = 0.1613\n",
      "Epoch 39/50; Step 200/469; Loss = 0.1934\n",
      "Epoch 39/50; Step 300/469; Loss = 0.1309\n",
      "Epoch 39/50; Step 400/469; Loss = 0.1272\n",
      "Epoch 40/50; Step 100/469; Loss = 0.1672\n",
      "Epoch 40/50; Step 200/469; Loss = 0.1265\n",
      "Epoch 40/50; Step 300/469; Loss = 0.1541\n",
      "Epoch 40/50; Step 400/469; Loss = 0.1667\n",
      "Epoch 41/50; Step 100/469; Loss = 0.1164\n",
      "Epoch 41/50; Step 200/469; Loss = 0.0990\n",
      "Epoch 41/50; Step 300/469; Loss = 0.1342\n",
      "Epoch 41/50; Step 400/469; Loss = 0.1294\n",
      "Epoch 42/50; Step 100/469; Loss = 0.1077\n",
      "Epoch 42/50; Step 200/469; Loss = 0.1212\n",
      "Epoch 42/50; Step 300/469; Loss = 0.1349\n",
      "Epoch 42/50; Step 400/469; Loss = 0.1247\n",
      "Epoch 43/50; Step 100/469; Loss = 0.1800\n",
      "Epoch 43/50; Step 200/469; Loss = 0.1415\n",
      "Epoch 43/50; Step 300/469; Loss = 0.1329\n",
      "Epoch 43/50; Step 400/469; Loss = 0.1607\n",
      "Epoch 44/50; Step 100/469; Loss = 0.1235\n",
      "Epoch 44/50; Step 200/469; Loss = 0.1169\n",
      "Epoch 44/50; Step 300/469; Loss = 0.1136\n",
      "Epoch 44/50; Step 400/469; Loss = 0.1027\n",
      "Epoch 45/50; Step 100/469; Loss = 0.1395\n",
      "Epoch 45/50; Step 200/469; Loss = 0.1226\n",
      "Epoch 45/50; Step 300/469; Loss = 0.1293\n",
      "Epoch 45/50; Step 400/469; Loss = 0.1291\n",
      "Epoch 46/50; Step 100/469; Loss = 0.0932\n",
      "Epoch 46/50; Step 200/469; Loss = 0.1242\n",
      "Epoch 46/50; Step 300/469; Loss = 0.1166\n",
      "Epoch 46/50; Step 400/469; Loss = 0.1354\n",
      "Epoch 47/50; Step 100/469; Loss = 0.1410\n",
      "Epoch 47/50; Step 200/469; Loss = 0.1324\n",
      "Epoch 47/50; Step 300/469; Loss = 0.1142\n",
      "Epoch 47/50; Step 400/469; Loss = 0.1700\n",
      "Epoch 48/50; Step 100/469; Loss = 0.1088\n",
      "Epoch 48/50; Step 200/469; Loss = 0.1375\n",
      "Epoch 48/50; Step 300/469; Loss = 0.1252\n",
      "Epoch 48/50; Step 400/469; Loss = 0.1282\n",
      "Epoch 49/50; Step 100/469; Loss = 0.1205\n",
      "Epoch 49/50; Step 200/469; Loss = 0.0981\n",
      "Epoch 49/50; Step 300/469; Loss = 0.1543\n",
      "Epoch 49/50; Step 400/469; Loss = 0.1390\n",
      "Epoch 50/50; Step 100/469; Loss = 0.1141\n",
      "Epoch 50/50; Step 200/469; Loss = 0.1233\n",
      "Epoch 50/50; Step 300/469; Loss = 0.1210\n",
      "Epoch 50/50; Step 400/469; Loss = 0.1009\n",
      "Finished Training in 1m 45s\n"
     ]
    }
   ],
   "source": [
    "tic = time.time()\n",
    "for epoch in range(num_epochs):\n",
    "    for i, (images, labels) in enumerate(train_loader):\n",
    "        images = images.reshape(-1, input_size).to(device) # From 128, 1, 28, 28 ---> 128, 784\n",
    "        labels = labels.to(device)\n",
    "\n",
    "        # forward pass\n",
    "        pred_outputs = model2(images)\n",
    "        loss = MSELoss(pred_outputs, labels)\n",
    "\n",
    "        # back prop\n",
    "        optimizer2.zero_grad()\n",
    "        loss.backward()\n",
    "        optimizer2.step()\n",
    "\n",
    "        if((i+1)%100 ==0):\n",
    "            print(f'Epoch {epoch+1}/{num_epochs}; Step {i+1}/{n_steps}; Loss = {loss.item():.4f}')\n",
    "print(f'Finished Training in {(time.time()-tic)//60:.0f}m {(time.time()-tic)%60:.0f}s')"
   ]
  },
  {
   "cell_type": "code",
   "execution_count": 22,
   "metadata": {},
   "outputs": [],
   "source": [
    "# testing\n",
    "with torch.no_grad():\n",
    "    n_samples = 0\n",
    "    n_correct1 = 0\n",
    "    n_correct2 = 0\n",
    "    for images, labels in test_loader:\n",
    "        images = images.reshape(-1, input_size).to(device) # From 128, 1, 28, 28 ---> 128, 784\n",
    "        labels = labels.to(device)\n",
    "        pred_outputs1 = model1(images)\n",
    "        pred_outputs2 = model2(images)\n",
    "        _, actual_preds1 = torch.max(pred_outputs1, 1) # Returns value, index\n",
    "        _, actual_preds2 = torch.max(pred_outputs2, 1) # Returns value, index\n",
    "        n_samples += labels.shape[0]\n",
    "        n_correct1 += (actual_preds1 == labels).sum().item()\n",
    "        n_correct2 += (actual_preds2 == labels).sum().item()"
   ]
  },
  {
   "cell_type": "code",
   "execution_count": 23,
   "metadata": {},
   "outputs": [
    {
     "name": "stdout",
     "output_type": "stream",
     "text": [
      "Accuracy for model = 95.19%\n",
      "Accuracy for deeper model = 95.27%\n"
     ]
    }
   ],
   "source": [
    "accuracy1 = n_correct1/n_samples * 100\n",
    "accuracy2 = n_correct2/n_samples * 100\n",
    "print(f'Accuracy for model = {accuracy1:.2f}%')\n",
    "print(f'Accuracy for deeper model = {accuracy2:.2f}%')"
   ]
  },
  {
   "cell_type": "code",
   "execution_count": 24,
   "metadata": {},
   "outputs": [],
   "source": [
    "# train data testing\n",
    "with torch.no_grad():\n",
    "    n_samples = 0\n",
    "    n_correct1 = 0\n",
    "    n_correct2 = 0\n",
    "    for images, labels in train_loader:\n",
    "        images = images.reshape(-1, input_size).to(device) # From 128, 1, 28, 28 ---> 128, 784\n",
    "        labels = labels.to(device)\n",
    "        pred_outputs1 = model1(images)\n",
    "        pred_outputs2 = model2(images)\n",
    "        _, actual_preds1 = torch.max(pred_outputs1, 1) # Returns value, index\n",
    "        _, actual_preds2 = torch.max(pred_outputs2, 1) # Returns value, index\n",
    "        n_samples += labels.shape[0]\n",
    "        n_correct1 += (actual_preds1 == labels).sum().item()\n",
    "        n_correct2 += (actual_preds2 == labels).sum().item()"
   ]
  },
  {
   "cell_type": "code",
   "execution_count": 25,
   "metadata": {},
   "outputs": [
    {
     "name": "stdout",
     "output_type": "stream",
     "text": [
      "Accuracy for model = 95.19%\n",
      "Accuracy for deeper model = 95.19%\n"
     ]
    }
   ],
   "source": [
    "accuracy1 = n_correct1/n_samples * 100\n",
    "accuracy2 = n_correct2/n_samples * 100\n",
    "print(f'Accuracy for model = {accuracy1:.2f}%')\n",
    "print(f'Accuracy for deeper model = {accuracy2:.2f}%')"
   ]
  },
  {
   "cell_type": "markdown",
   "metadata": {},
   "source": [
    "# Testing with Random Forests"
   ]
  },
  {
   "cell_type": "code",
   "execution_count": 25,
   "metadata": {},
   "outputs": [],
   "source": [
    "train_loader2 = torch.utils.data.DataLoader(\n",
    "    dataset = train_dataset,\n",
    "    batch_size = len(train_loader)* batch_size,\n",
    "    shuffle = True\n",
    ")\n",
    "test_loader2 = torch.utils.data.DataLoader(\n",
    "    dataset = test_dataset,\n",
    "    batch_size = len(train_loader)* batch_size,\n",
    "    shuffle = False\n",
    ")"
   ]
  },
  {
   "cell_type": "code",
   "execution_count": 26,
   "metadata": {},
   "outputs": [],
   "source": [
    "from sklearn.ensemble import RandomForestClassifier\n",
    "for i, (images, labels) in enumerate(train_loader2):\n",
    "    images = images.reshape(-1, input_size).detach().numpy() # From 128, 1, 28, 28 ---> 128, 784\n",
    "    labels = labels.detach().numpy()\n",
    "    rf = RandomForestClassifier(\n",
    "        n_estimators=2000,\n",
    "        n_jobs=32\n",
    "    )\n",
    "    rf.fit(images,labels)"
   ]
  },
  {
   "cell_type": "code",
   "execution_count": 27,
   "metadata": {},
   "outputs": [
    {
     "name": "stdout",
     "output_type": "stream",
     "text": [
      "[[ 969    0    0    0    0    3    3    1    3    1]\n",
      " [   0 1123    3    3    0    2    2    0    1    1]\n",
      " [   6    0 1000    6    2    0    4    8    6    0]\n",
      " [   0    0   11  973    0    6    0    9    8    3]\n",
      " [   1    0    1    0  957    0    5    0    2   16]\n",
      " [   3    0    0   10    3  862    6    1    5    2]\n",
      " [   7    3    0    0    2    3  940    0    3    0]\n",
      " [   1    2   17    1    1    0    0  993    1   12]\n",
      " [   4    0    6    7    4    5    3    3  931   11]\n",
      " [   5    5    2   10   13    3    1    5    5  960]]\n",
      "Accuracy = 97.08%\n"
     ]
    }
   ],
   "source": [
    "from sklearn.metrics import confusion_matrix, accuracy_score\n",
    "for images, labels in test_loader2:\n",
    "    images = images.reshape(-1, input_size).detach().numpy() # From 128, 1, 28, 28 ---> 128, 784\n",
    "    labels = labels.detach().numpy()\n",
    "    pred = rf.predict(images)\n",
    "    cm = confusion_matrix(labels, pred)\n",
    "    print(cm)\n",
    "    print(f'Accuracy = {accuracy_score(labels, pred)*100}%')"
   ]
  },
  {
   "cell_type": "markdown",
   "metadata": {},
   "source": [
    "## XGBoost method"
   ]
  },
  {
   "cell_type": "code",
   "execution_count": 28,
   "metadata": {},
   "outputs": [],
   "source": [
    "import xgboost as xgb\n",
    "for i, (images, labels) in enumerate(train_loader2):\n",
    "    images = images.reshape(-1, input_size).detach().numpy() # From 128, 1, 28, 28 ---> 128, 784\n",
    "    labels = labels.detach().numpy()\n",
    "    xgboost1 = xgb.XGBClassifier(\n",
    "        nthread = 8,\n",
    "    )\n",
    "    xgboost1.fit(images,labels)"
   ]
  },
  {
   "cell_type": "code",
   "execution_count": 29,
   "metadata": {},
   "outputs": [
    {
     "name": "stdout",
     "output_type": "stream",
     "text": [
      "[[ 969    1    0    0    0    3    4    1    2    0]\n",
      " [   1 1124    2    3    0    1    3    1    0    0]\n",
      " [   5    0 1006    9    1    0    0    5    5    1]\n",
      " [   0    0    2  992    0    3    0    6    4    3]\n",
      " [   0    0    3    0  957    0    4    1    2   15]\n",
      " [   2    0    1    5    0  869    6    3    4    2]\n",
      " [   7    3    0    0    2    3  939    0    4    0]\n",
      " [   1    1   14    3    2    0    0  998    2    7]\n",
      " [   4    1    3    2    3    3    2    2  948    6]\n",
      " [   6    5    1    5    7    1    0    3    3  978]]\n",
      "Accuracy = 97.8%\n"
     ]
    }
   ],
   "source": [
    "for images, labels in test_loader2:\n",
    "    images = images.reshape(-1, input_size).detach().numpy() # From 128, 1, 28, 28 ---> 128, 784\n",
    "    labels = labels.detach().numpy()\n",
    "    pred = xgboost1.predict(images)\n",
    "    cm = confusion_matrix(labels, pred)\n",
    "    print(cm)\n",
    "    print(f'Accuracy = {accuracy_score(labels, pred)*100}%')"
   ]
  }
 ],
 "metadata": {
  "kernelspec": {
   "display_name": "Python 3.10.6",
   "language": "python",
   "name": "python3"
  },
  "language_info": {
   "codemirror_mode": {
    "name": "ipython",
    "version": 3
   },
   "file_extension": ".py",
   "mimetype": "text/x-python",
   "name": "python",
   "nbconvert_exporter": "python",
   "pygments_lexer": "ipython3",
   "version": "3.10.6 | packaged by conda-forge | (main, Aug 22 2022, 20:41:22) [Clang 13.0.1 ]"
  },
  "orig_nbformat": 4,
  "vscode": {
   "interpreter": {
    "hash": "193f6b5c64d175a70f8bc370a8e28557b54eddf9787b8dde324aa4d68183bc16"
   }
  }
 },
 "nbformat": 4,
 "nbformat_minor": 2
}
