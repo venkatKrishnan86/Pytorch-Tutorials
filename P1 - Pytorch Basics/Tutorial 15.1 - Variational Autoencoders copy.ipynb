{
 "cells": [
  {
   "attachments": {},
   "cell_type": "markdown",
   "metadata": {},
   "source": [
    "# Variational Autoencoders (VAE)\n",
    "Refer to paper - Auto-Encoding Variational Bayes"
   ]
  },
  {
   "cell_type": "code",
   "execution_count": 1,
   "metadata": {},
   "outputs": [],
   "source": [
    "import torch\n",
    "import matplotlib.pyplot as plt\n",
    "# import torch.nn as nn\n",
    "from torch import nn # Better way\n",
    "from torch.utils.data import DataLoader\n",
    "from torchvision import transforms\n",
    "from torchvision.datasets import MNIST\n",
    "from tqdm import tqdm"
   ]
  },
  {
   "cell_type": "code",
   "execution_count": 2,
   "metadata": {},
   "outputs": [
    {
     "data": {
      "text/plain": [
       "device(type='mps')"
      ]
     },
     "execution_count": 2,
     "metadata": {},
     "output_type": "execute_result"
    }
   ],
   "source": [
    "device = torch.device('mps')\n",
    "device"
   ]
  },
  {
   "cell_type": "code",
   "execution_count": 3,
   "metadata": {},
   "outputs": [],
   "source": [
    "INPUT_DIM = 28*28\n",
    "HIDDEN_DIM = 300\n",
    "Z_DIM = 20\n",
    "NUM_EPOCHS = 10\n",
    "BATCH_SIZE = 1024\n",
    "LR = 3e-4"
   ]
  },
  {
   "cell_type": "code",
   "execution_count": 4,
   "metadata": {},
   "outputs": [],
   "source": [
    "train_data = MNIST(\n",
    "    root = '../datasets',\n",
    "    train = True,\n",
    "    transform = transforms.ToTensor(),\n",
    "    download = True\n",
    ")"
   ]
  },
  {
   "cell_type": "code",
   "execution_count": 5,
   "metadata": {},
   "outputs": [],
   "source": [
    "train_loader = DataLoader(\n",
    "    train_data,\n",
    "    batch_size = BATCH_SIZE,\n",
    "    shuffle = True\n",
    ")"
   ]
  },
  {
   "cell_type": "code",
   "execution_count": 6,
   "metadata": {},
   "outputs": [],
   "source": [
    "class VariationalAutoEncoder(nn.Module):\n",
    "    \"\"\"\n",
    "        Parameters\n",
    "        ----------\n",
    "        input_dim: Input dimension\n",
    "        hidden_dim: Hidden dimension/nodes\n",
    "        z_dim: Bottleneck dimension (z is the term used in the paper)\n",
    "\n",
    "        Other terms\n",
    "        ----------\n",
    "        mu: Mean vector\n",
    "        sigma: Variance vector (Assuming covariance matrix is DIAGONAL - taking \n",
    "        only the diagonal terms and creating a vector)\n",
    "    \"\"\"\n",
    "    def __init__(self, input_dim = 28*28, hidden_dim = 300, z_dim = 20) -> None:\n",
    "        super(VariationalAutoEncoder, self).__init__()\n",
    "\n",
    "        # Encoder\n",
    "        self.img2hid = nn.Linear(input_dim, hidden_dim).to(device=device)\n",
    "        self.hid2mu = nn.Linear(hidden_dim, z_dim).to(device=device)\n",
    "        self.hid2sigma = nn.Linear(hidden_dim, z_dim).to(device=device)\n",
    "\n",
    "        # Decoder\n",
    "        self.z2hidden = nn.Linear(z_dim, hidden_dim).to(device=device)\n",
    "        self.hid2img = nn.Linear(hidden_dim, input_dim).to(device=device)\n",
    "    \n",
    "    def encoder(self, x):\n",
    "        # q_phi(z|x)\n",
    "        h = torch.relu(self.img2hid(x.to(device=device))).to(device=device)\n",
    "        mu, sigma = self.hid2mu(h), torch.relu(self.hid2sigma(h)) # Since sigma >  0, but mu can take any value in R^d\n",
    "        return mu.to(device=device), sigma.to(device=device)\n",
    "\n",
    "    def decoder(self, z):\n",
    "        # p_theta(x|z)\n",
    "        return torch.sigmoid(self.hid2img(torch.relu(self.z2hidden(z))))\n",
    "\n",
    "    def forward(self, x):\n",
    "        mu, sigma = self.encoder(x)\n",
    "        epsilon = torch.randn_like(sigma).to(device=device)\n",
    "        z_reparameterized = mu + sigma * epsilon\n",
    "        x_reconstructed = self.decoder(z_reparameterized)\n",
    "        return x_reconstructed, mu, sigma # mu, sigma for KL divergence loss, x_reconstructed for reconstruction loss"
   ]
  },
  {
   "cell_type": "code",
   "execution_count": 7,
   "metadata": {},
   "outputs": [
    {
     "name": "stdout",
     "output_type": "stream",
     "text": [
      "torch.Size([4, 784])\n",
      "torch.Size([4, 20])\n",
      "torch.Size([4, 20])\n"
     ]
    }
   ],
   "source": [
    "# Checking dimension correctness\n",
    "x = torch.randn(4, 28*28).to(device=device) # (batch_size, input_dim)\n",
    "vae = VariationalAutoEncoder(input_dim = 28*28, hidden_dim = 300, z_dim = 20)\n",
    "x_reconstructed, mu, sigma = vae(x)\n",
    "print(x_reconstructed.shape)\n",
    "print(mu.shape)\n",
    "print(sigma.shape)"
   ]
  },
  {
   "cell_type": "code",
   "execution_count": 8,
   "metadata": {},
   "outputs": [],
   "source": [
    "vae = VariationalAutoEncoder(INPUT_DIM, HIDDEN_DIM, Z_DIM).to(device)"
   ]
  },
  {
   "cell_type": "code",
   "execution_count": 9,
   "metadata": {},
   "outputs": [],
   "source": [
    "criterion = nn.BCELoss(reduction=\"sum\") # 3 options of reduction - \"none\" (no reduction), \"mean\" (default), \"sum\"\n",
    "optimizer = torch.optim.Adam(vae.parameters(), lr = LR)"
   ]
  },
  {
   "cell_type": "code",
   "execution_count": 10,
   "metadata": {},
   "outputs": [
    {
     "name": "stderr",
     "output_type": "stream",
     "text": [
      "1it [00:00,  5.64it/s, loss=inf]"
     ]
    },
    {
     "name": "stdout",
     "output_type": "stream",
     "text": [
      "Epoch 0\n"
     ]
    },
    {
     "name": "stderr",
     "output_type": "stream",
     "text": [
      "59it [00:02, 25.34it/s, loss=1.7e+5] \n"
     ]
    },
    {
     "name": "stdout",
     "output_type": "stream",
     "text": [
      "Loss = 170486.328125\n"
     ]
    },
    {
     "name": "stderr",
     "output_type": "stream",
     "text": [
      "3it [00:00, 26.65it/s, loss=2.77e+5]"
     ]
    },
    {
     "name": "stdout",
     "output_type": "stream",
     "text": [
      "Epoch 1\n"
     ]
    },
    {
     "name": "stderr",
     "output_type": "stream",
     "text": [
      "59it [00:02, 27.49it/s, loss=1.46e+5]\n"
     ]
    },
    {
     "name": "stdout",
     "output_type": "stream",
     "text": [
      "Loss = 145617.25\n"
     ]
    },
    {
     "name": "stderr",
     "output_type": "stream",
     "text": [
      "3it [00:00, 26.73it/s, loss=2.44e+5]"
     ]
    },
    {
     "name": "stdout",
     "output_type": "stream",
     "text": [
      "Epoch 2\n"
     ]
    },
    {
     "name": "stderr",
     "output_type": "stream",
     "text": [
      "59it [00:02, 27.49it/s, loss=1.36e+5]\n"
     ]
    },
    {
     "name": "stdout",
     "output_type": "stream",
     "text": [
      "Loss = 135833.671875\n"
     ]
    },
    {
     "name": "stderr",
     "output_type": "stream",
     "text": [
      "3it [00:00, 26.66it/s, loss=2.29e+5]"
     ]
    },
    {
     "name": "stdout",
     "output_type": "stream",
     "text": [
      "Epoch 3\n"
     ]
    },
    {
     "name": "stderr",
     "output_type": "stream",
     "text": [
      "59it [00:02, 26.86it/s, loss=1.32e+5]\n"
     ]
    },
    {
     "name": "stdout",
     "output_type": "stream",
     "text": [
      "Loss = 131534.03125\n"
     ]
    },
    {
     "name": "stderr",
     "output_type": "stream",
     "text": [
      "3it [00:00, 26.85it/s, loss=2.22e+5]"
     ]
    },
    {
     "name": "stdout",
     "output_type": "stream",
     "text": [
      "Epoch 4\n"
     ]
    },
    {
     "name": "stderr",
     "output_type": "stream",
     "text": [
      "59it [00:02, 27.67it/s, loss=1.27e+5]\n"
     ]
    },
    {
     "name": "stdout",
     "output_type": "stream",
     "text": [
      "Loss = 126984.4296875\n"
     ]
    },
    {
     "name": "stderr",
     "output_type": "stream",
     "text": [
      "3it [00:00, 26.13it/s, loss=2.15e+5]"
     ]
    },
    {
     "name": "stdout",
     "output_type": "stream",
     "text": [
      "Epoch 5\n"
     ]
    },
    {
     "name": "stderr",
     "output_type": "stream",
     "text": [
      "59it [00:02, 27.53it/s, loss=1.23e+5]\n"
     ]
    },
    {
     "name": "stdout",
     "output_type": "stream",
     "text": [
      "Loss = 123480.109375\n"
     ]
    },
    {
     "name": "stderr",
     "output_type": "stream",
     "text": [
      "3it [00:00, 26.78it/s, loss=2.07e+5]"
     ]
    },
    {
     "name": "stdout",
     "output_type": "stream",
     "text": [
      "Epoch 6\n"
     ]
    },
    {
     "name": "stderr",
     "output_type": "stream",
     "text": [
      "59it [00:02, 27.44it/s, loss=1.2e+5] \n"
     ]
    },
    {
     "name": "stdout",
     "output_type": "stream",
     "text": [
      "Loss = 119503.015625\n"
     ]
    },
    {
     "name": "stderr",
     "output_type": "stream",
     "text": [
      "3it [00:00, 25.57it/s, loss=2.01e+5]"
     ]
    },
    {
     "name": "stdout",
     "output_type": "stream",
     "text": [
      "Epoch 7\n"
     ]
    },
    {
     "name": "stderr",
     "output_type": "stream",
     "text": [
      "30it [00:01, 25.97it/s, loss=1.97e+5]"
     ]
    }
   ],
   "source": [
    "for epoch in range(NUM_EPOCHS): \n",
    "    loop_loader = tqdm(enumerate(train_loader))\n",
    "    print(f'Epoch {epoch}')\n",
    "    for i, (x, _) in loop_loader:\n",
    "        # Forward pass\n",
    "        x = x.to(device).view(x.shape[0], INPUT_DIM) # view is better the reshape as it does not make a copy\n",
    "        x_reconstructed, mu, sigma = vae(x)\n",
    "\n",
    "        # Loss\n",
    "        reconstruction_loss = criterion(x_reconstructed, x)\n",
    "        # The regularizer as in the paper\n",
    "        # Needed to maximize in the paper, hence minimizing its negative\n",
    "        kl_div = -torch.sum(1 + torch.log(sigma.pow(2)) - mu.pow(2) - sigma.pow(2))\n",
    "        loss = reconstruction_loss + kl_div\n",
    "\n",
    "        optimizer.zero_grad()\n",
    "        loss.backward()\n",
    "        optimizer.step()\n",
    "\n",
    "        loop_loader.set_postfix(loss = loss.item())\n",
    "    print('Loss =',loss.item())"
   ]
  },
  {
   "cell_type": "code",
   "execution_count": 22,
   "metadata": {},
   "outputs": [],
   "source": [
    "def inference(digit, num_examples = 1):\n",
    "    \"\"\"\n",
    "        Generates (num_examples) of a particular digit.\n",
    "        Specifically, we can extract an example of each digit,\n",
    "        then after we have the mu, sigma representation for\n",
    "        each digit, we can sample from that\n",
    "    \"\"\"\n",
    "    images = [] # Getting one image for every number\n",
    "    idx = 0\n",
    "    for image, label in train_data:\n",
    "        if label == idx:\n",
    "            images.append(image)\n",
    "            idx+=1\n",
    "        if idx == 10:\n",
    "            break\n",
    "\n",
    "    encodings_digit = []\n",
    "    for num in range(10):\n",
    "        with torch.no_grad():\n",
    "            mu, sigma = vae.encoder(images[num].to(device).view(-1,28*28))\n",
    "        encodings_digit.append((mu, sigma)) # Obtaining mu and sigma for every digit\n",
    "    \n",
    "    mu_final, sigma_final = encodings_digit[digit]\n",
    "    for example in range(num_examples):\n",
    "        epsilon = torch.randn_like(sigma_final)\n",
    "        z = mu_final + sigma_final*epsilon\n",
    "        output = vae.decoder(z).view(-1,28,28)\n",
    "        plt.figure(example+1)\n",
    "        plt.imshow(output.cpu().detach().numpy().transpose(1,2,0), cmap='gray')"
   ]
  },
  {
   "cell_type": "code",
   "execution_count": 23,
   "metadata": {},
   "outputs": [
    {
     "data": {
      "image/png": "[encoded data removed]",
      "text/plain": [
       "<Figure size 640x480 with 1 Axes>"
      ]
     },
     "metadata": {},
     "output_type": "display_data"
    },
    {
     "data": {
      "image/png": "[encoded data removed]",
      "text/plain": [
       "<Figure size 640x480 with 1 Axes>"
      ]
     },
     "metadata": {},
     "output_type": "display_data"
    },
    {
     "data": {
      "image/png": "[encoded data removed]",
      "text/plain": [
       "<Figure size 640x480 with 1 Axes>"
      ]
     },
     "metadata": {},
     "output_type": "display_data"
    }
   ],
   "source": [
    "inference(7, num_examples=3)"
   ]
  },
  {
   "cell_type": "code",
   "execution_count": null,
   "metadata": {},
   "outputs": [],
   "source": []
  }
 ],
 "metadata": {
  "kernelspec": {
   "display_name": "Python 3",
   "language": "python",
   "name": "python3"
  },
  "language_info": {
   "codemirror_mode": {
    "name": "ipython",
    "version": 3
   },
   "file_extension": ".py",
   "mimetype": "text/x-python",
   "name": "python",
   "nbconvert_exporter": "python",
   "pygments_lexer": "ipython3",
   "version": "3.10.6"
  },
  "orig_nbformat": 4
 },
 "nbformat": 4,
 "nbformat_minor": 2
}
