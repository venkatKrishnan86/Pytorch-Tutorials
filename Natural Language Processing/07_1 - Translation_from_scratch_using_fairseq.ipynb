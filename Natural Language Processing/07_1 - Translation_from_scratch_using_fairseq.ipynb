{
  "cells": [
    {
      "cell_type": "markdown",
      "metadata": {
        "id": "U96IO9APGH_l"
      },
      "source": [
        "# Setup Libraries and Dataset\n"
      ]
    },
    {
      "cell_type": "code",
      "execution_count": 1,
      "metadata": {
        "colab": {
          "base_uri": "https://localhost:8080/"
        },
        "id": "fbagjxYmZ9rC",
        "outputId": "7d917266-9777-4a58-97bd-34b92738f173"
      },
      "outputs": [
        {
          "name": "stdout",
          "output_type": "stream",
          "text": [
            "Cloning into 'multi30k-dataset'...\n",
            "remote: Enumerating objects: 313, done.\u001b[K\n",
            "remote: Counting objects: 100% (32/32), done.\u001b[K\n",
            "remote: Compressing objects: 100% (16/16), done.\u001b[K\n",
            "remote: Total 313 (delta 17), reused 21 (delta 16), pack-reused 281\u001b[K\n",
            "Receiving objects: 100% (313/313), 18.21 MiB | 4.50 MiB/s, done.\n",
            "Resolving deltas: 100% (69/69), done.\n",
            "Submodule 'scripts/subword-nmt' (https://github.com/rsennrich/subword-nmt.git) registered for path 'scripts/subword-nmt'\n",
            "Cloning into '/Users/venkatakrishnanvk/Desktop/ML & DL/Deep Learning/Pytorch-Tutorial/Natural Language Processing/multi30k-dataset/scripts/subword-nmt'...\n",
            "remote: Enumerating objects: 597, done.        \n",
            "remote: Counting objects: 100% (21/21), done.        \n",
            "remote: Compressing objects: 100% (17/17), done.        \n",
            "remote: Total 597 (delta 8), reused 12 (delta 4), pack-reused 576        \n",
            "Receiving objects: 100% (597/597), 252.23 KiB | 2.87 MiB/s, done.\n",
            "Resolving deltas: 100% (357/357), done.\n",
            "Submodule path 'scripts/subword-nmt': checked out '80b7c1449e2e26673fb0b5cae993fe2d0dc23846'\n"
          ]
        }
      ],
      "source": [
        "! git clone --recursive https://github.com/multi30k/dataset.git multi30k-dataset"
      ]
    },
    {
      "cell_type": "code",
      "execution_count": 3,
      "metadata": {
        "id": "TBPKwPbhPDrR"
      },
      "outputs": [],
      "source": [
        "%%capture\n",
        "# W and B -- For Logging\n",
        "! pip install wandb\n",
        "\n",
        "# Sacremoses -- For Tokenizing\n",
        "! pip install sacremoses\n",
        "\n",
        "# fairseq -- For training and evaluation of the model\n",
        "# ! git clone https://github.com/pytorch/fairseq\n",
        "# %cd fairseq\n",
        "# ! pip install --editable ./\n",
        "# %cd .."
      ]
    },
    {
      "cell_type": "code",
      "execution_count": 4,
      "metadata": {
        "colab": {
          "base_uri": "https://localhost:8080/",
          "height": 102
        },
        "id": "b9YRiMzHdafl",
        "outputId": "5fa23772-751e-4f37-d2b4-00a9a44f101b"
      },
      "outputs": [
        {
          "name": "stderr",
          "output_type": "stream",
          "text": [
            "Failed to detect the name of this notebook, you can set it manually with the WANDB_NOTEBOOK_NAME environment variable to enable code saving.\n",
            "\u001b[34m\u001b[1mwandb\u001b[0m: Logging into wandb.ai. (Learn how to deploy a W&B server locally: https://wandb.me/wandb-server)\n",
            "\u001b[34m\u001b[1mwandb\u001b[0m: You can find your API key in your browser here: https://wandb.ai/authorize\n",
            "\u001b[34m\u001b[1mwandb\u001b[0m: Paste an API key from your profile and hit enter, or press ctrl+c to quit:\u001b[34m\u001b[1mwandb\u001b[0m: Appending key for api.wandb.ai to your netrc file: /Users/venkatakrishnanvk/.netrc\n"
          ]
        },
        {
          "data": {
            "text/plain": [
              "True"
            ]
          },
          "execution_count": 4,
          "metadata": {},
          "output_type": "execute_result"
        }
      ],
      "source": [
        "import wandb\n",
        "wandb.login()"
      ]
    },
    {
      "cell_type": "markdown",
      "metadata": {
        "id": "rtPG1WlBGQ7w"
      },
      "source": [
        "## Pre-process and Binarize to build Vocabularies"
      ]
    },
    {
      "cell_type": "code",
      "execution_count": 5,
      "metadata": {
        "colab": {
          "base_uri": "https://localhost:8080/"
        },
        "id": "OycGg77va6xt",
        "outputId": "4e61cbe5-70e4-4313-cd11-2630a51eb2c0"
      },
      "outputs": [
        {
          "name": "stdout",
          "output_type": "stream",
          "text": [
            "2023-03-19 09:31:13 | INFO | fairseq_cli.preprocess | Namespace(no_progress_bar=False, log_interval=100, log_format=None, log_file=None, aim_repo=None, aim_run_hash=None, tensorboard_logdir=None, wandb_project=None, azureml_logging=False, seed=1, cpu=False, tpu=False, bf16=False, memory_efficient_bf16=False, fp16=False, memory_efficient_fp16=False, fp16_no_flatten_grads=False, fp16_init_scale=128, fp16_scale_window=None, fp16_scale_tolerance=0.0, on_cpu_convert_precision=False, min_loss_scale=0.0001, threshold_loss_scale=None, amp=False, amp_batch_retries=2, amp_init_scale=128, amp_scale_window=None, user_dir=None, empty_cache_freq=0, all_gather_list_size=16384, model_parallel_size=1, quantization_config_path=None, profile=False, reset_logging=False, suppress_crashes=False, use_plasma_view=False, plasma_path='/tmp/plasma', criterion='cross_entropy', tokenizer=None, bpe=None, optimizer=None, lr_scheduler='fixed', scoring='bleu', task='translation', source_lang='de', target_lang='en', trainpref='multi30k-dataset/data/task1/tok/train.lc.norm.tok', validpref='multi30k-dataset/data/task1/tok/val.lc.norm.tok', testpref='multi30k-dataset/data/task1/tok/test_2018_flickr.lc.norm.tok', align_suffix=None, destdir='data-bin/multi30k.tokenized.de-en', thresholdtgt=2, thresholdsrc=2, tgtdict=None, srcdict=None, nwordstgt=-1, nwordssrc=-1, alignfile=None, dataset_impl='mmap', joined_dictionary=False, only_source=False, padding_factor=8, workers=1, dict_only=False)\n",
            "2023-03-19 09:31:13 | INFO | fairseq_cli.preprocess | [de] Dictionary: 7864 types\n",
            "2023-03-19 09:31:14 | INFO | fairseq_cli.preprocess | [de] multi30k-dataset/data/task1/tok/train.lc.norm.tok.de: 29000 sents, 389706 tokens, 2.79% replaced (by <unk>)\n",
            "2023-03-19 09:31:14 | INFO | fairseq_cli.preprocess | [de] Dictionary: 7864 types\n",
            "2023-03-19 09:31:14 | INFO | fairseq_cli.preprocess | [de] multi30k-dataset/data/task1/tok/val.lc.norm.tok.de: 1014 sents, 13842 tokens, 4.11% replaced (by <unk>)\n",
            "2023-03-19 09:31:14 | INFO | fairseq_cli.preprocess | [de] Dictionary: 7864 types\n",
            "2023-03-19 09:31:14 | INFO | fairseq_cli.preprocess | [de] multi30k-dataset/data/task1/tok/test_2018_flickr.lc.norm.tok.de: 1071 sents, 14778 tokens, 5.5% replaced (by <unk>)\n",
            "2023-03-19 09:31:14 | INFO | fairseq_cli.preprocess | [en] Dictionary: 5928 types\n",
            "2023-03-19 09:31:15 | INFO | fairseq_cli.preprocess | [en] multi30k-dataset/data/task1/tok/train.lc.norm.tok.en: 29000 sents, 406534 tokens, 1.06% replaced (by <unk>)\n",
            "2023-03-19 09:31:15 | INFO | fairseq_cli.preprocess | [en] Dictionary: 5928 types\n",
            "2023-03-19 09:31:15 | INFO | fairseq_cli.preprocess | [en] multi30k-dataset/data/task1/tok/val.lc.norm.tok.en: 1014 sents, 14322 tokens, 1.91% replaced (by <unk>)\n",
            "2023-03-19 09:31:15 | INFO | fairseq_cli.preprocess | [en] Dictionary: 5928 types\n",
            "2023-03-19 09:31:15 | INFO | fairseq_cli.preprocess | [en] multi30k-dataset/data/task1/tok/test_2018_flickr.lc.norm.tok.en: 1071 sents, 15768 tokens, 2.05% replaced (by <unk>)\n",
            "2023-03-19 09:31:15 | INFO | fairseq_cli.preprocess | Wrote preprocessed data to data-bin/multi30k.tokenized.de-en\n"
          ]
        }
      ],
      "source": [
        "! fairseq-preprocess --source-lang de --target-lang en \\\n",
        "  --trainpref multi30k-dataset/data/task1/tok/train.lc.norm.tok \\\n",
        "  --validpref multi30k-dataset/data/task1/tok/val.lc.norm.tok \\\n",
        "  --testpref  multi30k-dataset/data/task1/tok/test_2018_flickr.lc.norm.tok \\\n",
        "  --destdir data-bin/multi30k.tokenized.de-en \\\n",
        "  --thresholdsrc 2 \\\n",
        "  --thresholdtgt 2"
      ]
    },
    {
      "cell_type": "markdown",
      "metadata": {
        "id": "UCHShbvQGVfv"
      },
      "source": [
        "# Train the model"
      ]
    },
    {
      "cell_type": "code",
      "execution_count": 7,
      "metadata": {
        "colab": {
          "base_uri": "https://localhost:8080/"
        },
        "id": "5RGvS-Yxb8C8",
        "outputId": "d4806333-691d-4676-c1dc-59daed1a4fd0"
      },
      "outputs": [
        {
          "name": "stdout",
          "output_type": "stream",
          "text": [
            "2023-03-19 09:31:44 | INFO | fairseq_cli.train | {'_name': None, 'common': {'_name': None, 'no_progress_bar': False, 'log_interval': 100, 'log_format': None, 'log_file': None, 'aim_repo': None, 'aim_run_hash': None, 'tensorboard_logdir': None, 'wandb_project': 'Multi 30K En to De Translation', 'azureml_logging': False, 'seed': 1, 'cpu': False, 'tpu': False, 'bf16': False, 'memory_efficient_bf16': False, 'fp16': False, 'memory_efficient_fp16': False, 'fp16_no_flatten_grads': False, 'fp16_init_scale': 128, 'fp16_scale_window': None, 'fp16_scale_tolerance': 0.0, 'on_cpu_convert_precision': False, 'min_loss_scale': 0.0001, 'threshold_loss_scale': None, 'amp': False, 'amp_batch_retries': 2, 'amp_init_scale': 128, 'amp_scale_window': None, 'user_dir': None, 'empty_cache_freq': 0, 'all_gather_list_size': 16384, 'model_parallel_size': 1, 'quantization_config_path': None, 'profile': False, 'reset_logging': False, 'suppress_crashes': False, 'use_plasma_view': False, 'plasma_path': '/tmp/plasma'}, 'common_eval': {'_name': None, 'path': None, 'post_process': None, 'quiet': False, 'model_overrides': '{}', 'results_path': None}, 'distributed_training': {'_name': None, 'distributed_world_size': 1, 'distributed_num_procs': 0, 'distributed_rank': 0, 'distributed_backend': 'nccl', 'distributed_init_method': None, 'distributed_port': -1, 'device_id': 0, 'distributed_no_spawn': False, 'ddp_backend': 'pytorch_ddp', 'ddp_comm_hook': 'none', 'bucket_cap_mb': 25, 'fix_batches_to_gpus': False, 'find_unused_parameters': False, 'gradient_as_bucket_view': False, 'fast_stat_sync': False, 'heartbeat_timeout': -1, 'broadcast_buffers': False, 'slowmo_momentum': None, 'slowmo_base_algorithm': 'localsgd', 'localsgd_frequency': 3, 'nprocs_per_node': 1, 'pipeline_model_parallel': False, 'pipeline_balance': None, 'pipeline_devices': None, 'pipeline_chunks': 0, 'pipeline_encoder_balance': None, 'pipeline_encoder_devices': None, 'pipeline_decoder_balance': None, 'pipeline_decoder_devices': None, 'pipeline_checkpoint': 'never', 'zero_sharding': 'none', 'fp16': False, 'memory_efficient_fp16': False, 'tpu': False, 'no_reshard_after_forward': False, 'fp32_reduce_scatter': False, 'cpu_offload': False, 'use_sharded_state': False, 'not_fsdp_flatten_parameters': False}, 'dataset': {'_name': None, 'num_workers': 1, 'skip_invalid_size_inputs_valid_test': False, 'max_tokens': None, 'batch_size': 128, 'required_batch_size_multiple': 8, 'required_seq_len_multiple': 1, 'dataset_impl': None, 'data_buffer_size': 10, 'train_subset': 'train', 'valid_subset': 'valid', 'combine_valid_subsets': None, 'ignore_unused_valid_subsets': False, 'validate_interval': 1, 'validate_interval_updates': 0, 'validate_after_updates': 0, 'fixed_validation_seed': None, 'disable_validation': False, 'max_tokens_valid': None, 'batch_size_valid': 128, 'max_valid_steps': None, 'curriculum': 0, 'gen_subset': 'test', 'num_shards': 1, 'shard_id': 0, 'grouped_shuffling': False, 'update_epoch_batch_itr': False, 'update_ordered_indices_seed': False}, 'optimization': {'_name': None, 'max_epoch': 10, 'max_update': 0, 'stop_time_hours': 0.0, 'clip_norm': 0.0, 'sentence_avg': False, 'update_freq': [1], 'lr': [0.0005], 'stop_min_lr': -1.0, 'use_bmuf': False, 'skip_remainder_batch': False}, 'checkpoint': {'_name': None, 'save_dir': 'checkpoints', 'restore_file': 'checkpoint_last.pt', 'continue_once': None, 'finetune_from_model': None, 'reset_dataloader': False, 'reset_lr_scheduler': False, 'reset_meters': False, 'reset_optimizer': False, 'optimizer_overrides': '{}', 'save_interval': 1, 'save_interval_updates': 0, 'keep_interval_updates': -1, 'keep_interval_updates_pattern': -1, 'keep_last_epochs': -1, 'keep_best_checkpoints': -1, 'no_save': False, 'no_epoch_checkpoints': False, 'no_last_checkpoints': False, 'no_save_optimizer_state': False, 'best_checkpoint_metric': 'loss', 'maximize_best_checkpoint_metric': False, 'patience': -1, 'checkpoint_suffix': '', 'checkpoint_shard_count': 1, 'load_checkpoint_on_all_dp_ranks': False, 'write_checkpoints_asynchronously': False, 'model_parallel_size': 1}, 'bmuf': {'_name': None, 'block_lr': 1.0, 'block_momentum': 0.875, 'global_sync_iter': 50, 'warmup_iterations': 500, 'use_nbm': False, 'average_sync': False, 'distributed_world_size': 1}, 'generation': {'_name': None, 'beam': 5, 'nbest': 1, 'max_len_a': 0.0, 'max_len_b': 200, 'min_len': 1, 'match_source_len': False, 'unnormalized': False, 'no_early_stop': False, 'no_beamable_mm': False, 'lenpen': 1.0, 'unkpen': 0.0, 'replace_unk': None, 'sacrebleu': False, 'score_reference': False, 'prefix_size': 0, 'no_repeat_ngram_size': 0, 'sampling': False, 'sampling_topk': -1, 'sampling_topp': -1.0, 'constraints': None, 'temperature': 1.0, 'diverse_beam_groups': -1, 'diverse_beam_strength': 0.5, 'diversity_rate': -1.0, 'print_alignment': None, 'print_step': False, 'lm_path': None, 'lm_weight': 0.0, 'iter_decode_eos_penalty': 0.0, 'iter_decode_max_iter': 10, 'iter_decode_force_max_iter': False, 'iter_decode_with_beam': 1, 'iter_decode_with_external_reranker': False, 'retain_iter_history': False, 'retain_dropout': False, 'retain_dropout_modules': None, 'decoding_format': None, 'no_seed_provided': False, 'eos_token': None}, 'eval_lm': {'_name': None, 'output_word_probs': False, 'output_word_stats': False, 'context_window': 0, 'softmax_batch': 9223372036854775807}, 'interactive': {'_name': None, 'buffer_size': 0, 'input': '-'}, 'model': Namespace(no_progress_bar=False, log_interval=100, log_format=None, log_file=None, aim_repo=None, aim_run_hash=None, tensorboard_logdir=None, wandb_project='Multi 30K En to De Translation', azureml_logging=False, seed=1, cpu=False, tpu=False, bf16=False, memory_efficient_bf16=False, fp16=False, memory_efficient_fp16=False, fp16_no_flatten_grads=False, fp16_init_scale=128, fp16_scale_window=None, fp16_scale_tolerance=0.0, on_cpu_convert_precision=False, min_loss_scale=0.0001, threshold_loss_scale=None, amp=False, amp_batch_retries=2, amp_init_scale=128, amp_scale_window=None, user_dir=None, empty_cache_freq=0, all_gather_list_size=16384, model_parallel_size=1, quantization_config_path=None, profile=False, reset_logging=False, suppress_crashes=False, use_plasma_view=False, plasma_path='/tmp/plasma', criterion='cross_entropy', tokenizer=None, bpe=None, optimizer='adam', lr_scheduler='fixed', scoring='bleu', task='translation', num_workers=1, skip_invalid_size_inputs_valid_test=False, max_tokens=None, batch_size=128, required_batch_size_multiple=8, required_seq_len_multiple=1, dataset_impl=None, data_buffer_size=10, train_subset='train', valid_subset='valid', combine_valid_subsets=None, ignore_unused_valid_subsets=False, validate_interval=1, validate_interval_updates=0, validate_after_updates=0, fixed_validation_seed=None, disable_validation=False, max_tokens_valid=None, batch_size_valid=128, max_valid_steps=None, curriculum=0, gen_subset='test', num_shards=1, shard_id=0, grouped_shuffling=False, update_epoch_batch_itr=False, update_ordered_indices_seed=False, distributed_world_size=1, distributed_num_procs=1, distributed_rank=0, distributed_backend='nccl', distributed_init_method=None, distributed_port=-1, device_id=0, distributed_no_spawn=False, ddp_backend='pytorch_ddp', ddp_comm_hook='none', bucket_cap_mb=25, fix_batches_to_gpus=False, find_unused_parameters=False, gradient_as_bucket_view=False, fast_stat_sync=False, heartbeat_timeout=-1, broadcast_buffers=False, slowmo_momentum=None, slowmo_base_algorithm='localsgd', localsgd_frequency=3, nprocs_per_node=1, pipeline_model_parallel=False, pipeline_balance=None, pipeline_devices=None, pipeline_chunks=0, pipeline_encoder_balance=None, pipeline_encoder_devices=None, pipeline_decoder_balance=None, pipeline_decoder_devices=None, pipeline_checkpoint='never', zero_sharding='none', no_reshard_after_forward=False, fp32_reduce_scatter=False, cpu_offload=False, use_sharded_state=False, not_fsdp_flatten_parameters=False, arch='transformer', max_epoch=10, max_update=0, stop_time_hours=0, clip_norm=0.0, sentence_avg=False, update_freq=[1], lr=[0.0005], stop_min_lr=-1.0, use_bmuf=False, skip_remainder_batch=False, save_dir='checkpoints', restore_file='checkpoint_last.pt', continue_once=None, finetune_from_model=None, reset_dataloader=False, reset_lr_scheduler=False, reset_meters=False, reset_optimizer=False, optimizer_overrides='{}', save_interval=1, save_interval_updates=0, keep_interval_updates=-1, keep_interval_updates_pattern=-1, keep_last_epochs=-1, keep_best_checkpoints=-1, no_save=False, no_epoch_checkpoints=False, no_last_checkpoints=False, no_save_optimizer_state=False, best_checkpoint_metric='loss', maximize_best_checkpoint_metric=False, patience=-1, checkpoint_suffix='', checkpoint_shard_count=1, load_checkpoint_on_all_dp_ranks=False, write_checkpoints_asynchronously=False, store_ema=False, ema_decay=0.9999, ema_start_update=0, ema_seed_model=None, ema_update_freq=1, ema_fp32=False, data='data-bin/multi30k.tokenized.de-en', source_lang=None, target_lang=None, load_alignments=False, left_pad_source=True, left_pad_target=False, upsample_primary=-1, truncate_source=False, num_batch_buckets=0, eval_bleu=False, eval_bleu_args='{}', eval_bleu_detok='space', eval_bleu_detok_args='{}', eval_tokenized_bleu=False, eval_bleu_remove_bpe=None, eval_bleu_print_samples=False, adam_betas=(0.9, 0.999), adam_eps=1e-08, weight_decay=0.0, use_old_adam=False, fp16_adam_stats=False, force_anneal=None, lr_shrink=0.1, warmup_updates=0, pad=1, eos=2, unk=3, dropout=0.1, attention_dropout=0.1, activation_dropout=0.1, encoder_embed_dim=256, encoder_ffn_embed_dim=512, encoder_layers=3, encoder_attention_heads=8, encoder_learned_pos=True, decoder_embed_dim=256, decoder_ffn_embed_dim=512, decoder_layers=3, decoder_attention_heads=8, decoder_learned_pos=True, no_seed_provided=False, encoder_embed_path=None, encoder_normalize_before=False, decoder_embed_path=None, decoder_normalize_before=False, activation_fn='relu', adaptive_softmax_cutoff=None, adaptive_softmax_dropout=0, share_decoder_input_output_embed=False, share_all_embeddings=False, no_token_positional_embeddings=False, adaptive_input=False, no_cross_attention=False, cross_self_attention=False, decoder_output_dim=256, decoder_input_dim=256, no_scale_embedding=False, layernorm_embedding=False, tie_adaptive_weights=False, checkpoint_activations=False, offload_activations=False, encoder_layers_to_keep=None, decoder_layers_to_keep=None, encoder_layerdrop=0, decoder_layerdrop=0, quant_noise_pq=0, quant_noise_pq_block_size=8, quant_noise_scalar=0, _name='transformer'), 'task': {'_name': 'translation', 'data': 'data-bin/multi30k.tokenized.de-en', 'source_lang': None, 'target_lang': None, 'load_alignments': False, 'left_pad_source': True, 'left_pad_target': False, 'max_source_positions': 1024, 'max_target_positions': 1024, 'upsample_primary': -1, 'truncate_source': False, 'num_batch_buckets': 0, 'train_subset': 'train', 'dataset_impl': None, 'required_seq_len_multiple': 1, 'eval_bleu': False, 'eval_bleu_args': '{}', 'eval_bleu_detok': 'space', 'eval_bleu_detok_args': '{}', 'eval_tokenized_bleu': False, 'eval_bleu_remove_bpe': None, 'eval_bleu_print_samples': False}, 'criterion': {'_name': 'cross_entropy', 'sentence_avg': False}, 'optimizer': {'_name': 'adam', 'adam_betas': [0.9, 0.999], 'adam_eps': 1e-08, 'weight_decay': 0.0, 'use_old_adam': False, 'fp16_adam_stats': False, 'tpu': False, 'lr': [0.0005]}, 'lr_scheduler': {'_name': 'fixed', 'force_anneal': None, 'lr_shrink': 0.1, 'warmup_updates': 0, 'lr': [0.0005]}, 'scoring': {'_name': 'bleu', 'pad': 1, 'eos': 2, 'unk': 3}, 'bpe': None, 'tokenizer': None, 'ema': {'_name': None, 'store_ema': False, 'ema_decay': 0.9999, 'ema_start_update': 0, 'ema_seed_model': None, 'ema_update_freq': 1, 'ema_fp32': False}}\n",
            "2023-03-19 09:31:44 | INFO | fairseq.tasks.translation | [de] dictionary: 7864 types\n",
            "2023-03-19 09:31:44 | INFO | fairseq.tasks.translation | [en] dictionary: 5928 types\n",
            "2023-03-19 09:31:44 | INFO | fairseq_cli.train | TransformerModel(\n",
            "  (encoder): TransformerEncoderBase(\n",
            "    (dropout_module): FairseqDropout()\n",
            "    (embed_tokens): Embedding(7864, 256, padding_idx=1)\n",
            "    (embed_positions): LearnedPositionalEmbedding(1026, 256, padding_idx=1)\n",
            "    (layers): ModuleList(\n",
            "      (0): TransformerEncoderLayerBase(\n",
            "        (self_attn): MultiheadAttention(\n",
            "          (dropout_module): FairseqDropout()\n",
            "          (k_proj): Linear(in_features=256, out_features=256, bias=True)\n",
            "          (v_proj): Linear(in_features=256, out_features=256, bias=True)\n",
            "          (q_proj): Linear(in_features=256, out_features=256, bias=True)\n",
            "          (out_proj): Linear(in_features=256, out_features=256, bias=True)\n",
            "        )\n",
            "        (self_attn_layer_norm): LayerNorm((256,), eps=1e-05, elementwise_affine=True)\n",
            "        (dropout_module): FairseqDropout()\n",
            "        (activation_dropout_module): FairseqDropout()\n",
            "        (fc1): Linear(in_features=256, out_features=512, bias=True)\n",
            "        (fc2): Linear(in_features=512, out_features=256, bias=True)\n",
            "        (final_layer_norm): LayerNorm((256,), eps=1e-05, elementwise_affine=True)\n",
            "      )\n",
            "      (1): TransformerEncoderLayerBase(\n",
            "        (self_attn): MultiheadAttention(\n",
            "          (dropout_module): FairseqDropout()\n",
            "          (k_proj): Linear(in_features=256, out_features=256, bias=True)\n",
            "          (v_proj): Linear(in_features=256, out_features=256, bias=True)\n",
            "          (q_proj): Linear(in_features=256, out_features=256, bias=True)\n",
            "          (out_proj): Linear(in_features=256, out_features=256, bias=True)\n",
            "        )\n",
            "        (self_attn_layer_norm): LayerNorm((256,), eps=1e-05, elementwise_affine=True)\n",
            "        (dropout_module): FairseqDropout()\n",
            "        (activation_dropout_module): FairseqDropout()\n",
            "        (fc1): Linear(in_features=256, out_features=512, bias=True)\n",
            "        (fc2): Linear(in_features=512, out_features=256, bias=True)\n",
            "        (final_layer_norm): LayerNorm((256,), eps=1e-05, elementwise_affine=True)\n",
            "      )\n",
            "      (2): TransformerEncoderLayerBase(\n",
            "        (self_attn): MultiheadAttention(\n",
            "          (dropout_module): FairseqDropout()\n",
            "          (k_proj): Linear(in_features=256, out_features=256, bias=True)\n",
            "          (v_proj): Linear(in_features=256, out_features=256, bias=True)\n",
            "          (q_proj): Linear(in_features=256, out_features=256, bias=True)\n",
            "          (out_proj): Linear(in_features=256, out_features=256, bias=True)\n",
            "        )\n",
            "        (self_attn_layer_norm): LayerNorm((256,), eps=1e-05, elementwise_affine=True)\n",
            "        (dropout_module): FairseqDropout()\n",
            "        (activation_dropout_module): FairseqDropout()\n",
            "        (fc1): Linear(in_features=256, out_features=512, bias=True)\n",
            "        (fc2): Linear(in_features=512, out_features=256, bias=True)\n",
            "        (final_layer_norm): LayerNorm((256,), eps=1e-05, elementwise_affine=True)\n",
            "      )\n",
            "    )\n",
            "  )\n",
            "  (decoder): TransformerDecoderBase(\n",
            "    (dropout_module): FairseqDropout()\n",
            "    (embed_tokens): Embedding(5928, 256, padding_idx=1)\n",
            "    (embed_positions): LearnedPositionalEmbedding(1026, 256, padding_idx=1)\n",
            "    (layers): ModuleList(\n",
            "      (0): TransformerDecoderLayerBase(\n",
            "        (dropout_module): FairseqDropout()\n",
            "        (self_attn): MultiheadAttention(\n",
            "          (dropout_module): FairseqDropout()\n",
            "          (k_proj): Linear(in_features=256, out_features=256, bias=True)\n",
            "          (v_proj): Linear(in_features=256, out_features=256, bias=True)\n",
            "          (q_proj): Linear(in_features=256, out_features=256, bias=True)\n",
            "          (out_proj): Linear(in_features=256, out_features=256, bias=True)\n",
            "        )\n",
            "        (activation_dropout_module): FairseqDropout()\n",
            "        (self_attn_layer_norm): LayerNorm((256,), eps=1e-05, elementwise_affine=True)\n",
            "        (encoder_attn): MultiheadAttention(\n",
            "          (dropout_module): FairseqDropout()\n",
            "          (k_proj): Linear(in_features=256, out_features=256, bias=True)\n",
            "          (v_proj): Linear(in_features=256, out_features=256, bias=True)\n",
            "          (q_proj): Linear(in_features=256, out_features=256, bias=True)\n",
            "          (out_proj): Linear(in_features=256, out_features=256, bias=True)\n",
            "        )\n",
            "        (encoder_attn_layer_norm): LayerNorm((256,), eps=1e-05, elementwise_affine=True)\n",
            "        (fc1): Linear(in_features=256, out_features=512, bias=True)\n",
            "        (fc2): Linear(in_features=512, out_features=256, bias=True)\n",
            "        (final_layer_norm): LayerNorm((256,), eps=1e-05, elementwise_affine=True)\n",
            "      )\n",
            "      (1): TransformerDecoderLayerBase(\n",
            "        (dropout_module): FairseqDropout()\n",
            "        (self_attn): MultiheadAttention(\n",
            "          (dropout_module): FairseqDropout()\n",
            "          (k_proj): Linear(in_features=256, out_features=256, bias=True)\n",
            "          (v_proj): Linear(in_features=256, out_features=256, bias=True)\n",
            "          (q_proj): Linear(in_features=256, out_features=256, bias=True)\n",
            "          (out_proj): Linear(in_features=256, out_features=256, bias=True)\n",
            "        )\n",
            "        (activation_dropout_module): FairseqDropout()\n",
            "        (self_attn_layer_norm): LayerNorm((256,), eps=1e-05, elementwise_affine=True)\n",
            "        (encoder_attn): MultiheadAttention(\n",
            "          (dropout_module): FairseqDropout()\n",
            "          (k_proj): Linear(in_features=256, out_features=256, bias=True)\n",
            "          (v_proj): Linear(in_features=256, out_features=256, bias=True)\n",
            "          (q_proj): Linear(in_features=256, out_features=256, bias=True)\n",
            "          (out_proj): Linear(in_features=256, out_features=256, bias=True)\n",
            "        )\n",
            "        (encoder_attn_layer_norm): LayerNorm((256,), eps=1e-05, elementwise_affine=True)\n",
            "        (fc1): Linear(in_features=256, out_features=512, bias=True)\n",
            "        (fc2): Linear(in_features=512, out_features=256, bias=True)\n",
            "        (final_layer_norm): LayerNorm((256,), eps=1e-05, elementwise_affine=True)\n",
            "      )\n",
            "      (2): TransformerDecoderLayerBase(\n",
            "        (dropout_module): FairseqDropout()\n",
            "        (self_attn): MultiheadAttention(\n",
            "          (dropout_module): FairseqDropout()\n",
            "          (k_proj): Linear(in_features=256, out_features=256, bias=True)\n",
            "          (v_proj): Linear(in_features=256, out_features=256, bias=True)\n",
            "          (q_proj): Linear(in_features=256, out_features=256, bias=True)\n",
            "          (out_proj): Linear(in_features=256, out_features=256, bias=True)\n",
            "        )\n",
            "        (activation_dropout_module): FairseqDropout()\n",
            "        (self_attn_layer_norm): LayerNorm((256,), eps=1e-05, elementwise_affine=True)\n",
            "        (encoder_attn): MultiheadAttention(\n",
            "          (dropout_module): FairseqDropout()\n",
            "          (k_proj): Linear(in_features=256, out_features=256, bias=True)\n",
            "          (v_proj): Linear(in_features=256, out_features=256, bias=True)\n",
            "          (q_proj): Linear(in_features=256, out_features=256, bias=True)\n",
            "          (out_proj): Linear(in_features=256, out_features=256, bias=True)\n",
            "        )\n",
            "        (encoder_attn_layer_norm): LayerNorm((256,), eps=1e-05, elementwise_affine=True)\n",
            "        (fc1): Linear(in_features=256, out_features=512, bias=True)\n",
            "        (fc2): Linear(in_features=512, out_features=256, bias=True)\n",
            "        (final_layer_norm): LayerNorm((256,), eps=1e-05, elementwise_affine=True)\n",
            "      )\n",
            "    )\n",
            "    (output_projection): Linear(in_features=256, out_features=5928, bias=False)\n",
            "  )\n",
            ")\n",
            "2023-03-19 09:31:44 | INFO | fairseq_cli.train | task: TranslationTask\n",
            "2023-03-19 09:31:44 | INFO | fairseq_cli.train | model: TransformerModel\n",
            "2023-03-19 09:31:44 | INFO | fairseq_cli.train | criterion: CrossEntropyCriterion\n",
            "2023-03-19 09:31:44 | INFO | fairseq_cli.train | num. shared model params: 11,105,536 (num. trained: 11,105,536)\n",
            "2023-03-19 09:31:44 | INFO | fairseq_cli.train | num. expert model params: 0 (num. trained: 0)\n",
            "2023-03-19 09:31:44 | INFO | fairseq.data.data_utils | loaded 1,014 examples from: data-bin/multi30k.tokenized.de-en/valid.de-en.de\n",
            "2023-03-19 09:31:44 | INFO | fairseq.data.data_utils | loaded 1,014 examples from: data-bin/multi30k.tokenized.de-en/valid.de-en.en\n",
            "2023-03-19 09:31:44 | INFO | fairseq.tasks.translation | data-bin/multi30k.tokenized.de-en valid de-en 1014 examples\n",
            "2023-03-19 09:31:44 | INFO | fairseq_cli.train | training on 1 devices (GPUs/TPUs)\n",
            "2023-03-19 09:31:44 | INFO | fairseq_cli.train | max tokens per device = None and max sentences per device = 128\n",
            "2023-03-19 09:31:44 | INFO | fairseq.trainer | Preparing to load checkpoint checkpoints/checkpoint_last.pt\n",
            "2023-03-19 09:31:44 | INFO | fairseq.trainer | No existing checkpoint found checkpoints/checkpoint_last.pt\n",
            "2023-03-19 09:31:44 | INFO | fairseq.trainer | loading train data for epoch 1\n",
            "2023-03-19 09:31:44 | INFO | fairseq.data.data_utils | loaded 29,000 examples from: data-bin/multi30k.tokenized.de-en/train.de-en.de\n",
            "2023-03-19 09:31:44 | INFO | fairseq.data.data_utils | loaded 29,000 examples from: data-bin/multi30k.tokenized.de-en/train.de-en.en\n",
            "2023-03-19 09:31:44 | INFO | fairseq.tasks.translation | data-bin/multi30k.tokenized.de-en train de-en 29000 examples\n",
            "2023-03-19 09:31:44 | INFO | fairseq.data.iterators | grouped total_num_itrs = 227\n",
            "epoch 001:   0%|                                        | 0/227 [00:00<?, ?it/s]\u001b[34m\u001b[1mwandb\u001b[0m: Currently logged in as: \u001b[33mvenkatakrishnan\u001b[0m (\u001b[33mteam132\u001b[0m). Use \u001b[1m`wandb login --relogin`\u001b[0m to force relogin\n",
            "\u001b[34m\u001b[1mwandb\u001b[0m: Tracking run with wandb version 0.14.0\n",
            "\u001b[34m\u001b[1mwandb\u001b[0m: Run data is saved locally in \u001b[35m\u001b[1m/Users/venkatakrishnanvk/Desktop/ML & DL/Deep Learning/Pytorch-Tutorial/Natural Language Processing/wandb/run-20230319_093145-71z7oqvx\u001b[0m\n",
            "\u001b[34m\u001b[1mwandb\u001b[0m: Run \u001b[1m`wandb offline`\u001b[0m to turn off syncing.\n",
            "\u001b[34m\u001b[1mwandb\u001b[0m: Syncing run \u001b[33mcheckpoints\u001b[0m\n",
            "\u001b[34m\u001b[1mwandb\u001b[0m: ⭐️ View project at \u001b[34m\u001b[4mhttps://wandb.ai/team132/Multi%2030K%20En%20to%20De%20Translation\u001b[0m\n",
            "\u001b[34m\u001b[1mwandb\u001b[0m: 🚀 View run at \u001b[34m\u001b[4mhttps://wandb.ai/team132/Multi%2030K%20En%20to%20De%20Translation/runs/71z7oqvx\u001b[0m\n",
            "2023-03-19 09:32:00 | INFO | fairseq.trainer | begin training epoch 1\n",
            "2023-03-19 09:32:00 | INFO | fairseq_cli.train | Start iterating over samples\n",
            "epoch 001: 100%|▉| 226/227 [01:38<00:00,  3.39it/s, loss=5.109, ppl=34.5, wps=502023-03-19 09:33:23 | INFO | fairseq_cli.train | begin validation on \"valid\" subset\n",
            "\n",
            "epoch 001 | valid on 'valid' subset:   0%|                | 0/9 [00:00<?, ?it/s]\u001b[A\n",
            "epoch 001 | valid on 'valid' subset:  11%|▉       | 1/9 [00:01<00:14,  1.86s/it]\u001b[A\n",
            "epoch 001 | valid on 'valid' subset:  22%|█▊      | 2/9 [00:01<00:05,  1.21it/s]\u001b[A\n",
            "epoch 001 | valid on 'valid' subset:  33%|██▋     | 3/9 [00:02<00:02,  2.01it/s]\u001b[A\n",
            "epoch 001 | valid on 'valid' subset:  44%|███▌    | 4/9 [00:02<00:01,  2.92it/s]\u001b[A\n",
            "epoch 001 | valid on 'valid' subset:  56%|████▍   | 5/9 [00:02<00:01,  3.87it/s]\u001b[A\n",
            "epoch 001 | valid on 'valid' subset:  67%|█████▎  | 6/9 [00:02<00:00,  4.72it/s]\u001b[A\n",
            "epoch 001 | valid on 'valid' subset:  78%|██████▏ | 7/9 [00:02<00:00,  5.39it/s]\u001b[A\n",
            "epoch 001 | valid on 'valid' subset:  89%|███████ | 8/9 [00:02<00:00,  5.81it/s]\u001b[A\n",
            "                                                                                \u001b[A2023-03-19 09:33:25 | INFO | valid | epoch 001 | valid on 'valid' subset | loss 4.256 | ppl 19.1 | wps 15500.9 | wpb 1591.3 | bsz 112.7 | num_updates 227\n",
            "2023-03-19 09:33:25 | INFO | fairseq.checkpoint_utils | Preparing to save checkpoint for epoch 1 @ 227 updates\n",
            "2023-03-19 09:33:25 | INFO | fairseq.trainer | Saving checkpoint to /Users/venkatakrishnanvk/Desktop/ML & DL/Deep Learning/Pytorch-Tutorial/Natural Language Processing/checkpoints/checkpoint1.pt\n",
            "2023-03-19 09:33:25 | INFO | fairseq.trainer | Finished saving checkpoint to /Users/venkatakrishnanvk/Desktop/ML & DL/Deep Learning/Pytorch-Tutorial/Natural Language Processing/checkpoints/checkpoint1.pt\n",
            "2023-03-19 09:33:25 | INFO | fairseq.checkpoint_utils | Saved checkpoint checkpoints/checkpoint1.pt (epoch 1 @ 227 updates, score 4.256) (writing took 0.11440162477083504 seconds)\n",
            "2023-03-19 09:33:25 | INFO | fairseq_cli.train | end of epoch 1 (average epoch stats below)\n",
            "2023-03-19 09:33:25 | INFO | train | epoch 001 | loss 5.783 | ppl 55.06 | wps 4898.2 | ups 2.74 | wpb 1790.9 | bsz 127.8 | num_updates 227 | lr 0.0005 | gnorm 1.33 | train_wall 79 | wall 102\n",
            "2023-03-19 09:33:25 | INFO | fairseq.data.iterators | grouped total_num_itrs = 227\n",
            "epoch 002:   0%|                                        | 0/227 [00:00<?, ?it/s]2023-03-19 09:33:25 | INFO | fairseq.trainer | begin training epoch 2\n",
            "2023-03-19 09:33:25 | INFO | fairseq_cli.train | Start iterating over samples\n",
            "epoch 002: 100%|▉| 226/227 [01:21<00:00,  2.60it/s, loss=3.968, ppl=15.65, wps=52023-03-19 09:34:47 | INFO | fairseq_cli.train | begin validation on \"valid\" subset\n",
            "\n",
            "epoch 002 | valid on 'valid' subset:   0%|                | 0/9 [00:00<?, ?it/s]\u001b[A\n",
            "epoch 002 | valid on 'valid' subset:  22%|█▊      | 2/9 [00:00<00:00, 10.95it/s]\u001b[A\n",
            "epoch 002 | valid on 'valid' subset:  44%|███▌    | 4/9 [00:00<00:00, 10.60it/s]\u001b[A\n",
            "epoch 002 | valid on 'valid' subset:  67%|█████▎  | 6/9 [00:00<00:00,  9.81it/s]\u001b[A\n",
            "epoch 002 | valid on 'valid' subset:  78%|██████▏ | 7/9 [00:00<00:00,  9.20it/s]\u001b[A\n",
            "epoch 002 | valid on 'valid' subset:  89%|███████ | 8/9 [00:00<00:00,  8.68it/s]\u001b[A\n",
            "                                                                                \u001b[A2023-03-19 09:34:48 | INFO | valid | epoch 002 | valid on 'valid' subset | loss 3.444 | ppl 10.88 | wps 16449.6 | wpb 1591.3 | bsz 112.7 | num_updates 454 | best_loss 3.444\n",
            "2023-03-19 09:34:48 | INFO | fairseq.checkpoint_utils | Preparing to save checkpoint for epoch 2 @ 454 updates\n",
            "2023-03-19 09:34:48 | INFO | fairseq.trainer | Saving checkpoint to /Users/venkatakrishnanvk/Desktop/ML & DL/Deep Learning/Pytorch-Tutorial/Natural Language Processing/checkpoints/checkpoint2.pt\n",
            "2023-03-19 09:34:48 | INFO | fairseq.trainer | Finished saving checkpoint to /Users/venkatakrishnanvk/Desktop/ML & DL/Deep Learning/Pytorch-Tutorial/Natural Language Processing/checkpoints/checkpoint2.pt\n",
            "2023-03-19 09:34:48 | INFO | fairseq.checkpoint_utils | Saved checkpoint checkpoints/checkpoint2.pt (epoch 2 @ 454 updates, score 3.444) (writing took 0.10924912500195205 seconds)\n",
            "2023-03-19 09:34:48 | INFO | fairseq_cli.train | end of epoch 2 (average epoch stats below)\n",
            "2023-03-19 09:34:48 | INFO | train | epoch 002 | loss 4.001 | ppl 16.01 | wps 4930 | ups 2.75 | wpb 1790.9 | bsz 127.8 | num_updates 454 | lr 0.0005 | gnorm 1.146 | train_wall 80 | wall 184\n",
            "2023-03-19 09:34:48 | INFO | fairseq.data.iterators | grouped total_num_itrs = 227\n",
            "epoch 003:   0%|                                        | 0/227 [00:00<?, ?it/s]2023-03-19 09:34:48 | INFO | fairseq.trainer | begin training epoch 3\n",
            "2023-03-19 09:34:48 | INFO | fairseq_cli.train | Start iterating over samples\n",
            "epoch 003: 100%|▉| 226/227 [01:20<00:00,  2.60it/s, loss=3.21, ppl=9.25, wps=4932023-03-19 09:36:08 | INFO | fairseq_cli.train | begin validation on \"valid\" subset\n",
            "\n",
            "epoch 003 | valid on 'valid' subset:   0%|                | 0/9 [00:00<?, ?it/s]\u001b[A\n",
            "epoch 003 | valid on 'valid' subset:  22%|█▊      | 2/9 [00:00<00:00, 11.47it/s]\u001b[A\n",
            "epoch 003 | valid on 'valid' subset:  44%|███▌    | 4/9 [00:00<00:00, 11.35it/s]\u001b[A\n",
            "epoch 003 | valid on 'valid' subset:  67%|█████▎  | 6/9 [00:00<00:00, 10.45it/s]\u001b[A\n",
            "epoch 003 | valid on 'valid' subset:  89%|███████ | 8/9 [00:00<00:00,  9.39it/s]\u001b[A\n",
            "                                                                                \u001b[A2023-03-19 09:36:09 | INFO | valid | epoch 003 | valid on 'valid' subset | loss 3.006 | ppl 8.03 | wps 17750.6 | wpb 1591.3 | bsz 112.7 | num_updates 681 | best_loss 3.006\n",
            "2023-03-19 09:36:09 | INFO | fairseq.checkpoint_utils | Preparing to save checkpoint for epoch 3 @ 681 updates\n",
            "2023-03-19 09:36:09 | INFO | fairseq.trainer | Saving checkpoint to /Users/venkatakrishnanvk/Desktop/ML & DL/Deep Learning/Pytorch-Tutorial/Natural Language Processing/checkpoints/checkpoint3.pt\n",
            "2023-03-19 09:36:09 | INFO | fairseq.trainer | Finished saving checkpoint to /Users/venkatakrishnanvk/Desktop/ML & DL/Deep Learning/Pytorch-Tutorial/Natural Language Processing/checkpoints/checkpoint3.pt\n",
            "2023-03-19 09:36:09 | INFO | fairseq.checkpoint_utils | Saved checkpoint checkpoints/checkpoint3.pt (epoch 3 @ 681 updates, score 3.006) (writing took 0.1129010000731796 seconds)\n",
            "2023-03-19 09:36:09 | INFO | fairseq_cli.train | end of epoch 3 (average epoch stats below)\n",
            "2023-03-19 09:36:09 | INFO | train | epoch 003 | loss 3.235 | ppl 9.41 | wps 4982 | ups 2.78 | wpb 1790.9 | bsz 127.8 | num_updates 681 | lr 0.0005 | gnorm 1.145 | train_wall 79 | wall 266\n",
            "2023-03-19 09:36:09 | INFO | fairseq.data.iterators | grouped total_num_itrs = 227\n",
            "epoch 004:   0%|                                        | 0/227 [00:00<?, ?it/s]2023-03-19 09:36:09 | INFO | fairseq.trainer | begin training epoch 4\n",
            "2023-03-19 09:36:09 | INFO | fairseq_cli.train | Start iterating over samples\n",
            "epoch 004: 100%|▉| 226/227 [01:20<00:00,  2.58it/s, loss=2.693, ppl=6.47, wps=502023-03-19 09:37:30 | INFO | fairseq_cli.train | begin validation on \"valid\" subset\n",
            "\n",
            "epoch 004 | valid on 'valid' subset:   0%|                | 0/9 [00:00<?, ?it/s]\u001b[A\n",
            "epoch 004 | valid on 'valid' subset:  11%|▉       | 1/9 [00:00<00:00,  9.81it/s]\u001b[A\n",
            "epoch 004 | valid on 'valid' subset:  22%|█▊      | 2/9 [00:00<00:00,  9.12it/s]\u001b[A\n",
            "epoch 004 | valid on 'valid' subset:  33%|██▋     | 3/9 [00:00<00:00,  8.89it/s]\u001b[A\n",
            "epoch 004 | valid on 'valid' subset:  44%|███▌    | 4/9 [00:00<00:00,  8.45it/s]\u001b[A\n",
            "epoch 004 | valid on 'valid' subset:  56%|████▍   | 5/9 [00:00<00:00,  8.30it/s]\u001b[A\n",
            "epoch 004 | valid on 'valid' subset:  67%|█████▎  | 6/9 [00:00<00:00,  7.81it/s]\u001b[A\n",
            "epoch 004 | valid on 'valid' subset:  78%|██████▏ | 7/9 [00:00<00:00,  7.68it/s]\u001b[A\n",
            "epoch 004 | valid on 'valid' subset:  89%|███████ | 8/9 [00:01<00:00,  7.45it/s]\u001b[A\n",
            "                                                                                \u001b[A2023-03-19 09:37:31 | INFO | valid | epoch 004 | valid on 'valid' subset | loss 2.763 | ppl 6.79 | wps 14198.7 | wpb 1591.3 | bsz 112.7 | num_updates 908 | best_loss 2.763\n",
            "2023-03-19 09:37:31 | INFO | fairseq.checkpoint_utils | Preparing to save checkpoint for epoch 4 @ 908 updates\n",
            "2023-03-19 09:37:31 | INFO | fairseq.trainer | Saving checkpoint to /Users/venkatakrishnanvk/Desktop/ML & DL/Deep Learning/Pytorch-Tutorial/Natural Language Processing/checkpoints/checkpoint4.pt\n",
            "2023-03-19 09:37:31 | INFO | fairseq.trainer | Finished saving checkpoint to /Users/venkatakrishnanvk/Desktop/ML & DL/Deep Learning/Pytorch-Tutorial/Natural Language Processing/checkpoints/checkpoint4.pt\n",
            "2023-03-19 09:37:31 | INFO | fairseq.checkpoint_utils | Saved checkpoint checkpoints/checkpoint4.pt (epoch 4 @ 908 updates, score 2.763) (writing took 0.11167029105126858 seconds)\n",
            "2023-03-19 09:37:31 | INFO | fairseq_cli.train | end of epoch 4 (average epoch stats below)\n",
            "2023-03-19 09:37:31 | INFO | train | epoch 004 | loss 2.728 | ppl 6.62 | wps 4977.3 | ups 2.78 | wpb 1790.9 | bsz 127.8 | num_updates 908 | lr 0.0005 | gnorm 1.101 | train_wall 79 | wall 347\n",
            "2023-03-19 09:37:31 | INFO | fairseq.data.iterators | grouped total_num_itrs = 227\n",
            "epoch 005:   0%|                                        | 0/227 [00:00<?, ?it/s]2023-03-19 09:37:31 | INFO | fairseq.trainer | begin training epoch 5\n",
            "2023-03-19 09:37:31 | INFO | fairseq_cli.train | Start iterating over samples\n",
            "epoch 005: 100%|▉| 226/227 [01:20<00:00,  2.43it/s, loss=2.388, ppl=5.23, wps=512023-03-19 09:38:52 | INFO | fairseq_cli.train | begin validation on \"valid\" subset\n",
            "\n",
            "epoch 005 | valid on 'valid' subset:   0%|                | 0/9 [00:00<?, ?it/s]\u001b[A\n",
            "epoch 005 | valid on 'valid' subset:  11%|▉       | 1/9 [00:00<00:00,  9.80it/s]\u001b[A\n",
            "epoch 005 | valid on 'valid' subset:  22%|█▊      | 2/9 [00:00<00:00,  9.49it/s]\u001b[A\n",
            "epoch 005 | valid on 'valid' subset:  33%|██▋     | 3/9 [00:00<00:00,  9.41it/s]\u001b[A\n",
            "epoch 005 | valid on 'valid' subset:  44%|███▌    | 4/9 [00:00<00:00,  9.04it/s]\u001b[A\n",
            "epoch 005 | valid on 'valid' subset:  56%|████▍   | 5/9 [00:00<00:00,  8.72it/s]\u001b[A\n",
            "epoch 005 | valid on 'valid' subset:  67%|█████▎  | 6/9 [00:00<00:00,  8.08it/s]\u001b[A\n",
            "epoch 005 | valid on 'valid' subset:  78%|██████▏ | 7/9 [00:00<00:00,  7.48it/s]\u001b[A\n",
            "epoch 005 | valid on 'valid' subset:  89%|███████ | 8/9 [00:01<00:00,  7.09it/s]\u001b[A\n",
            "                                                                                \u001b[A2023-03-19 09:38:53 | INFO | valid | epoch 005 | valid on 'valid' subset | loss 2.633 | ppl 6.2 | wps 14075.7 | wpb 1591.3 | bsz 112.7 | num_updates 1135 | best_loss 2.633\n",
            "2023-03-19 09:38:53 | INFO | fairseq.checkpoint_utils | Preparing to save checkpoint for epoch 5 @ 1135 updates\n",
            "2023-03-19 09:38:53 | INFO | fairseq.trainer | Saving checkpoint to /Users/venkatakrishnanvk/Desktop/ML & DL/Deep Learning/Pytorch-Tutorial/Natural Language Processing/checkpoints/checkpoint5.pt\n",
            "2023-03-19 09:38:53 | INFO | fairseq.trainer | Finished saving checkpoint to /Users/venkatakrishnanvk/Desktop/ML & DL/Deep Learning/Pytorch-Tutorial/Natural Language Processing/checkpoints/checkpoint5.pt\n",
            "2023-03-19 09:38:53 | INFO | fairseq.checkpoint_utils | Saved checkpoint checkpoints/checkpoint5.pt (epoch 5 @ 1135 updates, score 2.633) (writing took 0.11531362519599497 seconds)\n",
            "2023-03-19 09:38:53 | INFO | fairseq_cli.train | end of epoch 5 (average epoch stats below)\n",
            "2023-03-19 09:38:53 | INFO | train | epoch 005 | loss 2.365 | ppl 5.15 | wps 4980 | ups 2.78 | wpb 1790.9 | bsz 127.8 | num_updates 1135 | lr 0.0005 | gnorm 1.115 | train_wall 79 | wall 429\n",
            "2023-03-19 09:38:53 | INFO | fairseq.data.iterators | grouped total_num_itrs = 227\n",
            "epoch 006:   0%|                                        | 0/227 [00:00<?, ?it/s]2023-03-19 09:38:53 | INFO | fairseq.trainer | begin training epoch 6\n",
            "2023-03-19 09:38:53 | INFO | fairseq_cli.train | Start iterating over samples\n",
            "epoch 006: 100%|▉| 226/227 [01:20<00:00,  2.90it/s, loss=2.085, ppl=4.24, wps=502023-03-19 09:40:13 | INFO | fairseq_cli.train | begin validation on \"valid\" subset\n",
            "\n",
            "epoch 006 | valid on 'valid' subset:   0%|                | 0/9 [00:00<?, ?it/s]\u001b[A\n",
            "epoch 006 | valid on 'valid' subset:  22%|█▊      | 2/9 [00:00<00:00, 10.49it/s]\u001b[A\n",
            "epoch 006 | valid on 'valid' subset:  44%|███▌    | 4/9 [00:00<00:00, 10.27it/s]\u001b[A\n",
            "epoch 006 | valid on 'valid' subset:  67%|█████▎  | 6/9 [00:00<00:00,  9.59it/s]\u001b[A\n",
            "epoch 006 | valid on 'valid' subset:  78%|██████▏ | 7/9 [00:00<00:00,  9.24it/s]\u001b[A\n",
            "epoch 006 | valid on 'valid' subset:  89%|███████ | 8/9 [00:00<00:00,  8.81it/s]\u001b[A\n",
            "                                                                                \u001b[A2023-03-19 09:40:14 | INFO | valid | epoch 006 | valid on 'valid' subset | loss 2.601 | ppl 6.07 | wps 16488.7 | wpb 1591.3 | bsz 112.7 | num_updates 1362 | best_loss 2.601\n",
            "2023-03-19 09:40:14 | INFO | fairseq.checkpoint_utils | Preparing to save checkpoint for epoch 6 @ 1362 updates\n",
            "2023-03-19 09:40:14 | INFO | fairseq.trainer | Saving checkpoint to /Users/venkatakrishnanvk/Desktop/ML & DL/Deep Learning/Pytorch-Tutorial/Natural Language Processing/checkpoints/checkpoint6.pt\n",
            "2023-03-19 09:40:14 | INFO | fairseq.trainer | Finished saving checkpoint to /Users/venkatakrishnanvk/Desktop/ML & DL/Deep Learning/Pytorch-Tutorial/Natural Language Processing/checkpoints/checkpoint6.pt\n",
            "2023-03-19 09:40:14 | INFO | fairseq.checkpoint_utils | Saved checkpoint checkpoints/checkpoint6.pt (epoch 6 @ 1362 updates, score 2.601) (writing took 0.11364720901474357 seconds)\n",
            "2023-03-19 09:40:14 | INFO | fairseq_cli.train | end of epoch 6 (average epoch stats below)\n",
            "2023-03-19 09:40:14 | INFO | train | epoch 006 | loss 2.095 | ppl 4.27 | wps 4976.7 | ups 2.78 | wpb 1790.9 | bsz 127.8 | num_updates 1362 | lr 0.0005 | gnorm 1.168 | train_wall 79 | wall 511\n",
            "2023-03-19 09:40:14 | INFO | fairseq.data.iterators | grouped total_num_itrs = 227\n",
            "epoch 007:   0%|                                        | 0/227 [00:00<?, ?it/s]2023-03-19 09:40:14 | INFO | fairseq.trainer | begin training epoch 7\n",
            "2023-03-19 09:40:14 | INFO | fairseq_cli.train | Start iterating over samples\n",
            "epoch 007: 100%|▉| 226/227 [01:19<00:00,  2.81it/s, loss=1.85, ppl=3.61, wps=5122023-03-19 09:41:35 | INFO | fairseq_cli.train | begin validation on \"valid\" subset\n",
            "\n",
            "epoch 007 | valid on 'valid' subset:   0%|                | 0/9 [00:00<?, ?it/s]\u001b[A\n",
            "epoch 007 | valid on 'valid' subset:  22%|█▊      | 2/9 [00:00<00:00, 10.37it/s]\u001b[A\n",
            "epoch 007 | valid on 'valid' subset:  44%|███▌    | 4/9 [00:00<00:00,  9.85it/s]\u001b[A\n",
            "epoch 007 | valid on 'valid' subset:  56%|████▍   | 5/9 [00:00<00:00,  9.60it/s]\u001b[A\n",
            "epoch 007 | valid on 'valid' subset:  67%|█████▎  | 6/9 [00:00<00:00,  9.00it/s]\u001b[A\n",
            "epoch 007 | valid on 'valid' subset:  78%|██████▏ | 7/9 [00:00<00:00,  8.53it/s]\u001b[A\n",
            "epoch 007 | valid on 'valid' subset:  89%|███████ | 8/9 [00:00<00:00,  7.87it/s]\u001b[A\n",
            "                                                                                \u001b[A2023-03-19 09:41:36 | INFO | valid | epoch 007 | valid on 'valid' subset | loss 2.552 | ppl 5.86 | wps 15437 | wpb 1591.3 | bsz 112.7 | num_updates 1589 | best_loss 2.552\n",
            "2023-03-19 09:41:36 | INFO | fairseq.checkpoint_utils | Preparing to save checkpoint for epoch 7 @ 1589 updates\n",
            "2023-03-19 09:41:36 | INFO | fairseq.trainer | Saving checkpoint to /Users/venkatakrishnanvk/Desktop/ML & DL/Deep Learning/Pytorch-Tutorial/Natural Language Processing/checkpoints/checkpoint7.pt\n",
            "2023-03-19 09:41:36 | INFO | fairseq.trainer | Finished saving checkpoint to /Users/venkatakrishnanvk/Desktop/ML & DL/Deep Learning/Pytorch-Tutorial/Natural Language Processing/checkpoints/checkpoint7.pt\n",
            "2023-03-19 09:41:36 | INFO | fairseq.checkpoint_utils | Saved checkpoint checkpoints/checkpoint7.pt (epoch 7 @ 1589 updates, score 2.552) (writing took 0.11117554199881852 seconds)\n",
            "2023-03-19 09:41:36 | INFO | fairseq_cli.train | end of epoch 7 (average epoch stats below)\n",
            "2023-03-19 09:41:36 | INFO | train | epoch 007 | loss 1.836 | ppl 3.57 | wps 4988.7 | ups 2.79 | wpb 1790.9 | bsz 127.8 | num_updates 1589 | lr 0.0005 | gnorm 1.105 | train_wall 79 | wall 592\n",
            "2023-03-19 09:41:36 | INFO | fairseq.data.iterators | grouped total_num_itrs = 227\n",
            "epoch 008:   0%|                                        | 0/227 [00:00<?, ?it/s]2023-03-19 09:41:36 | INFO | fairseq.trainer | begin training epoch 8\n",
            "2023-03-19 09:41:36 | INFO | fairseq_cli.train | Start iterating over samples\n",
            "epoch 008: 100%|▉| 226/227 [01:21<00:00,  2.59it/s, loss=1.669, ppl=3.18, wps=502023-03-19 09:42:57 | INFO | fairseq_cli.train | begin validation on \"valid\" subset\n",
            "\n",
            "epoch 008 | valid on 'valid' subset:   0%|                | 0/9 [00:00<?, ?it/s]\u001b[A\n",
            "epoch 008 | valid on 'valid' subset:  22%|█▊      | 2/9 [00:00<00:00, 10.06it/s]\u001b[A\n",
            "epoch 008 | valid on 'valid' subset:  44%|███▌    | 4/9 [00:00<00:00,  9.61it/s]\u001b[A\n",
            "epoch 008 | valid on 'valid' subset:  56%|████▍   | 5/9 [00:00<00:00,  9.34it/s]\u001b[A\n",
            "epoch 008 | valid on 'valid' subset:  67%|█████▎  | 6/9 [00:00<00:00,  8.65it/s]\u001b[A\n",
            "epoch 008 | valid on 'valid' subset:  78%|██████▏ | 7/9 [00:00<00:00,  8.23it/s]\u001b[A\n",
            "epoch 008 | valid on 'valid' subset:  89%|███████ | 8/9 [00:00<00:00,  7.79it/s]\u001b[A\n",
            "                                                                                \u001b[A2023-03-19 09:42:58 | INFO | valid | epoch 008 | valid on 'valid' subset | loss 2.539 | ppl 5.81 | wps 15130.6 | wpb 1591.3 | bsz 112.7 | num_updates 1816 | best_loss 2.539\n",
            "2023-03-19 09:42:58 | INFO | fairseq.checkpoint_utils | Preparing to save checkpoint for epoch 8 @ 1816 updates\n",
            "2023-03-19 09:42:58 | INFO | fairseq.trainer | Saving checkpoint to /Users/venkatakrishnanvk/Desktop/ML & DL/Deep Learning/Pytorch-Tutorial/Natural Language Processing/checkpoints/checkpoint8.pt\n",
            "2023-03-19 09:42:59 | INFO | fairseq.trainer | Finished saving checkpoint to /Users/venkatakrishnanvk/Desktop/ML & DL/Deep Learning/Pytorch-Tutorial/Natural Language Processing/checkpoints/checkpoint8.pt\n",
            "2023-03-19 09:42:59 | INFO | fairseq.checkpoint_utils | Saved checkpoint checkpoints/checkpoint8.pt (epoch 8 @ 1816 updates, score 2.539) (writing took 0.10885925008915365 seconds)\n",
            "2023-03-19 09:42:59 | INFO | fairseq_cli.train | end of epoch 8 (average epoch stats below)\n",
            "2023-03-19 09:42:59 | INFO | train | epoch 008 | loss 1.642 | ppl 3.12 | wps 4918.6 | ups 2.75 | wpb 1790.9 | bsz 127.8 | num_updates 1816 | lr 0.0005 | gnorm 1.122 | train_wall 80 | wall 675\n",
            "2023-03-19 09:42:59 | INFO | fairseq.data.iterators | grouped total_num_itrs = 227\n",
            "epoch 009:   0%|                                        | 0/227 [00:00<?, ?it/s]2023-03-19 09:42:59 | INFO | fairseq.trainer | begin training epoch 9\n",
            "2023-03-19 09:42:59 | INFO | fairseq_cli.train | Start iterating over samples\n",
            "epoch 009: 100%|▉| 226/227 [01:21<00:00,  2.93it/s, loss=1.508, ppl=2.84, wps=502023-03-19 09:44:20 | INFO | fairseq_cli.train | begin validation on \"valid\" subset\n",
            "\n",
            "epoch 009 | valid on 'valid' subset:   0%|                | 0/9 [00:00<?, ?it/s]\u001b[A\n",
            "epoch 009 | valid on 'valid' subset:  22%|█▊      | 2/9 [00:00<00:00, 10.94it/s]\u001b[A\n",
            "epoch 009 | valid on 'valid' subset:  44%|███▌    | 4/9 [00:00<00:00, 10.53it/s]\u001b[A\n",
            "epoch 009 | valid on 'valid' subset:  67%|█████▎  | 6/9 [00:00<00:00,  9.44it/s]\u001b[A\n",
            "epoch 009 | valid on 'valid' subset:  78%|██████▏ | 7/9 [00:00<00:00,  8.92it/s]\u001b[A\n",
            "epoch 009 | valid on 'valid' subset:  89%|███████ | 8/9 [00:00<00:00,  8.43it/s]\u001b[A\n",
            "                                                                                \u001b[A2023-03-19 09:44:21 | INFO | valid | epoch 009 | valid on 'valid' subset | loss 2.595 | ppl 6.04 | wps 16076.4 | wpb 1591.3 | bsz 112.7 | num_updates 2043 | best_loss 2.539\n",
            "2023-03-19 09:44:21 | INFO | fairseq.checkpoint_utils | Preparing to save checkpoint for epoch 9 @ 2043 updates\n",
            "2023-03-19 09:44:21 | INFO | fairseq.trainer | Saving checkpoint to /Users/venkatakrishnanvk/Desktop/ML & DL/Deep Learning/Pytorch-Tutorial/Natural Language Processing/checkpoints/checkpoint9.pt\n",
            "2023-03-19 09:44:21 | INFO | fairseq.trainer | Finished saving checkpoint to /Users/venkatakrishnanvk/Desktop/ML & DL/Deep Learning/Pytorch-Tutorial/Natural Language Processing/checkpoints/checkpoint9.pt\n",
            "2023-03-19 09:44:21 | INFO | fairseq.checkpoint_utils | Saved checkpoint checkpoints/checkpoint9.pt (epoch 9 @ 2043 updates, score 2.595) (writing took 0.08565195789560676 seconds)\n",
            "2023-03-19 09:44:21 | INFO | fairseq_cli.train | end of epoch 9 (average epoch stats below)\n",
            "2023-03-19 09:44:21 | INFO | train | epoch 009 | loss 1.467 | ppl 2.76 | wps 4929.7 | ups 2.75 | wpb 1790.9 | bsz 127.8 | num_updates 2043 | lr 0.0005 | gnorm 1.122 | train_wall 80 | wall 757\n",
            "2023-03-19 09:44:21 | INFO | fairseq.data.iterators | grouped total_num_itrs = 227\n",
            "epoch 010:   0%|                                        | 0/227 [00:00<?, ?it/s]2023-03-19 09:44:21 | INFO | fairseq.trainer | begin training epoch 10\n",
            "2023-03-19 09:44:21 | INFO | fairseq_cli.train | Start iterating over samples\n",
            "epoch 010: 100%|▉| 226/227 [01:21<00:00,  2.64it/s, loss=1.364, ppl=2.57, wps=492023-03-19 09:45:43 | INFO | fairseq_cli.train | begin validation on \"valid\" subset\n",
            "\n",
            "epoch 010 | valid on 'valid' subset:   0%|                | 0/9 [00:00<?, ?it/s]\u001b[A\n",
            "epoch 010 | valid on 'valid' subset:  22%|█▊      | 2/9 [00:00<00:00, 10.99it/s]\u001b[A\n",
            "epoch 010 | valid on 'valid' subset:  44%|███▌    | 4/9 [00:00<00:00, 10.67it/s]\u001b[A\n",
            "epoch 010 | valid on 'valid' subset:  67%|█████▎  | 6/9 [00:00<00:00,  9.89it/s]\u001b[A\n",
            "epoch 010 | valid on 'valid' subset:  78%|██████▏ | 7/9 [00:00<00:00,  9.28it/s]\u001b[A\n",
            "epoch 010 | valid on 'valid' subset:  89%|███████ | 8/9 [00:00<00:00,  8.60it/s]\u001b[A\n",
            "                                                                                \u001b[A2023-03-19 09:45:44 | INFO | valid | epoch 010 | valid on 'valid' subset | loss 2.593 | ppl 6.04 | wps 16550 | wpb 1591.3 | bsz 112.7 | num_updates 2270 | best_loss 2.539\n",
            "2023-03-19 09:45:44 | INFO | fairseq.checkpoint_utils | Preparing to save checkpoint for epoch 10 @ 2270 updates\n",
            "2023-03-19 09:45:44 | INFO | fairseq.trainer | Saving checkpoint to /Users/venkatakrishnanvk/Desktop/ML & DL/Deep Learning/Pytorch-Tutorial/Natural Language Processing/checkpoints/checkpoint10.pt\n",
            "2023-03-19 09:45:44 | INFO | fairseq.trainer | Finished saving checkpoint to /Users/venkatakrishnanvk/Desktop/ML & DL/Deep Learning/Pytorch-Tutorial/Natural Language Processing/checkpoints/checkpoint10.pt\n",
            "2023-03-19 09:45:44 | INFO | fairseq.checkpoint_utils | Saved checkpoint checkpoints/checkpoint10.pt (epoch 10 @ 2270 updates, score 2.593) (writing took 0.0867226249538362 seconds)\n",
            "2023-03-19 09:45:44 | INFO | fairseq_cli.train | end of epoch 10 (average epoch stats below)\n",
            "2023-03-19 09:45:44 | INFO | train | epoch 010 | loss 1.32 | ppl 2.5 | wps 4894.3 | ups 2.73 | wpb 1790.9 | bsz 127.8 | num_updates 2270 | lr 0.0005 | gnorm 1.12 | train_wall 81 | wall 840\n",
            "2023-03-19 09:45:44 | INFO | fairseq_cli.train | done training in 840.0 seconds\n"
          ]
        }
      ],
      "source": [
        "! fairseq-train data-bin/multi30k.tokenized.de-en \\\n",
        "  --arch transformer \\\n",
        "  --dropout 0.1 \\\n",
        "  --attention-dropout 0.1 \\\n",
        "  --activation-dropout 0.1 \\\n",
        "  --encoder-embed-dim 256 \\\n",
        "  --encoder-ffn-embed-dim 512 \\\n",
        "  --encoder-layers 3 \\\n",
        "  --encoder-attention-heads 8 \\\n",
        "  --encoder-learned-pos \\\n",
        "  --decoder-embed-dim 256 \\\n",
        "  --decoder-ffn-embed-dim 512 \\\n",
        "  --decoder-layers 3 \\\n",
        "  --decoder-attention-heads 8 \\\n",
        "  --decoder-learned-pos \\\n",
        "  --max-epoch 10 \\\n",
        "  --optimizer adam \\\n",
        "  --lr 5e-4 \\\n",
        "  --batch-size 128 \\\n",
        "  --seed 1 \\\n",
        "  --wandb-project \"Multi 30K En to De Translation\""
      ]
    },
    {
      "cell_type": "markdown",
      "metadata": {
        "id": "R52sr1X2GYuI"
      },
      "source": [
        "# Evaluate the model"
      ]
    },
    {
      "cell_type": "code",
      "execution_count": 11,
      "metadata": {
        "colab": {
          "base_uri": "https://localhost:8080/"
        },
        "id": "_Hf24_vOeZ6O",
        "outputId": "f51853cf-e05a-4f54-ca55-6f9ff143352b"
      },
      "outputs": [
        {
          "name": "stdout",
          "output_type": "stream",
          "text": [
            "2023-03-19 10:03:51 | INFO | fairseq_cli.generate | {'_name': None, 'common': {'_name': None, 'no_progress_bar': False, 'log_interval': 100, 'log_format': None, 'log_file': None, 'aim_repo': None, 'aim_run_hash': None, 'tensorboard_logdir': None, 'wandb_project': 'Multi 30K En to De Translation', 'azureml_logging': False, 'seed': 1, 'cpu': False, 'tpu': False, 'bf16': False, 'memory_efficient_bf16': False, 'fp16': False, 'memory_efficient_fp16': False, 'fp16_no_flatten_grads': False, 'fp16_init_scale': 128, 'fp16_scale_window': None, 'fp16_scale_tolerance': 0.0, 'on_cpu_convert_precision': False, 'min_loss_scale': 0.0001, 'threshold_loss_scale': None, 'amp': False, 'amp_batch_retries': 2, 'amp_init_scale': 128, 'amp_scale_window': None, 'user_dir': None, 'empty_cache_freq': 0, 'all_gather_list_size': 16384, 'model_parallel_size': 1, 'quantization_config_path': None, 'profile': False, 'reset_logging': False, 'suppress_crashes': False, 'use_plasma_view': False, 'plasma_path': '/tmp/plasma'}, 'common_eval': {'_name': None, 'path': 'checkpoints/checkpoint_best.pt', 'post_process': None, 'quiet': False, 'model_overrides': '{}', 'results_path': None}, 'distributed_training': {'_name': None, 'distributed_world_size': 1, 'distributed_num_procs': 1, 'distributed_rank': 0, 'distributed_backend': 'nccl', 'distributed_init_method': None, 'distributed_port': -1, 'device_id': 0, 'distributed_no_spawn': False, 'ddp_backend': 'pytorch_ddp', 'ddp_comm_hook': 'none', 'bucket_cap_mb': 25, 'fix_batches_to_gpus': False, 'find_unused_parameters': False, 'gradient_as_bucket_view': False, 'fast_stat_sync': False, 'heartbeat_timeout': -1, 'broadcast_buffers': False, 'slowmo_momentum': None, 'slowmo_base_algorithm': 'localsgd', 'localsgd_frequency': 3, 'nprocs_per_node': 1, 'pipeline_model_parallel': False, 'pipeline_balance': None, 'pipeline_devices': None, 'pipeline_chunks': 0, 'pipeline_encoder_balance': None, 'pipeline_encoder_devices': None, 'pipeline_decoder_balance': None, 'pipeline_decoder_devices': None, 'pipeline_checkpoint': 'never', 'zero_sharding': 'none', 'fp16': False, 'memory_efficient_fp16': False, 'tpu': False, 'no_reshard_after_forward': False, 'fp32_reduce_scatter': False, 'cpu_offload': False, 'use_sharded_state': False, 'not_fsdp_flatten_parameters': False}, 'dataset': {'_name': None, 'num_workers': 1, 'skip_invalid_size_inputs_valid_test': False, 'max_tokens': None, 'batch_size': 128, 'required_batch_size_multiple': 8, 'required_seq_len_multiple': 1, 'dataset_impl': None, 'data_buffer_size': 10, 'train_subset': 'train', 'valid_subset': 'valid', 'combine_valid_subsets': None, 'ignore_unused_valid_subsets': False, 'validate_interval': 1, 'validate_interval_updates': 0, 'validate_after_updates': 0, 'fixed_validation_seed': None, 'disable_validation': False, 'max_tokens_valid': None, 'batch_size_valid': 128, 'max_valid_steps': None, 'curriculum': 0, 'gen_subset': 'test', 'num_shards': 1, 'shard_id': 0, 'grouped_shuffling': False, 'update_epoch_batch_itr': False, 'update_ordered_indices_seed': False}, 'optimization': {'_name': None, 'max_epoch': 0, 'max_update': 0, 'stop_time_hours': 0.0, 'clip_norm': 0.0, 'sentence_avg': False, 'update_freq': [1], 'lr': [0.25], 'stop_min_lr': -1.0, 'use_bmuf': False, 'skip_remainder_batch': False}, 'checkpoint': {'_name': None, 'save_dir': 'checkpoints', 'restore_file': 'checkpoint_last.pt', 'continue_once': None, 'finetune_from_model': None, 'reset_dataloader': False, 'reset_lr_scheduler': False, 'reset_meters': False, 'reset_optimizer': False, 'optimizer_overrides': '{}', 'save_interval': 1, 'save_interval_updates': 0, 'keep_interval_updates': -1, 'keep_interval_updates_pattern': -1, 'keep_last_epochs': -1, 'keep_best_checkpoints': -1, 'no_save': False, 'no_epoch_checkpoints': False, 'no_last_checkpoints': False, 'no_save_optimizer_state': False, 'best_checkpoint_metric': 'loss', 'maximize_best_checkpoint_metric': False, 'patience': -1, 'checkpoint_suffix': '', 'checkpoint_shard_count': 1, 'load_checkpoint_on_all_dp_ranks': False, 'write_checkpoints_asynchronously': False, 'model_parallel_size': 1}, 'bmuf': {'_name': None, 'block_lr': 1.0, 'block_momentum': 0.875, 'global_sync_iter': 50, 'warmup_iterations': 500, 'use_nbm': False, 'average_sync': False, 'distributed_world_size': 1}, 'generation': {'_name': None, 'beam': 5, 'nbest': 1, 'max_len_a': 0.0, 'max_len_b': 200, 'min_len': 1, 'match_source_len': False, 'unnormalized': False, 'no_early_stop': False, 'no_beamable_mm': False, 'lenpen': 1.0, 'unkpen': 0.0, 'replace_unk': None, 'sacrebleu': False, 'score_reference': False, 'prefix_size': 0, 'no_repeat_ngram_size': 0, 'sampling': False, 'sampling_topk': -1, 'sampling_topp': -1.0, 'constraints': None, 'temperature': 1.0, 'diverse_beam_groups': -1, 'diverse_beam_strength': 0.5, 'diversity_rate': -1.0, 'print_alignment': None, 'print_step': False, 'lm_path': None, 'lm_weight': 0.0, 'iter_decode_eos_penalty': 0.0, 'iter_decode_max_iter': 10, 'iter_decode_force_max_iter': False, 'iter_decode_with_beam': 1, 'iter_decode_with_external_reranker': False, 'retain_iter_history': False, 'retain_dropout': False, 'retain_dropout_modules': None, 'decoding_format': None, 'no_seed_provided': False, 'eos_token': None}, 'eval_lm': {'_name': None, 'output_word_probs': False, 'output_word_stats': False, 'context_window': 0, 'softmax_batch': 9223372036854775807}, 'interactive': {'_name': None, 'buffer_size': 0, 'input': '-'}, 'model': {'_name': 'wav2vec2', 'extractor_mode': 'default', 'encoder_layers': 12, 'encoder_embed_dim': 768, 'encoder_ffn_embed_dim': 3072, 'encoder_attention_heads': 12, 'activation_fn': 'gelu', 'layer_type': 'transformer', 'dropout': 0.1, 'attention_dropout': 0.1, 'activation_dropout': 0.0, 'encoder_layerdrop': 0.0, 'dropout_input': 0.0, 'dropout_features': 0.0, 'final_dim': 0, 'layer_norm_first': False, 'conv_feature_layers': '[(512, 10, 5)] + [(512, 3, 2)] * 4 + [(512,2,2)] + [(512,2,2)]', 'conv_bias': False, 'logit_temp': 0.1, 'quantize_targets': False, 'quantize_input': False, 'same_quantizer': False, 'target_glu': False, 'feature_grad_mult': 1.0, 'quantizer_depth': 1, 'quantizer_factor': 3, 'latent_vars': 320, 'latent_groups': 2, 'latent_dim': 0, 'mask_length': 10, 'mask_prob': 0.65, 'mask_selection': 'static', 'mask_other': 0.0, 'no_mask_overlap': False, 'mask_min_space': 1, 'require_same_masks': True, 'mask_dropout': 0.0, 'mask_channel_length': 10, 'mask_channel_prob': 0.0, 'mask_channel_before': False, 'mask_channel_selection': 'static', 'mask_channel_other': 0.0, 'no_mask_channel_overlap': False, 'mask_channel_min_space': 1, 'num_negatives': 100, 'negatives_from_everywhere': False, 'cross_sample_negatives': 0, 'codebook_negatives': 0, 'conv_pos': 128, 'conv_pos_groups': 16, 'pos_conv_depth': 1, 'latent_temp': [2.0, 0.5, 0.999995], 'max_positions': 100000, 'checkpoint_activations': False, 'required_seq_len_multiple': 1, 'crop_seq_to_multiple': 1, 'depthwise_conv_kernel_size': 31, 'attn_type': '', 'pos_enc_type': 'abs', 'fp16': False}, 'task': {'_name': 'translation', 'data': 'data-bin/multi30k.tokenized.de-en', 'source_lang': None, 'target_lang': None, 'load_alignments': False, 'left_pad_source': True, 'left_pad_target': False, 'max_source_positions': 1024, 'max_target_positions': 1024, 'upsample_primary': -1, 'truncate_source': False, 'num_batch_buckets': 0, 'train_subset': 'train', 'dataset_impl': None, 'required_seq_len_multiple': 1, 'eval_bleu': False, 'eval_bleu_args': '{}', 'eval_bleu_detok': 'space', 'eval_bleu_detok_args': '{}', 'eval_tokenized_bleu': False, 'eval_bleu_remove_bpe': None, 'eval_bleu_print_samples': False}, 'criterion': {'_name': 'masked_lm', 'tpu': False}, 'optimizer': None, 'lr_scheduler': {'_name': 'fixed', 'force_anneal': None, 'lr_shrink': 0.1, 'warmup_updates': 0, 'lr': [0.25]}, 'scoring': {'_name': 'bleu', 'pad': 1, 'eos': 2, 'unk': 3}, 'bpe': None, 'tokenizer': None, 'ema': {'_name': None, 'store_ema': False, 'ema_decay': 0.9999, 'ema_start_update': 0, 'ema_seed_model': None, 'ema_update_freq': 1, 'ema_fp32': False}}\n",
            "2023-03-19 10:03:51 | INFO | fairseq.tasks.translation | [de] dictionary: 7864 types\n",
            "2023-03-19 10:03:51 | INFO | fairseq.tasks.translation | [en] dictionary: 5928 types\n",
            "2023-03-19 10:03:51 | INFO | fairseq_cli.generate | loading model(s) from checkpoints/checkpoint_best.pt\n",
            "2023-03-19 10:03:51 | INFO | fairseq.data.data_utils | loaded 1,071 examples from: data-bin/multi30k.tokenized.de-en/test.de-en.de\n",
            "2023-03-19 10:03:51 | INFO | fairseq.data.data_utils | loaded 1,071 examples from: data-bin/multi30k.tokenized.de-en/test.de-en.en\n",
            "2023-03-19 10:03:51 | INFO | fairseq.tasks.translation | data-bin/multi30k.tokenized.de-en test de-en 1071 examples\n",
            "Traceback (most recent call last):                                              \n",
            "  File \"/Users/venkatakrishnanvk/miniforge3/bin/fairseq-generate\", line 8, in <module>\n",
            "    sys.exit(cli_main())\n",
            "  File \"/Users/venkatakrishnanvk/miniforge3/lib/python3.10/site-packages/fairseq_cli/generate.py\", line 413, in cli_main\n",
            "    main(args)\n",
            "  File \"/Users/venkatakrishnanvk/miniforge3/lib/python3.10/site-packages/fairseq_cli/generate.py\", line 50, in main\n",
            "    return _main(cfg, sys.stdout)\n",
            "  File \"/Users/venkatakrishnanvk/miniforge3/lib/python3.10/site-packages/fairseq_cli/generate.py\", line 201, in _main\n",
            "    hypos = task.inference_step(\n",
            "  File \"/Users/venkatakrishnanvk/miniforge3/lib/python3.10/site-packages/fairseq/tasks/fairseq_task.py\", line 540, in inference_step\n",
            "    return generator.generate(\n",
            "  File \"/Users/venkatakrishnanvk/miniforge3/lib/python3.10/site-packages/torch/autograd/grad_mode.py\", line 27, in decorate_context\n",
            "    return func(*args, **kwargs)\n",
            "  File \"/Users/venkatakrishnanvk/miniforge3/lib/python3.10/site-packages/fairseq/sequence_generator.py\", line 204, in generate\n",
            "    return self._generate(sample, **kwargs)\n",
            "  File \"/Users/venkatakrishnanvk/miniforge3/lib/python3.10/site-packages/fairseq/sequence_generator.py\", line 274, in _generate\n",
            "    encoder_outs = self.model.forward_encoder(net_input)\n",
            "  File \"/Users/venkatakrishnanvk/miniforge3/lib/python3.10/site-packages/fairseq/sequence_generator.py\", line 801, in forward_encoder\n",
            "    return [model.encoder.forward_torchscript(net_input) for model in self.models]\n",
            "  File \"/Users/venkatakrishnanvk/miniforge3/lib/python3.10/site-packages/fairseq/sequence_generator.py\", line 801, in <listcomp>\n",
            "    return [model.encoder.forward_torchscript(net_input) for model in self.models]\n",
            "  File \"/Users/venkatakrishnanvk/miniforge3/lib/python3.10/site-packages/fairseq/models/fairseq_encoder.py\", line 55, in forward_torchscript\n",
            "    return self.forward_non_torchscript(net_input)\n",
            "  File \"/Users/venkatakrishnanvk/miniforge3/lib/python3.10/site-packages/fairseq/models/fairseq_encoder.py\", line 62, in forward_non_torchscript\n",
            "    return self.forward(**encoder_input)\n",
            "  File \"/Users/venkatakrishnanvk/miniforge3/lib/python3.10/site-packages/fairseq/models/transformer/transformer_encoder.py\", line 165, in forward\n",
            "    return self.forward_scriptable(\n",
            "  File \"/Users/venkatakrishnanvk/miniforge3/lib/python3.10/site-packages/fairseq/models/transformer/transformer_encoder.py\", line 294, in forward_scriptable\n",
            "    lr = layer(x, encoder_padding_mask=encoder_padding_mask_out)\n",
            "  File \"/Users/venkatakrishnanvk/miniforge3/lib/python3.10/site-packages/torch/nn/modules/module.py\", line 1194, in _call_impl\n",
            "    return forward_call(*input, **kwargs)\n",
            "  File \"/Users/venkatakrishnanvk/miniforge3/lib/python3.10/site-packages/fairseq/modules/transformer_layer.py\", line 319, in forward\n",
            "    output = torch._transformer_encoder_layer_fwd(\n",
            "RuntimeError: Mask Type should be defined\n"
          ]
        }
      ],
      "source": [
        "# ckpt_best, beam=5\n",
        "! fairseq-generate data-bin/multi30k.tokenized.de-en \\\n",
        "    --path checkpoints/checkpoint_best.pt \\\n",
        "    --batch-size 128 \\\n",
        "    --beam 5 \\\n",
        "    --seed 1 \\\n",
        "    --scoring bleu \\\n",
        "    --wandb-project \"Multi 30K En to De Translation\""
      ]
    },
    {
      "cell_type": "code",
      "execution_count": 12,
      "metadata": {
        "colab": {
          "base_uri": "https://localhost:8080/"
        },
        "id": "MiQGHRyGfSY9",
        "outputId": "530defff-c27f-476e-a5e5-45470f2b4b68"
      },
      "outputs": [
        {
          "name": "stdout",
          "output_type": "stream",
          "text": [
            "2023-03-19 10:06:12 | INFO | fairseq_cli.generate | {'_name': None, 'common': {'_name': None, 'no_progress_bar': False, 'log_interval': 100, 'log_format': None, 'log_file': None, 'aim_repo': None, 'aim_run_hash': None, 'tensorboard_logdir': None, 'wandb_project': 'Multi 30K En to De Translation', 'azureml_logging': False, 'seed': 1, 'cpu': False, 'tpu': False, 'bf16': False, 'memory_efficient_bf16': False, 'fp16': False, 'memory_efficient_fp16': False, 'fp16_no_flatten_grads': False, 'fp16_init_scale': 128, 'fp16_scale_window': None, 'fp16_scale_tolerance': 0.0, 'on_cpu_convert_precision': False, 'min_loss_scale': 0.0001, 'threshold_loss_scale': None, 'amp': False, 'amp_batch_retries': 2, 'amp_init_scale': 128, 'amp_scale_window': None, 'user_dir': None, 'empty_cache_freq': 0, 'all_gather_list_size': 16384, 'model_parallel_size': 1, 'quantization_config_path': None, 'profile': False, 'reset_logging': False, 'suppress_crashes': False, 'use_plasma_view': False, 'plasma_path': '/tmp/plasma'}, 'common_eval': {'_name': None, 'path': 'checkpoints/checkpoint_best.pt', 'post_process': None, 'quiet': True, 'model_overrides': '{}', 'results_path': None}, 'distributed_training': {'_name': None, 'distributed_world_size': 1, 'distributed_num_procs': 1, 'distributed_rank': 0, 'distributed_backend': 'nccl', 'distributed_init_method': None, 'distributed_port': -1, 'device_id': 0, 'distributed_no_spawn': False, 'ddp_backend': 'pytorch_ddp', 'ddp_comm_hook': 'none', 'bucket_cap_mb': 25, 'fix_batches_to_gpus': False, 'find_unused_parameters': False, 'gradient_as_bucket_view': False, 'fast_stat_sync': False, 'heartbeat_timeout': -1, 'broadcast_buffers': False, 'slowmo_momentum': None, 'slowmo_base_algorithm': 'localsgd', 'localsgd_frequency': 3, 'nprocs_per_node': 1, 'pipeline_model_parallel': False, 'pipeline_balance': None, 'pipeline_devices': None, 'pipeline_chunks': 0, 'pipeline_encoder_balance': None, 'pipeline_encoder_devices': None, 'pipeline_decoder_balance': None, 'pipeline_decoder_devices': None, 'pipeline_checkpoint': 'never', 'zero_sharding': 'none', 'fp16': False, 'memory_efficient_fp16': False, 'tpu': False, 'no_reshard_after_forward': False, 'fp32_reduce_scatter': False, 'cpu_offload': False, 'use_sharded_state': False, 'not_fsdp_flatten_parameters': False}, 'dataset': {'_name': None, 'num_workers': 1, 'skip_invalid_size_inputs_valid_test': False, 'max_tokens': None, 'batch_size': 128, 'required_batch_size_multiple': 8, 'required_seq_len_multiple': 1, 'dataset_impl': None, 'data_buffer_size': 10, 'train_subset': 'train', 'valid_subset': 'valid', 'combine_valid_subsets': None, 'ignore_unused_valid_subsets': False, 'validate_interval': 1, 'validate_interval_updates': 0, 'validate_after_updates': 0, 'fixed_validation_seed': None, 'disable_validation': False, 'max_tokens_valid': None, 'batch_size_valid': 128, 'max_valid_steps': None, 'curriculum': 0, 'gen_subset': 'test', 'num_shards': 1, 'shard_id': 0, 'grouped_shuffling': False, 'update_epoch_batch_itr': False, 'update_ordered_indices_seed': False}, 'optimization': {'_name': None, 'max_epoch': 0, 'max_update': 0, 'stop_time_hours': 0.0, 'clip_norm': 0.0, 'sentence_avg': False, 'update_freq': [1], 'lr': [0.25], 'stop_min_lr': -1.0, 'use_bmuf': False, 'skip_remainder_batch': False}, 'checkpoint': {'_name': None, 'save_dir': 'checkpoints', 'restore_file': 'checkpoint_last.pt', 'continue_once': None, 'finetune_from_model': None, 'reset_dataloader': False, 'reset_lr_scheduler': False, 'reset_meters': False, 'reset_optimizer': False, 'optimizer_overrides': '{}', 'save_interval': 1, 'save_interval_updates': 0, 'keep_interval_updates': -1, 'keep_interval_updates_pattern': -1, 'keep_last_epochs': -1, 'keep_best_checkpoints': -1, 'no_save': False, 'no_epoch_checkpoints': False, 'no_last_checkpoints': False, 'no_save_optimizer_state': False, 'best_checkpoint_metric': 'loss', 'maximize_best_checkpoint_metric': False, 'patience': -1, 'checkpoint_suffix': '', 'checkpoint_shard_count': 1, 'load_checkpoint_on_all_dp_ranks': False, 'write_checkpoints_asynchronously': False, 'model_parallel_size': 1}, 'bmuf': {'_name': None, 'block_lr': 1.0, 'block_momentum': 0.875, 'global_sync_iter': 50, 'warmup_iterations': 500, 'use_nbm': False, 'average_sync': False, 'distributed_world_size': 1}, 'generation': {'_name': None, 'beam': 10, 'nbest': 1, 'max_len_a': 0.0, 'max_len_b': 200, 'min_len': 1, 'match_source_len': False, 'unnormalized': False, 'no_early_stop': False, 'no_beamable_mm': False, 'lenpen': 1.0, 'unkpen': 0.0, 'replace_unk': None, 'sacrebleu': False, 'score_reference': False, 'prefix_size': 0, 'no_repeat_ngram_size': 0, 'sampling': False, 'sampling_topk': -1, 'sampling_topp': -1.0, 'constraints': None, 'temperature': 1.0, 'diverse_beam_groups': -1, 'diverse_beam_strength': 0.5, 'diversity_rate': -1.0, 'print_alignment': None, 'print_step': False, 'lm_path': None, 'lm_weight': 0.0, 'iter_decode_eos_penalty': 0.0, 'iter_decode_max_iter': 10, 'iter_decode_force_max_iter': False, 'iter_decode_with_beam': 1, 'iter_decode_with_external_reranker': False, 'retain_iter_history': False, 'retain_dropout': False, 'retain_dropout_modules': None, 'decoding_format': None, 'no_seed_provided': False, 'eos_token': None}, 'eval_lm': {'_name': None, 'output_word_probs': False, 'output_word_stats': False, 'context_window': 0, 'softmax_batch': 9223372036854775807}, 'interactive': {'_name': None, 'buffer_size': 0, 'input': '-'}, 'model': {'_name': 'wav2vec2', 'extractor_mode': 'default', 'encoder_layers': 12, 'encoder_embed_dim': 768, 'encoder_ffn_embed_dim': 3072, 'encoder_attention_heads': 12, 'activation_fn': 'gelu', 'layer_type': 'transformer', 'dropout': 0.1, 'attention_dropout': 0.1, 'activation_dropout': 0.0, 'encoder_layerdrop': 0.0, 'dropout_input': 0.0, 'dropout_features': 0.0, 'final_dim': 0, 'layer_norm_first': False, 'conv_feature_layers': '[(512, 10, 5)] + [(512, 3, 2)] * 4 + [(512,2,2)] + [(512,2,2)]', 'conv_bias': False, 'logit_temp': 0.1, 'quantize_targets': False, 'quantize_input': False, 'same_quantizer': False, 'target_glu': False, 'feature_grad_mult': 1.0, 'quantizer_depth': 1, 'quantizer_factor': 3, 'latent_vars': 320, 'latent_groups': 2, 'latent_dim': 0, 'mask_length': 10, 'mask_prob': 0.65, 'mask_selection': 'static', 'mask_other': 0.0, 'no_mask_overlap': False, 'mask_min_space': 1, 'require_same_masks': True, 'mask_dropout': 0.0, 'mask_channel_length': 10, 'mask_channel_prob': 0.0, 'mask_channel_before': False, 'mask_channel_selection': 'static', 'mask_channel_other': 0.0, 'no_mask_channel_overlap': False, 'mask_channel_min_space': 1, 'num_negatives': 100, 'negatives_from_everywhere': False, 'cross_sample_negatives': 0, 'codebook_negatives': 0, 'conv_pos': 128, 'conv_pos_groups': 16, 'pos_conv_depth': 1, 'latent_temp': [2.0, 0.5, 0.999995], 'max_positions': 100000, 'checkpoint_activations': False, 'required_seq_len_multiple': 1, 'crop_seq_to_multiple': 1, 'depthwise_conv_kernel_size': 31, 'attn_type': '', 'pos_enc_type': 'abs', 'fp16': False}, 'task': {'_name': 'translation', 'data': 'data-bin/multi30k.tokenized.de-en', 'source_lang': None, 'target_lang': None, 'load_alignments': False, 'left_pad_source': True, 'left_pad_target': False, 'max_source_positions': 1024, 'max_target_positions': 1024, 'upsample_primary': -1, 'truncate_source': False, 'num_batch_buckets': 0, 'train_subset': 'train', 'dataset_impl': None, 'required_seq_len_multiple': 1, 'eval_bleu': False, 'eval_bleu_args': '{}', 'eval_bleu_detok': 'space', 'eval_bleu_detok_args': '{}', 'eval_tokenized_bleu': False, 'eval_bleu_remove_bpe': None, 'eval_bleu_print_samples': False}, 'criterion': {'_name': 'cross_entropy', 'sentence_avg': True}, 'optimizer': None, 'lr_scheduler': {'_name': 'fixed', 'force_anneal': None, 'lr_shrink': 0.1, 'warmup_updates': 0, 'lr': [0.25]}, 'scoring': {'_name': 'bleu', 'pad': 1, 'eos': 2, 'unk': 3}, 'bpe': None, 'tokenizer': None, 'ema': {'_name': None, 'store_ema': False, 'ema_decay': 0.9999, 'ema_start_update': 0, 'ema_seed_model': None, 'ema_update_freq': 1, 'ema_fp32': False}}\n",
            "2023-03-19 10:06:12 | INFO | fairseq.tasks.translation | [de] dictionary: 7864 types\n",
            "2023-03-19 10:06:12 | INFO | fairseq.tasks.translation | [en] dictionary: 5928 types\n",
            "2023-03-19 10:06:12 | INFO | fairseq_cli.generate | loading model(s) from checkpoints/checkpoint_best.pt\n",
            "2023-03-19 10:06:13 | INFO | fairseq.data.data_utils | loaded 1,071 examples from: data-bin/multi30k.tokenized.de-en/test.de-en.de\n",
            "2023-03-19 10:06:13 | INFO | fairseq.data.data_utils | loaded 1,071 examples from: data-bin/multi30k.tokenized.de-en/test.de-en.en\n",
            "2023-03-19 10:06:13 | INFO | fairseq.tasks.translation | data-bin/multi30k.tokenized.de-en test de-en 1071 examples\n",
            "Traceback (most recent call last):                                              \n",
            "  File \"/Users/venkatakrishnanvk/miniforge3/bin/fairseq-generate\", line 8, in <module>\n",
            "    sys.exit(cli_main())\n",
            "  File \"/Users/venkatakrishnanvk/miniforge3/lib/python3.10/site-packages/fairseq_cli/generate.py\", line 413, in cli_main\n",
            "    main(args)\n",
            "  File \"/Users/venkatakrishnanvk/miniforge3/lib/python3.10/site-packages/fairseq_cli/generate.py\", line 50, in main\n",
            "    return _main(cfg, sys.stdout)\n",
            "  File \"/Users/venkatakrishnanvk/miniforge3/lib/python3.10/site-packages/fairseq_cli/generate.py\", line 201, in _main\n",
            "    hypos = task.inference_step(\n",
            "  File \"/Users/venkatakrishnanvk/miniforge3/lib/python3.10/site-packages/fairseq/tasks/fairseq_task.py\", line 540, in inference_step\n",
            "    return generator.generate(\n",
            "  File \"/Users/venkatakrishnanvk/miniforge3/lib/python3.10/site-packages/torch/autograd/grad_mode.py\", line 27, in decorate_context\n",
            "    return func(*args, **kwargs)\n",
            "  File \"/Users/venkatakrishnanvk/miniforge3/lib/python3.10/site-packages/fairseq/sequence_generator.py\", line 204, in generate\n",
            "    return self._generate(sample, **kwargs)\n",
            "  File \"/Users/venkatakrishnanvk/miniforge3/lib/python3.10/site-packages/fairseq/sequence_generator.py\", line 274, in _generate\n",
            "    encoder_outs = self.model.forward_encoder(net_input)\n",
            "  File \"/Users/venkatakrishnanvk/miniforge3/lib/python3.10/site-packages/fairseq/sequence_generator.py\", line 801, in forward_encoder\n",
            "    return [model.encoder.forward_torchscript(net_input) for model in self.models]\n",
            "  File \"/Users/venkatakrishnanvk/miniforge3/lib/python3.10/site-packages/fairseq/sequence_generator.py\", line 801, in <listcomp>\n",
            "    return [model.encoder.forward_torchscript(net_input) for model in self.models]\n",
            "  File \"/Users/venkatakrishnanvk/miniforge3/lib/python3.10/site-packages/fairseq/models/fairseq_encoder.py\", line 55, in forward_torchscript\n",
            "    return self.forward_non_torchscript(net_input)\n",
            "  File \"/Users/venkatakrishnanvk/miniforge3/lib/python3.10/site-packages/fairseq/models/fairseq_encoder.py\", line 62, in forward_non_torchscript\n",
            "    return self.forward(**encoder_input)\n",
            "  File \"/Users/venkatakrishnanvk/miniforge3/lib/python3.10/site-packages/fairseq/models/transformer/transformer_encoder.py\", line 165, in forward\n",
            "    return self.forward_scriptable(\n",
            "  File \"/Users/venkatakrishnanvk/miniforge3/lib/python3.10/site-packages/fairseq/models/transformer/transformer_encoder.py\", line 294, in forward_scriptable\n",
            "    lr = layer(x, encoder_padding_mask=encoder_padding_mask_out)\n",
            "  File \"/Users/venkatakrishnanvk/miniforge3/lib/python3.10/site-packages/torch/nn/modules/module.py\", line 1194, in _call_impl\n",
            "    return forward_call(*input, **kwargs)\n",
            "  File \"/Users/venkatakrishnanvk/miniforge3/lib/python3.10/site-packages/fairseq/modules/transformer_layer.py\", line 319, in forward\n",
            "    output = torch._transformer_encoder_layer_fwd(\n",
            "RuntimeError: Mask Type should be defined\n"
          ]
        }
      ],
      "source": [
        "# ckpt_best, beam=10\n",
        "! fairseq-generate data-bin/multi30k.tokenized.de-en \\\n",
        "    --path checkpoints/checkpoint_best.pt \\\n",
        "    --batch-size 128 \\\n",
        "    --beam 10 \\\n",
        "    --seed 1 \\\n",
        "    --scoring bleu \\\n",
        "    --quiet \\\n",
        "    --wandb-project \"Multi 30K En to De Translation\""
      ]
    },
    {
      "cell_type": "markdown",
      "metadata": {
        "id": "PIt8meXUGiYf"
      },
      "source": [
        "# Generate Average Checkpoint (Ensemble)"
      ]
    },
    {
      "cell_type": "code",
      "execution_count": null,
      "metadata": {
        "colab": {
          "base_uri": "https://localhost:8080/"
        },
        "id": "z_szOyTrh7dT",
        "outputId": "a10ea080-f51f-457f-f633-1deba40633ea"
      },
      "outputs": [
        {
          "name": "stdout",
          "output_type": "stream",
          "text": [
            "Namespace(checkpoint_upper_bound=None, inputs=['checkpoints'], num_epoch_checkpoints=5, num_update_checkpoints=None, output='checkpoints/averaged.pt')\n",
            "averaging checkpoints:  ['checkpoints/checkpoint10.pt', 'checkpoints/checkpoint9.pt', 'checkpoints/checkpoint8.pt', 'checkpoints/checkpoint7.pt', 'checkpoints/checkpoint6.pt']\n",
            "Finished writing averaged checkpoint to checkpoints/averaged.pt\n"
          ]
        }
      ],
      "source": [
        "! python fairseq/scripts/average_checkpoints.py --inputs checkpoints --num-epoch-checkpoints 5 --output checkpoints/averaged.pt"
      ]
    },
    {
      "cell_type": "code",
      "execution_count": null,
      "metadata": {
        "colab": {
          "base_uri": "https://localhost:8080/"
        },
        "id": "BXUrAzfDiMpo",
        "outputId": "9c2f23f1-c8a4-4309-f7f1-6d2029451629"
      },
      "outputs": [
        {
          "name": "stdout",
          "output_type": "stream",
          "text": [
            "2020-11-25 05:46:45 | INFO | fairseq_cli.generate | {'_name': None, 'common': {'_name': None, 'no_progress_bar': False, 'log_interval': 100, 'log_format': None, 'tensorboard_logdir': None, 'wandb_project': 'Multi 30K En to De Translation', 'seed': 1, 'cpu': False, 'tpu': False, 'bf16': False, 'memory_efficient_bf16': False, 'fp16': False, 'memory_efficient_fp16': False, 'fp16_no_flatten_grads': False, 'fp16_init_scale': 128, 'fp16_scale_window': None, 'fp16_scale_tolerance': 0.0, 'min_loss_scale': 0.0001, 'threshold_loss_scale': None, 'user_dir': None, 'empty_cache_freq': 0, 'all_gather_list_size': 16384, 'model_parallel_size': 1, 'quantization_config_path': None, 'profile': False, 'reset_logging': True}, 'common_eval': {'_name': None, 'path': 'checkpoints/averaged.pt', 'post_process': None, 'quiet': True, 'model_overrides': '{}', 'results_path': None}, 'distributed_training': {'_name': None, 'distributed_world_size': 1, 'distributed_rank': 0, 'distributed_backend': 'nccl', 'distributed_init_method': None, 'distributed_port': -1, 'device_id': 0, 'distributed_no_spawn': False, 'ddp_backend': 'c10d', 'bucket_cap_mb': 25, 'fix_batches_to_gpus': False, 'find_unused_parameters': False, 'fast_stat_sync': False, 'broadcast_buffers': False, 'distributed_wrapper': 'DDP', 'slowmo_momentum': None, 'slowmo_algorithm': 'LocalSGD', 'localsgd_frequency': 3, 'nprocs_per_node': 1, 'pipeline_model_parallel': False, 'pipeline_balance': None, 'pipeline_devices': None, 'pipeline_chunks': 0, 'pipeline_encoder_balance': None, 'pipeline_encoder_devices': None, 'pipeline_decoder_balance': None, 'pipeline_decoder_devices': None, 'pipeline_checkpoint': 'never', 'zero_sharding': 'none', 'tpu': False}, 'dataset': {'_name': None, 'num_workers': 1, 'skip_invalid_size_inputs_valid_test': False, 'max_tokens': None, 'batch_size': 128, 'required_batch_size_multiple': 8, 'required_seq_len_multiple': 1, 'dataset_impl': None, 'data_buffer_size': 10, 'train_subset': 'train', 'valid_subset': 'valid', 'validate_interval': 1, 'validate_interval_updates': 0, 'validate_after_updates': 0, 'fixed_validation_seed': None, 'disable_validation': False, 'max_tokens_valid': None, 'batch_size_valid': 128, 'curriculum': 0, 'gen_subset': 'test', 'num_shards': 1, 'shard_id': 0}, 'optimization': {'_name': None, 'max_epoch': 0, 'max_update': 0, 'stop_time_hours': 0.0, 'clip_norm': 0.0, 'sentence_avg': False, 'update_freq': [1], 'lr': [0.25], 'min_lr': -1.0, 'use_bmuf': False}, 'checkpoint': {'_name': None, 'save_dir': 'checkpoints', 'restore_file': 'checkpoint_last.pt', 'finetune_from_model': None, 'reset_dataloader': False, 'reset_lr_scheduler': False, 'reset_meters': False, 'reset_optimizer': False, 'optimizer_overrides': '{}', 'save_interval': 1, 'save_interval_updates': 0, 'keep_interval_updates': -1, 'keep_last_epochs': -1, 'keep_best_checkpoints': -1, 'no_save': False, 'no_epoch_checkpoints': False, 'no_last_checkpoints': False, 'no_save_optimizer_state': False, 'best_checkpoint_metric': 'loss', 'maximize_best_checkpoint_metric': False, 'patience': -1, 'checkpoint_suffix': '', 'checkpoint_shard_count': 1, 'model_parallel_size': 1, 'distributed_rank': 0}, 'bmuf': {'_name': None, 'block_lr': 1.0, 'block_momentum': 0.875, 'global_sync_iter': 50, 'warmup_iterations': 500, 'use_nbm': False, 'average_sync': False, 'distributed_world_size': 1}, 'generation': {'_name': None, 'beam': 5, 'nbest': 1, 'max_len_a': 0.0, 'max_len_b': 200, 'min_len': 1, 'match_source_len': False, 'unnormalized': False, 'no_early_stop': False, 'no_beamable_mm': False, 'lenpen': 1.0, 'unkpen': 0.0, 'replace_unk': None, 'sacrebleu': False, 'score_reference': False, 'prefix_size': 0, 'no_repeat_ngram_size': 0, 'sampling': False, 'sampling_topk': -1, 'sampling_topp': -1.0, 'constraints': None, 'temperature': 1.0, 'diverse_beam_groups': -1, 'diverse_beam_strength': 0.5, 'diversity_rate': -1.0, 'print_alignment': False, 'print_step': False, 'lm_path': None, 'lm_weight': 0.0, 'iter_decode_eos_penalty': 0.0, 'iter_decode_max_iter': 10, 'iter_decode_force_max_iter': False, 'iter_decode_with_beam': 1, 'iter_decode_with_external_reranker': False, 'retain_iter_history': False, 'retain_dropout': False, 'retain_dropout_modules': None, 'decoding_format': None, 'no_seed_provided': False}, 'eval_lm': {'_name': None, 'output_word_probs': False, 'output_word_stats': False, 'context_window': 0, 'softmax_batch': 9223372036854775807}, 'interactive': {'_name': None, 'buffer_size': 0, 'input': '-'}, 'model': None, 'task': Namespace(_name='translation', all_gather_list_size=16384, batch_size=128, batch_size_valid=128, beam=5, best_checkpoint_metric='loss', bf16=False, bpe=None, broadcast_buffers=False, bucket_cap_mb=25, checkpoint_shard_count=1, checkpoint_suffix='', constraints=None, cpu=False, criterion='cross_entropy', curriculum=0, data='data-bin/multi30k.tokenized.de-en', data_buffer_size=10, dataset_impl=None, ddp_backend='c10d', decoding_format=None, device_id=0, disable_validation=False, distributed_backend='nccl', distributed_init_method=None, distributed_no_spawn=False, distributed_port=-1, distributed_rank=0, distributed_world_size=1, distributed_wrapper='DDP', diverse_beam_groups=-1, diverse_beam_strength=0.5, diversity_rate=-1.0, empty_cache_freq=0, eos=2, eval_bleu=False, eval_bleu_args=None, eval_bleu_detok='space', eval_bleu_detok_args=None, eval_bleu_print_samples=False, eval_bleu_remove_bpe=None, eval_tokenized_bleu=False, fast_stat_sync=False, find_unused_parameters=False, finetune_from_model=None, fix_batches_to_gpus=False, fixed_validation_seed=None, force_anneal=None, fp16=False, fp16_init_scale=128, fp16_no_flatten_grads=False, fp16_scale_tolerance=0.0, fp16_scale_window=None, gen_subset='test', iter_decode_eos_penalty=0.0, iter_decode_force_max_iter=False, iter_decode_max_iter=10, iter_decode_with_beam=1, iter_decode_with_external_reranker=False, keep_best_checkpoints=-1, keep_interval_updates=-1, keep_last_epochs=-1, left_pad_source='True', left_pad_target='False', lenpen=1, lm_path=None, lm_weight=0.0, load_alignments=False, localsgd_frequency=3, log_format=None, log_interval=100, lr_scheduler='fixed', lr_shrink=0.1, match_source_len=False, max_len_a=0, max_len_b=200, max_source_positions=1024, max_target_positions=1024, max_tokens=None, max_tokens_valid=None, maximize_best_checkpoint_metric=False, memory_efficient_bf16=False, memory_efficient_fp16=False, min_len=1, min_loss_scale=0.0001, model_overrides='{}', model_parallel_size=1, nbest=1, no_beamable_mm=False, no_early_stop=False, no_epoch_checkpoints=False, no_last_checkpoints=False, no_progress_bar=False, no_repeat_ngram_size=0, no_save=False, no_save_optimizer_state=False, no_seed_provided=False, nprocs_per_node=1, num_batch_buckets=0, num_shards=1, num_workers=1, optimizer=None, optimizer_overrides='{}', pad=1, path='checkpoints/averaged.pt', patience=-1, pipeline_balance=None, pipeline_checkpoint='never', pipeline_chunks=0, pipeline_decoder_balance=None, pipeline_decoder_devices=None, pipeline_devices=None, pipeline_encoder_balance=None, pipeline_encoder_devices=None, pipeline_model_parallel=False, post_process=None, prefix_size=0, print_alignment=False, print_step=False, profile=False, quantization_config_path=None, quiet=True, replace_unk=None, required_batch_size_multiple=8, required_seq_len_multiple=1, reset_dataloader=False, reset_logging=True, reset_lr_scheduler=False, reset_meters=False, reset_optimizer=False, restore_file='checkpoint_last.pt', results_path=None, retain_dropout=False, retain_dropout_modules=None, retain_iter_history=False, sacrebleu=False, sampling=False, sampling_topk=-1, sampling_topp=-1.0, save_dir='checkpoints', save_interval=1, save_interval_updates=0, score_reference=False, scoring='bleu', seed=1, shard_id=0, skip_invalid_size_inputs_valid_test=False, slowmo_algorithm='LocalSGD', slowmo_momentum=None, source_lang=None, target_lang=None, task='translation', temperature=1.0, tensorboard_logdir=None, threshold_loss_scale=None, tokenizer=None, tpu=False, train_subset='train', truncate_source=False, unk=3, unkpen=0, unnormalized=False, upsample_primary=1, user_dir=None, valid_subset='valid', validate_after_updates=0, validate_interval=1, validate_interval_updates=0, wandb_project='Multi 30K En to De Translation', warmup_updates=0, zero_sharding='none'), 'criterion': {'_name': 'cross_entropy', 'sentence_avg': False}, 'optimizer': None, 'lr_scheduler': {'_name': 'fixed', 'force_anneal': None, 'lr_shrink': 0.1, 'warmup_updates': 0, 'lr': [0.25]}, 'scoring': {'_name': 'bleu', 'pad': 1, 'eos': 2, 'unk': 3}, 'bpe': None, 'tokenizer': None}\n",
            "2020-11-25 05:46:45 | INFO | fairseq.tasks.translation | [de] dictionary: 7864 types\n",
            "2020-11-25 05:46:45 | INFO | fairseq.tasks.translation | [en] dictionary: 5928 types\n",
            "2020-11-25 05:46:45 | INFO | fairseq_cli.generate | loading model(s) from checkpoints/averaged.pt\n",
            "2020-11-25 05:46:45 | INFO | fairseq.data.data_utils | loaded 1071 examples from: data-bin/multi30k.tokenized.de-en/test.de-en.de\n",
            "2020-11-25 05:46:45 | INFO | fairseq.data.data_utils | loaded 1071 examples from: data-bin/multi30k.tokenized.de-en/test.de-en.en\n",
            "2020-11-25 05:46:45 | INFO | fairseq.tasks.translation | data-bin/multi30k.tokenized.de-en test de-en 1071 examples\n",
            "2020-11-25 05:46:55 | INFO | fairseq_cli.generate | NOTE: hypothesis and token scores are output in base 2\n",
            "2020-11-25 05:46:55 | INFO | fairseq_cli.generate | Translated 1071 sentences (14637 tokens) in 2.7s (390.48 sentences/s, 5336.59 tokens/s)\n",
            "Generate test with beam=5: BLEU4 = 26.70, 65.0/37.1/21.9/13.4 (BP=0.920, ratio=0.923, syslen=13566, reflen=14697)\n",
            "2020-11-25 05:46:55 | INFO | wandb.sdk.internal.internal | Internal process exited\n"
          ]
        }
      ],
      "source": [
        "# ckpt_avg, beam=5\n",
        "! fairseq-generate data-bin/multi30k.tokenized.de-en \\\n",
        "    --path checkpoints/averaged.pt \\\n",
        "    --batch-size 128 \\\n",
        "    --beam 5 \\\n",
        "    --seed 1 \\\n",
        "    --scoring bleu \\\n",
        "    --quiet \\\n",
        "    --wandb-project \"Multi 30K En to De Translation\""
      ]
    },
    {
      "cell_type": "code",
      "execution_count": null,
      "metadata": {
        "colab": {
          "base_uri": "https://localhost:8080/"
        },
        "id": "FxUH5NcvDYAb",
        "outputId": "acc9ebeb-53ac-47f7-eed3-f0f415e92093"
      },
      "outputs": [
        {
          "name": "stdout",
          "output_type": "stream",
          "text": [
            "2020-11-25 06:18:29 | INFO | fairseq_cli.generate | {'_name': None, 'common': {'_name': None, 'no_progress_bar': False, 'log_interval': 100, 'log_format': None, 'tensorboard_logdir': None, 'wandb_project': 'Multi 30K En to De Translation', 'seed': 1, 'cpu': False, 'tpu': False, 'bf16': False, 'memory_efficient_bf16': False, 'fp16': False, 'memory_efficient_fp16': False, 'fp16_no_flatten_grads': False, 'fp16_init_scale': 128, 'fp16_scale_window': None, 'fp16_scale_tolerance': 0.0, 'min_loss_scale': 0.0001, 'threshold_loss_scale': None, 'user_dir': None, 'empty_cache_freq': 0, 'all_gather_list_size': 16384, 'model_parallel_size': 1, 'quantization_config_path': None, 'profile': False, 'reset_logging': True}, 'common_eval': {'_name': None, 'path': 'checkpoints/averaged.pt', 'post_process': None, 'quiet': True, 'model_overrides': '{}', 'results_path': None}, 'distributed_training': {'_name': None, 'distributed_world_size': 1, 'distributed_rank': 0, 'distributed_backend': 'nccl', 'distributed_init_method': None, 'distributed_port': -1, 'device_id': 0, 'distributed_no_spawn': False, 'ddp_backend': 'c10d', 'bucket_cap_mb': 25, 'fix_batches_to_gpus': False, 'find_unused_parameters': False, 'fast_stat_sync': False, 'broadcast_buffers': False, 'distributed_wrapper': 'DDP', 'slowmo_momentum': None, 'slowmo_algorithm': 'LocalSGD', 'localsgd_frequency': 3, 'nprocs_per_node': 1, 'pipeline_model_parallel': False, 'pipeline_balance': None, 'pipeline_devices': None, 'pipeline_chunks': 0, 'pipeline_encoder_balance': None, 'pipeline_encoder_devices': None, 'pipeline_decoder_balance': None, 'pipeline_decoder_devices': None, 'pipeline_checkpoint': 'never', 'zero_sharding': 'none', 'tpu': False}, 'dataset': {'_name': None, 'num_workers': 1, 'skip_invalid_size_inputs_valid_test': False, 'max_tokens': None, 'batch_size': 128, 'required_batch_size_multiple': 8, 'required_seq_len_multiple': 1, 'dataset_impl': None, 'data_buffer_size': 10, 'train_subset': 'train', 'valid_subset': 'valid', 'validate_interval': 1, 'validate_interval_updates': 0, 'validate_after_updates': 0, 'fixed_validation_seed': None, 'disable_validation': False, 'max_tokens_valid': None, 'batch_size_valid': 128, 'curriculum': 0, 'gen_subset': 'test', 'num_shards': 1, 'shard_id': 0}, 'optimization': {'_name': None, 'max_epoch': 0, 'max_update': 0, 'stop_time_hours': 0.0, 'clip_norm': 0.0, 'sentence_avg': False, 'update_freq': [1], 'lr': [0.25], 'min_lr': -1.0, 'use_bmuf': False}, 'checkpoint': {'_name': None, 'save_dir': 'checkpoints', 'restore_file': 'checkpoint_last.pt', 'finetune_from_model': None, 'reset_dataloader': False, 'reset_lr_scheduler': False, 'reset_meters': False, 'reset_optimizer': False, 'optimizer_overrides': '{}', 'save_interval': 1, 'save_interval_updates': 0, 'keep_interval_updates': -1, 'keep_last_epochs': -1, 'keep_best_checkpoints': -1, 'no_save': False, 'no_epoch_checkpoints': False, 'no_last_checkpoints': False, 'no_save_optimizer_state': False, 'best_checkpoint_metric': 'loss', 'maximize_best_checkpoint_metric': False, 'patience': -1, 'checkpoint_suffix': '', 'checkpoint_shard_count': 1, 'model_parallel_size': 1, 'distributed_rank': 0}, 'bmuf': {'_name': None, 'block_lr': 1.0, 'block_momentum': 0.875, 'global_sync_iter': 50, 'warmup_iterations': 500, 'use_nbm': False, 'average_sync': False, 'distributed_world_size': 1}, 'generation': {'_name': None, 'beam': 10, 'nbest': 1, 'max_len_a': 0.0, 'max_len_b': 200, 'min_len': 1, 'match_source_len': False, 'unnormalized': False, 'no_early_stop': False, 'no_beamable_mm': False, 'lenpen': 1.0, 'unkpen': 0.0, 'replace_unk': None, 'sacrebleu': False, 'score_reference': False, 'prefix_size': 0, 'no_repeat_ngram_size': 0, 'sampling': False, 'sampling_topk': -1, 'sampling_topp': -1.0, 'constraints': None, 'temperature': 1.0, 'diverse_beam_groups': -1, 'diverse_beam_strength': 0.5, 'diversity_rate': -1.0, 'print_alignment': False, 'print_step': False, 'lm_path': None, 'lm_weight': 0.0, 'iter_decode_eos_penalty': 0.0, 'iter_decode_max_iter': 10, 'iter_decode_force_max_iter': False, 'iter_decode_with_beam': 1, 'iter_decode_with_external_reranker': False, 'retain_iter_history': False, 'retain_dropout': False, 'retain_dropout_modules': None, 'decoding_format': None, 'no_seed_provided': False}, 'eval_lm': {'_name': None, 'output_word_probs': False, 'output_word_stats': False, 'context_window': 0, 'softmax_batch': 9223372036854775807}, 'interactive': {'_name': None, 'buffer_size': 0, 'input': '-'}, 'model': None, 'task': Namespace(_name='translation', all_gather_list_size=16384, batch_size=128, batch_size_valid=128, beam=10, best_checkpoint_metric='loss', bf16=False, bpe=None, broadcast_buffers=False, bucket_cap_mb=25, checkpoint_shard_count=1, checkpoint_suffix='', constraints=None, cpu=False, criterion='cross_entropy', curriculum=0, data='data-bin/multi30k.tokenized.de-en', data_buffer_size=10, dataset_impl=None, ddp_backend='c10d', decoding_format=None, device_id=0, disable_validation=False, distributed_backend='nccl', distributed_init_method=None, distributed_no_spawn=False, distributed_port=-1, distributed_rank=0, distributed_world_size=1, distributed_wrapper='DDP', diverse_beam_groups=-1, diverse_beam_strength=0.5, diversity_rate=-1.0, empty_cache_freq=0, eos=2, eval_bleu=False, eval_bleu_args=None, eval_bleu_detok='space', eval_bleu_detok_args=None, eval_bleu_print_samples=False, eval_bleu_remove_bpe=None, eval_tokenized_bleu=False, fast_stat_sync=False, find_unused_parameters=False, finetune_from_model=None, fix_batches_to_gpus=False, fixed_validation_seed=None, force_anneal=None, fp16=False, fp16_init_scale=128, fp16_no_flatten_grads=False, fp16_scale_tolerance=0.0, fp16_scale_window=None, gen_subset='test', iter_decode_eos_penalty=0.0, iter_decode_force_max_iter=False, iter_decode_max_iter=10, iter_decode_with_beam=1, iter_decode_with_external_reranker=False, keep_best_checkpoints=-1, keep_interval_updates=-1, keep_last_epochs=-1, left_pad_source='True', left_pad_target='False', lenpen=1, lm_path=None, lm_weight=0.0, load_alignments=False, localsgd_frequency=3, log_format=None, log_interval=100, lr_scheduler='fixed', lr_shrink=0.1, match_source_len=False, max_len_a=0, max_len_b=200, max_source_positions=1024, max_target_positions=1024, max_tokens=None, max_tokens_valid=None, maximize_best_checkpoint_metric=False, memory_efficient_bf16=False, memory_efficient_fp16=False, min_len=1, min_loss_scale=0.0001, model_overrides='{}', model_parallel_size=1, nbest=1, no_beamable_mm=False, no_early_stop=False, no_epoch_checkpoints=False, no_last_checkpoints=False, no_progress_bar=False, no_repeat_ngram_size=0, no_save=False, no_save_optimizer_state=False, no_seed_provided=False, nprocs_per_node=1, num_batch_buckets=0, num_shards=1, num_workers=1, optimizer=None, optimizer_overrides='{}', pad=1, path='checkpoints/averaged.pt', patience=-1, pipeline_balance=None, pipeline_checkpoint='never', pipeline_chunks=0, pipeline_decoder_balance=None, pipeline_decoder_devices=None, pipeline_devices=None, pipeline_encoder_balance=None, pipeline_encoder_devices=None, pipeline_model_parallel=False, post_process=None, prefix_size=0, print_alignment=False, print_step=False, profile=False, quantization_config_path=None, quiet=True, replace_unk=None, required_batch_size_multiple=8, required_seq_len_multiple=1, reset_dataloader=False, reset_logging=True, reset_lr_scheduler=False, reset_meters=False, reset_optimizer=False, restore_file='checkpoint_last.pt', results_path=None, retain_dropout=False, retain_dropout_modules=None, retain_iter_history=False, sacrebleu=False, sampling=False, sampling_topk=-1, sampling_topp=-1.0, save_dir='checkpoints', save_interval=1, save_interval_updates=0, score_reference=False, scoring='bleu', seed=1, shard_id=0, skip_invalid_size_inputs_valid_test=False, slowmo_algorithm='LocalSGD', slowmo_momentum=None, source_lang=None, target_lang=None, task='translation', temperature=1.0, tensorboard_logdir=None, threshold_loss_scale=None, tokenizer=None, tpu=False, train_subset='train', truncate_source=False, unk=3, unkpen=0, unnormalized=False, upsample_primary=1, user_dir=None, valid_subset='valid', validate_after_updates=0, validate_interval=1, validate_interval_updates=0, wandb_project='Multi 30K En to De Translation', warmup_updates=0, zero_sharding='none'), 'criterion': {'_name': 'cross_entropy', 'sentence_avg': False}, 'optimizer': None, 'lr_scheduler': {'_name': 'fixed', 'force_anneal': None, 'lr_shrink': 0.1, 'warmup_updates': 0, 'lr': [0.25]}, 'scoring': {'_name': 'bleu', 'pad': 1, 'eos': 2, 'unk': 3}, 'bpe': None, 'tokenizer': None}\n",
            "2020-11-25 06:18:29 | INFO | fairseq.tasks.translation | [de] dictionary: 7864 types\n",
            "2020-11-25 06:18:29 | INFO | fairseq.tasks.translation | [en] dictionary: 5928 types\n",
            "2020-11-25 06:18:29 | INFO | fairseq_cli.generate | loading model(s) from checkpoints/averaged.pt\n",
            "2020-11-25 06:18:29 | INFO | fairseq.data.data_utils | loaded 1071 examples from: data-bin/multi30k.tokenized.de-en/test.de-en.de\n",
            "2020-11-25 06:18:29 | INFO | fairseq.data.data_utils | loaded 1071 examples from: data-bin/multi30k.tokenized.de-en/test.de-en.en\n",
            "2020-11-25 06:18:29 | INFO | fairseq.tasks.translation | data-bin/multi30k.tokenized.de-en test de-en 1071 examples\n",
            "2020-11-25 06:18:40 | INFO | fairseq_cli.generate | NOTE: hypothesis and token scores are output in base 2\n",
            "2020-11-25 06:18:40 | INFO | fairseq_cli.generate | Translated 1071 sentences (14502 tokens) in 4.1s (259.46 sentences/s, 3513.29 tokens/s)\n",
            "Generate test with beam=10: BLEU4 = 26.93, 65.5/37.6/22.4/13.9 (BP=0.910, ratio=0.914, syslen=13431, reflen=14697)\n",
            "2020-11-25 06:18:40 | INFO | wandb.sdk.internal.internal | Internal process exited\n"
          ]
        }
      ],
      "source": [
        "# ckpt_avg, beam=10\n",
        "! fairseq-generate data-bin/multi30k.tokenized.de-en \\\n",
        "    --path checkpoints/averaged.pt \\\n",
        "    --batch-size 128 \\\n",
        "    --beam 10 \\\n",
        "    --seed 1 \\\n",
        "    --scoring bleu \\\n",
        "    --quiet \\\n",
        "    --wandb-project \"Multi 30K En to De Translation\""
      ]
    },
    {
      "cell_type": "markdown",
      "metadata": {
        "id": "F12YaRWtHSkQ"
      },
      "source": [
        "# Export the model"
      ]
    },
    {
      "cell_type": "code",
      "execution_count": null,
      "metadata": {
        "id": "opOQi-zmip5y"
      },
      "outputs": [],
      "source": [
        "! mkdir -p trained_model\n",
        "! cp data-bin/multi30k.tokenized.de-en/dict.de.txt trained_model/dict.de.txt\n",
        "! cp data-bin/multi30k.tokenized.de-en/dict.en.txt trained_model/dict.en.txt\n",
        "! cp checkpoints/averaged.pt trained_model/model.pt"
      ]
    },
    {
      "cell_type": "code",
      "execution_count": null,
      "metadata": {
        "colab": {
          "base_uri": "https://localhost:8080/"
        },
        "id": "Z2DDlFlTkwnf",
        "outputId": "f6420b7d-d62d-4dcf-9dff-20b2b4279e62"
      },
      "outputs": [
        {
          "name": "stdout",
          "output_type": "stream",
          "text": [
            "2020-11-25 05:50:00 | INFO | fairseq_cli.interactive | {'_name': None, 'common': {'_name': None, 'no_progress_bar': False, 'log_interval': 100, 'log_format': None, 'tensorboard_logdir': None, 'wandb_project': None, 'seed': 1, 'cpu': True, 'tpu': False, 'bf16': False, 'memory_efficient_bf16': False, 'fp16': False, 'memory_efficient_fp16': False, 'fp16_no_flatten_grads': False, 'fp16_init_scale': 128, 'fp16_scale_window': None, 'fp16_scale_tolerance': 0.0, 'min_loss_scale': 0.0001, 'threshold_loss_scale': None, 'user_dir': None, 'empty_cache_freq': 0, 'all_gather_list_size': 16384, 'model_parallel_size': 1, 'quantization_config_path': None, 'profile': False, 'reset_logging': True}, 'common_eval': {'_name': None, 'path': 'trained_model/model.pt', 'post_process': None, 'quiet': False, 'model_overrides': '{}', 'results_path': None}, 'distributed_training': {'_name': None, 'distributed_world_size': 1, 'distributed_rank': 0, 'distributed_backend': 'nccl', 'distributed_init_method': None, 'distributed_port': -1, 'device_id': 0, 'distributed_no_spawn': False, 'ddp_backend': 'c10d', 'bucket_cap_mb': 25, 'fix_batches_to_gpus': False, 'find_unused_parameters': False, 'fast_stat_sync': False, 'broadcast_buffers': False, 'distributed_wrapper': 'DDP', 'slowmo_momentum': None, 'slowmo_algorithm': 'LocalSGD', 'localsgd_frequency': 3, 'nprocs_per_node': 1, 'pipeline_model_parallel': False, 'pipeline_balance': None, 'pipeline_devices': None, 'pipeline_chunks': 0, 'pipeline_encoder_balance': None, 'pipeline_encoder_devices': None, 'pipeline_decoder_balance': None, 'pipeline_decoder_devices': None, 'pipeline_checkpoint': 'never', 'zero_sharding': 'none', 'tpu': False, 'distributed_num_procs': 1}, 'dataset': {'_name': None, 'num_workers': 1, 'skip_invalid_size_inputs_valid_test': False, 'max_tokens': None, 'batch_size': 1, 'required_batch_size_multiple': 8, 'required_seq_len_multiple': 1, 'dataset_impl': None, 'data_buffer_size': 10, 'train_subset': 'train', 'valid_subset': 'valid', 'validate_interval': 1, 'validate_interval_updates': 0, 'validate_after_updates': 0, 'fixed_validation_seed': None, 'disable_validation': False, 'max_tokens_valid': None, 'batch_size_valid': None, 'curriculum': 0, 'gen_subset': 'test', 'num_shards': 1, 'shard_id': 0}, 'optimization': {'_name': None, 'max_epoch': 0, 'max_update': 0, 'stop_time_hours': 0.0, 'clip_norm': 0.0, 'sentence_avg': False, 'update_freq': [1], 'lr': [0.25], 'min_lr': -1.0, 'use_bmuf': False}, 'checkpoint': {'_name': None, 'save_dir': 'checkpoints', 'restore_file': 'checkpoint_last.pt', 'finetune_from_model': None, 'reset_dataloader': False, 'reset_lr_scheduler': False, 'reset_meters': False, 'reset_optimizer': False, 'optimizer_overrides': '{}', 'save_interval': 1, 'save_interval_updates': 0, 'keep_interval_updates': -1, 'keep_last_epochs': -1, 'keep_best_checkpoints': -1, 'no_save': False, 'no_epoch_checkpoints': False, 'no_last_checkpoints': False, 'no_save_optimizer_state': False, 'best_checkpoint_metric': 'loss', 'maximize_best_checkpoint_metric': False, 'patience': -1, 'checkpoint_suffix': '', 'checkpoint_shard_count': 1, 'model_parallel_size': 1, 'distributed_rank': 0}, 'bmuf': {'_name': None, 'block_lr': 1.0, 'block_momentum': 0.875, 'global_sync_iter': 50, 'warmup_iterations': 500, 'use_nbm': False, 'average_sync': False, 'distributed_world_size': 1}, 'generation': {'_name': None, 'beam': 5, 'nbest': 1, 'max_len_a': 0.0, 'max_len_b': 200, 'min_len': 1, 'match_source_len': False, 'unnormalized': False, 'no_early_stop': False, 'no_beamable_mm': False, 'lenpen': 1.0, 'unkpen': 0.0, 'replace_unk': None, 'sacrebleu': False, 'score_reference': False, 'prefix_size': 0, 'no_repeat_ngram_size': 0, 'sampling': False, 'sampling_topk': -1, 'sampling_topp': -1.0, 'constraints': None, 'temperature': 1.0, 'diverse_beam_groups': -1, 'diverse_beam_strength': 0.5, 'diversity_rate': -1.0, 'print_alignment': False, 'print_step': False, 'lm_path': None, 'lm_weight': 0.0, 'iter_decode_eos_penalty': 0.0, 'iter_decode_max_iter': 10, 'iter_decode_force_max_iter': False, 'iter_decode_with_beam': 1, 'iter_decode_with_external_reranker': False, 'retain_iter_history': False, 'retain_dropout': False, 'retain_dropout_modules': None, 'decoding_format': None, 'no_seed_provided': False}, 'eval_lm': {'_name': None, 'output_word_probs': False, 'output_word_stats': False, 'context_window': 0, 'softmax_batch': 9223372036854775807}, 'interactive': {'_name': None, 'buffer_size': 1, 'input': '-'}, 'model': None, 'task': Namespace(_name='translation', all_gather_list_size=16384, batch_size=None, batch_size_valid=None, beam=5, best_checkpoint_metric='loss', bf16=False, bpe=None, broadcast_buffers=False, bucket_cap_mb=25, buffer_size=0, checkpoint_shard_count=1, checkpoint_suffix='', constraints=None, cpu=True, criterion='cross_entropy', curriculum=0, data='trained_model/', data_buffer_size=10, dataset_impl=None, ddp_backend='c10d', decoding_format=None, device_id=0, disable_validation=False, distributed_backend='nccl', distributed_init_method=None, distributed_no_spawn=False, distributed_port=-1, distributed_rank=0, distributed_world_size=1, distributed_wrapper='DDP', diverse_beam_groups=-1, diverse_beam_strength=0.5, diversity_rate=-1.0, empty_cache_freq=0, eos=2, eval_bleu=False, eval_bleu_args=None, eval_bleu_detok='space', eval_bleu_detok_args=None, eval_bleu_print_samples=False, eval_bleu_remove_bpe=None, eval_tokenized_bleu=False, fast_stat_sync=False, find_unused_parameters=False, finetune_from_model=None, fix_batches_to_gpus=False, fixed_validation_seed=None, force_anneal=None, fp16=False, fp16_init_scale=128, fp16_no_flatten_grads=False, fp16_scale_tolerance=0.0, fp16_scale_window=None, gen_subset='test', input='-', iter_decode_eos_penalty=0.0, iter_decode_force_max_iter=False, iter_decode_max_iter=10, iter_decode_with_beam=1, iter_decode_with_external_reranker=False, keep_best_checkpoints=-1, keep_interval_updates=-1, keep_last_epochs=-1, left_pad_source='True', left_pad_target='False', lenpen=1, lm_path=None, lm_weight=0.0, load_alignments=False, localsgd_frequency=3, log_format=None, log_interval=100, lr_scheduler='fixed', lr_shrink=0.1, match_source_len=False, max_len_a=0, max_len_b=200, max_source_positions=1024, max_target_positions=1024, max_tokens=None, max_tokens_valid=None, maximize_best_checkpoint_metric=False, memory_efficient_bf16=False, memory_efficient_fp16=False, min_len=1, min_loss_scale=0.0001, model_overrides='{}', model_parallel_size=1, moses_no_dash_splits=False, moses_no_escape=False, nbest=1, no_beamable_mm=False, no_early_stop=False, no_epoch_checkpoints=False, no_last_checkpoints=False, no_progress_bar=False, no_repeat_ngram_size=0, no_save=False, no_save_optimizer_state=False, no_seed_provided=False, nprocs_per_node=1, num_batch_buckets=0, num_shards=1, num_workers=1, optimizer=None, optimizer_overrides='{}', pad=1, path='trained_model/model.pt', patience=-1, pipeline_balance=None, pipeline_checkpoint='never', pipeline_chunks=0, pipeline_decoder_balance=None, pipeline_decoder_devices=None, pipeline_devices=None, pipeline_encoder_balance=None, pipeline_encoder_devices=None, pipeline_model_parallel=False, post_process=None, prefix_size=0, print_alignment=False, print_step=False, profile=False, quantization_config_path=None, quiet=False, replace_unk=None, required_batch_size_multiple=8, required_seq_len_multiple=1, reset_dataloader=False, reset_logging=True, reset_lr_scheduler=False, reset_meters=False, reset_optimizer=False, restore_file='checkpoint_last.pt', results_path=None, retain_dropout=False, retain_dropout_modules=None, retain_iter_history=False, sacrebleu=False, sampling=False, sampling_topk=-1, sampling_topp=-1.0, save_dir='checkpoints', save_interval=1, save_interval_updates=0, score_reference=False, scoring='bleu', seed=1, shard_id=0, skip_invalid_size_inputs_valid_test=False, slowmo_algorithm='LocalSGD', slowmo_momentum=None, source_lang='de', target_lang='en', task='translation', temperature=1.0, tensorboard_logdir=None, threshold_loss_scale=None, tokenizer='moses', tpu=False, train_subset='train', truncate_source=False, unk=3, unkpen=0, unnormalized=False, upsample_primary=1, user_dir=None, valid_subset='valid', validate_after_updates=0, validate_interval=1, validate_interval_updates=0, wandb_project=None, warmup_updates=0, zero_sharding='none'), 'criterion': {'_name': 'cross_entropy', 'sentence_avg': False}, 'optimizer': None, 'lr_scheduler': {'_name': 'fixed', 'force_anneal': None, 'lr_shrink': 0.1, 'warmup_updates': 0, 'lr': [0.25]}, 'scoring': {'_name': 'bleu', 'pad': 1, 'eos': 2, 'unk': 3}, 'bpe': None, 'tokenizer': {'_name': 'moses', 'source_lang': 'de', 'target_lang': 'en', 'moses_no_dash_splits': False, 'moses_no_escape': False}}\n",
            "2020-11-25 05:50:00 | INFO | fairseq.tasks.translation | [de] dictionary: 7864 types\n",
            "2020-11-25 05:50:00 | INFO | fairseq.tasks.translation | [en] dictionary: 5928 types\n",
            "2020-11-25 05:50:00 | INFO | fairseq_cli.interactive | loading model(s) from trained_model/model.pt\n",
            "2020-11-25 05:50:00 | INFO | fairseq_cli.interactive | NOTE: hypothesis and token scores are output in base 2\n",
            "2020-11-25 05:50:00 | INFO | fairseq_cli.interactive | Type the input sentence and press return:\n",
            "eine frau in einem raum singt in ein mikrofon.\n",
            "S-0\teine frau in einem raum singt in ein mikrofon .\n",
            "W-0\t0.121\tseconds\n",
            "H-0\t-0.12027940154075623\ta woman in a room sings into a microphone .\n",
            "D-0\t-0.12027940154075623\ta woman in a room sings into a microphone.\n",
            "P-0\t-0.0445 -0.0208 -0.2305 -0.0010 -0.0054 -0.9323 -0.0230 -0.0094 -0.0006 -0.0555 -0.0000\n",
            "Traceback (most recent call last):\n",
            "  File \"/usr/local/bin/fairseq-interactive\", line 33, in <module>\n",
            "    sys.exit(load_entry_point('fairseq', 'console_scripts', 'fairseq-interactive')())\n",
            "  File \"/content/fairseq/fairseq_cli/interactive.py\", line 318, in cli_main\n",
            "    distributed_utils.call_main(convert_namespace_to_omegaconf(args), main)\n",
            "  File \"/content/fairseq/fairseq/distributed_utils.py\", line 334, in call_main\n",
            "    main(cfg, **kwargs)\n",
            "  File \"/content/fairseq/fairseq_cli/interactive.py\", line 214, in main\n",
            "  File \"/content/fairseq/fairseq_cli/interactive.py\", line 46, in buffered_read\n",
            "    for src_str in h:\n",
            "  File \"/usr/lib/python3.6/fileinput.py\", line 250, in __next__\n",
            "    line = self._readline()\n",
            "KeyboardInterrupt\n",
            "2020-11-25 05:51:52 | INFO | wandb.sdk.internal.internal | Internal process exited\n"
          ]
        }
      ],
      "source": [
        "! fairseq-interactive \\\n",
        "  --path trained_model/model.pt \\\n",
        "  --source-lang de --target-lang en \\\n",
        "  --tokenizer moses \\\n",
        "  --task translation --cpu \\\n",
        "  --beam 5 \\\n",
        "  trained_model/"
      ]
    }
  ],
  "metadata": {
    "accelerator": "GPU",
    "colab": {
      "provenance": []
    },
    "kernelspec": {
      "display_name": "Python 3",
      "name": "python3"
    },
    "language_info": {
      "codemirror_mode": {
        "name": "ipython",
        "version": 3
      },
      "file_extension": ".py",
      "mimetype": "text/x-python",
      "name": "python",
      "nbconvert_exporter": "python",
      "pygments_lexer": "ipython3",
      "version": "3.10.6"
    }
  },
  "nbformat": 4,
  "nbformat_minor": 0
}
